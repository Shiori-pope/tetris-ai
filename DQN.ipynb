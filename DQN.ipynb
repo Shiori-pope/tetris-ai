{
 "cells": [
  {
   "cell_type": "code",
   "execution_count": 9,
   "id": "e185e482",
   "metadata": {},
   "outputs": [],
   "source": [
    "import numpy as np\n",
    "def place_piece_in_center(piece_body, board_shape=(4, 4)):\n",
    "    \"\"\"\n",
    "    将方块放置到空棋盘的中央位置\n",
    "    参数:\n",
    "    piece_body: 方块的body数组 (numpy array)\n",
    "    board_shape: 棋盘大小，默认(20, 10)\n",
    "    \n",
    "    返回:\n",
    "    centered_board: 包含居中方块的棋盘\n",
    "    center_pos: 方块在棋盘上的中心位置 (row, col)\n",
    "    \"\"\"\n",
    "    board_height, board_width = board_shape\n",
    "    piece_height, piece_width = piece_body.shape\n",
    "    # 计算中心位置\n",
    "    center_row = (board_height - piece_height) // 2\n",
    "    center_col = (board_width - piece_width) // 2\n",
    "    # 创建空棋盘\n",
    "    centered_board = np.zeros(board_shape, dtype=bool)\n",
    "    # 将方块放置到中心位置\n",
    "    centered_board[center_row:center_row + piece_height, center_col:center_col + piece_width] |= piece_body\n",
    "    return centered_board\n",
    "def expand_to_4_rotations(X):\n",
    "    # X: (N, 4, 4) -> (N, 4, 4, 4)\n",
    "    rotations = [np.rot90(X, k=i, axes=(1, 2)) for i in range(4)]  # 每次绕 (4,4) 平面旋转\n",
    "    return np.stack(rotations, axis=1)  # (N, 4, 4, 4)"
   ]
  },
  {
   "cell_type": "code",
   "execution_count": 10,
   "id": "b15071fe",
   "metadata": {},
   "outputs": [],
   "source": [
    "import numpy as np\n",
    "import torch\n",
    "import torch.nn as nn\n",
    "import torch.nn.functional as F\n",
    "from tetris import toolF,TetrisGame,place_piece_in_center\n",
    "from tnn import TetrisNN,TetrisNN3,FrontEndNet,miniNN33\n",
    "class TetrisDQN(nn.Module):\n",
    "    def __init__(self, num_actions=120, dropout_rate=0.3):  # 10*4*3 = 120个可能的动作组合\n",
    "        super().__init__()\n",
    "        # 重用TetrisNN的特征提取部分\n",
    "        self.frontend = FrontEndNet()\n",
    "        self.nowpiece = miniNN33()\n",
    "        self.nextpiece = miniNN33()\n",
    "        \n",
    "        # 重用共享层\n",
    "        self.shared_fc = nn.Sequential(\n",
    "            nn.Linear(128 + 32 + 32, 256),\n",
    "            nn.ReLU(),\n",
    "            nn.Dropout(dropout_rate),\n",
    "            nn.Linear(256, 128),\n",
    "            nn.ReLU(),\n",
    "            nn.Dropout(dropout_rate)\n",
    "        )\n",
    "        \n",
    "        # DQN输出头 - 输出每个动作的Q值\n",
    "        self.q_head = nn.Sequential(\n",
    "            nn.Linear(128, 256),\n",
    "            nn.ReLU(),\n",
    "            nn.Dropout(dropout_rate),\n",
    "            nn.Linear(256, 128),\n",
    "            nn.ReLU(),\n",
    "            nn.Dropout(dropout_rate),\n",
    "            nn.Linear(128, num_actions)  # 输出所有可能动作的Q值\n",
    "        )\n",
    "\n",
    "    def forward(self, x_board, x_now, x_next):\n",
    "        # 特征提取（与TetrisNN相同）\n",
    "        board_features = self.frontend(x_board)    # (B, 128)\n",
    "        piece_features1 = self.nowpiece(x_now)     # (B, 32)\n",
    "        piece_features2 = self.nextpiece(x_next)   # (B, 32)\n",
    "        \n",
    "        # 特征融合\n",
    "        combined_features = torch.cat([board_features, piece_features1, piece_features2], dim=1)  # (B, 192)\n",
    "        shared_features = self.shared_fc(combined_features)  # (B, 128)\n",
    "        \n",
    "        # 输出Q值\n",
    "        q_values = self.q_head(shared_features)  # (B, num_actions)\n",
    "        \n",
    "        return q_values\n",
    "def load_pretrained_tetris_to_dqn(dqn_model, tetris_model_path):\n",
    "    \"\"\"\n",
    "    从预训练的TetrisNN模型加载参数到DQN模型\n",
    "    \n",
    "    Args:\n",
    "        dqn_model: TetrisDQN实例\n",
    "        tetris_model_path: 预训练TetrisNN模型的路径\n",
    "    \"\"\"\n",
    "    # 加载预训练的TetrisNN参数\n",
    "    tetris_checkpoint = torch.load(tetris_model_path, map_location='cpu')\n",
    "    \n",
    "    # 如果保存的是完整模型状态\n",
    "    if 'model_state_dict' in tetris_checkpoint:\n",
    "        tetris_state_dict = tetris_checkpoint['model_state_dict']\n",
    "    else:\n",
    "        tetris_state_dict = tetris_checkpoint\n",
    "    \n",
    "    # 获取DQN模型的状态字典\n",
    "    dqn_state_dict = dqn_model.state_dict()\n",
    "    \n",
    "    # 复制共享的参数\n",
    "    shared_keys = [\n",
    "        # FrontEndNet参数\n",
    "        'frontend.conv1.0.weight', 'frontend.conv1.0.bias',\n",
    "        'frontend.conv1.1.weight', 'frontend.conv1.1.bias',\n",
    "        'frontend.conv1.1.running_mean', 'frontend.conv1.1.running_var',\n",
    "        'frontend.conv2.0.weight', 'frontend.conv2.0.bias',\n",
    "        'frontend.conv2.1.weight', 'frontend.conv2.1.bias',\n",
    "        'frontend.conv2.1.running_mean', 'frontend.conv2.1.running_var',\n",
    "        'frontend.incep1.branch1.weight', 'frontend.incep1.branch1.bias',\n",
    "        'frontend.incep1.branch2.0.weight', 'frontend.incep1.branch2.0.bias',\n",
    "        'frontend.incep1.branch2.2.weight', 'frontend.incep1.branch2.2.bias',\n",
    "        'frontend.incep1.branch3.0.weight', 'frontend.incep1.branch3.0.bias',\n",
    "        'frontend.incep1.branch3.2.weight', 'frontend.incep1.branch3.2.bias',\n",
    "        'frontend.incep1.branch4.1.weight', 'frontend.incep1.branch4.1.bias',\n",
    "        'frontend.bn1.weight', 'frontend.bn1.bias',\n",
    "        'frontend.bn1.running_mean', 'frontend.bn1.running_var',\n",
    "        'frontend.conv3.weight', 'frontend.conv3.bias',\n",
    "        'frontend.conv4.weight', 'frontend.conv4.bias',\n",
    "        \n",
    "        # miniNN3参数\n",
    "        'nowpiece.net.0.weight', 'nowpiece.net.0.bias',      # Conv2d(4,8)\n",
    "        'nowpiece.net.2.weight', 'nowpiece.net.2.bias',      # Conv2d(8,16)\n",
    "        'nowpiece.net.6.weight', 'nowpiece.net.6.bias',      # Linear(64,32)\n",
    "        'nextpiece.net.0.weight', 'nextpiece.net.0.bias',\n",
    "        'nextpiece.net.2.weight', 'nextpiece.net.2.bias',\n",
    "        'nextpiece.net.6.weight', 'nextpiece.net.6.bias',\n",
    "        \n",
    "        # 共享FC层参数\n",
    "        'shared_fc.0.weight', 'shared_fc.0.bias',\n",
    "        'shared_fc.3.weight', 'shared_fc.3.bias'\n",
    "    ]\n",
    "    \n",
    "    # 复制参数\n",
    "    loaded_count = 0\n",
    "    for key in shared_keys:\n",
    "        if key in tetris_state_dict and key in dqn_state_dict:\n",
    "            dqn_state_dict[key].copy_(tetris_state_dict[key])\n",
    "            loaded_count += 1\n",
    "            print(f\"✓ Loaded: {key}\")\n",
    "        else:\n",
    "            print(f\"✗ Missing: {key}\")\n",
    "    \n",
    "    print(f\"\\n成功加载 {loaded_count}/{len(shared_keys)} 个预训练参数\")\n",
    "    print(\"注意: Q网络输出头参数将保持随机初始化\")\n",
    "    \n",
    "    return dqn_model\n",
    "\n",
    "\n",
    "# 动作编码/解码工具函数\n",
    "def encode_action(translation, rotation, slide):\n",
    "    \"\"\"\n",
    "    将动作三元组编码为单一动作索引\n",
    "    \n",
    "    Args:\n",
    "        translation: -4 到 5 (编码为 0-9)\n",
    "        rotation: 0-3\n",
    "        slide: -1,0,1 (编码为 0-2)\n",
    "    \n",
    "    Returns:\n",
    "        action_index: 0 到 119\n",
    "    \"\"\"\n",
    "    trans_encoded = translation + 4  # -4~5 -> 0~9\n",
    "    slide_encoded = slide + 1        # -1~1 -> 0~2\n",
    "    \n",
    "    return trans_encoded * 12 + rotation * 3 + slide_encoded\n",
    "\n",
    "def decode_action(action_index):\n",
    "    \"\"\"\n",
    "    将动作索引解码为动作三元组\n",
    "    \n",
    "    Args:\n",
    "        action_index: 0 到 119\n",
    "        \n",
    "    Returns:\n",
    "        (translation, rotation, slide)\n",
    "    \"\"\"\n",
    "    slide_encoded = action_index % 3\n",
    "    rotation = (action_index // 3) % 4\n",
    "    trans_encoded = action_index // 12\n",
    "    \n",
    "    translation = trans_encoded - 4  # 0~9 -> -4~5\n",
    "    slide = slide_encoded - 1        # 0~2 -> -1~1\n",
    "    \n",
    "    return translation, rotation, slide"
   ]
  },
  {
   "cell_type": "code",
   "execution_count": 11,
   "id": "42d2ca36",
   "metadata": {},
   "outputs": [
    {
     "name": "stdout",
     "output_type": "stream",
     "text": [
      "使用设备: cuda\n",
      "GPU: NVIDIA GeForce RTX 2060\n",
      "GPU内存: 12.9 GB\n"
     ]
    }
   ],
   "source": [
    "import torch\n",
    "import torch.nn as nn\n",
    "import torch.optim as optim\n",
    "import torch.nn.functional as F\n",
    "import numpy as np\n",
    "import random\n",
    "from collections import deque, namedtuple\n",
    "import matplotlib.pyplot as plt\n",
    "from tqdm import tqdm\n",
    "import threading\n",
    "import queue\n",
    "import time\n",
    "import multiprocessing as mp\n",
    "\n",
    "# 设置设备\n",
    "device = torch.device(\"cuda\" if torch.cuda.is_available() else \"cpu\")\n",
    "print(f\"使用设备: {device}\")\n",
    "if torch.cuda.is_available():\n",
    "    print(f\"GPU: {torch.cuda.get_device_name()}\")\n",
    "    print(f\"GPU内存: {torch.cuda.get_device_properties(0).total_memory / 1e9:.1f} GB\")\n",
    "\n",
    "# 经验回放缓冲区\n",
    "Experience = namedtuple('Experience', ['state', 'action', 'reward', 'next_state', 'done'])\n",
    "\n",
    "class ReplayBuffer:\n",
    "    def __init__(self, capacity):\n",
    "        self.buffer = deque(maxlen=capacity)\n",
    "    \n",
    "    def push(self, *args):\n",
    "        self.buffer.append(Experience(*args))\n",
    "    \n",
    "    def sample(self, batch_size):\n",
    "        return random.sample(self.buffer, batch_size)\n",
    "    \n",
    "    def __len__(self):\n",
    "        return len(self.buffer)\n",
    "\n",
    "class PrioritizedReplayBuffer:\n",
    "    \"\"\"优先级经验回放\"\"\"\n",
    "    def __init__(self, capacity, alpha=0.6):\n",
    "        self.capacity = capacity\n",
    "        self.alpha = alpha\n",
    "        self.buffer = []\n",
    "        self.priorities = np.zeros((capacity,), dtype=np.float32)\n",
    "        self.pos = 0\n",
    "        self.max_priority = 1.0\n",
    "    \n",
    "    def push(self, *args):\n",
    "        experience = Experience(*args)\n",
    "        \n",
    "        if len(self.buffer) < self.capacity:\n",
    "            self.buffer.append(experience)\n",
    "        else:\n",
    "            self.buffer[self.pos] = experience\n",
    "        \n",
    "        self.priorities[self.pos] = self.max_priority\n",
    "        self.pos = (self.pos + 1) % self.capacity\n",
    "    \n",
    "    def sample(self, batch_size, beta=0.4):\n",
    "        if len(self.buffer) == self.capacity:\n",
    "            priorities = self.priorities\n",
    "        else:\n",
    "            priorities = self.priorities[:self.pos]\n",
    "        \n",
    "        probs = priorities ** self.alpha\n",
    "        probs /= probs.sum()\n",
    "        \n",
    "        indices = np.random.choice(len(self.buffer), batch_size, p=probs)\n",
    "        samples = [self.buffer[idx] for idx in indices]\n",
    "        \n",
    "        total = len(self.buffer)\n",
    "        weights = (total * probs[indices]) ** (-beta)\n",
    "        weights /= weights.max()\n",
    "        \n",
    "        return samples, indices, torch.FloatTensor(weights).to(device)\n",
    "    \n",
    "    def update_priorities(self, indices, priorities):\n",
    "        for idx, priority in zip(indices, priorities):\n",
    "            self.priorities[idx] = priority\n",
    "            self.max_priority = max(self.max_priority, priority)\n",
    "    \n",
    "    def __len__(self):\n",
    "        return len(self.buffer)\n",
    "\n",
    "class TetrisEnvironment:\n",
    "    \"\"\"基于真实俄罗斯方块游戏的DQN环境\"\"\"\n",
    "    def __init__(self, seed=None):\n",
    "        self.seed = seed or np.random.randint(0, 10000)\n",
    "        self.reset()\n",
    "    \n",
    "    def reset(self):\n",
    "        \"\"\"重置游戏环境\"\"\"\n",
    "        self.game = TetrisGame(rows=20, cols=10, seed=self.seed)\n",
    "        self.total_lines_cleared = 0\n",
    "        self.step_count = 0\n",
    "        self.max_height_history = []\n",
    "        return self.get_state()\n",
    "    \n",
    "    def get_state(self):\n",
    "        \"\"\"获取当前状态 - 返回神经网络需要的三个输入\"\"\"\n",
    "        # 1. 棋盘状态：20×10 -> 20×20 (左右各填充5列)\n",
    "        board = self.game.board.astype(np.float32)  # (20, 10)\n",
    "        \n",
    "        # 左右各填充5列空白\n",
    "        padded_board = np.pad(board, ((0, 0), (5, 5)), mode='constant', constant_values=0)  # (20, 20)\n",
    "        \n",
    "        # 转换为tensor格式 (1, 1, 20, 20)\n",
    "        board_state = torch.FloatTensor(padded_board).unsqueeze(0).unsqueeze(0)\n",
    "        \n",
    "        # 2. 当前方块的4种旋转状态 (4, 4, 4)\n",
    "        current_piece = place_piece_in_center(self.game.current.body)\n",
    "        current_rotations = expand_to_4_rotations(current_piece[None])\n",
    "        current_tensor = torch.FloatTensor(current_rotations.squeeze(0))\n",
    "        \n",
    "        # 3. 下一个方块的4种旋转状态 (4, 4, 4)\n",
    "        next_piece = place_piece_in_center(self.game.next.body)\n",
    "        next_rotations = expand_to_4_rotations(next_piece[None])\n",
    "        next_tensor = torch.FloatTensor(next_rotations.squeeze(0))\n",
    "        \n",
    "        return board_state, current_tensor, next_tensor\n",
    "    def step(self, action):\n",
    "        \"\"\"执行一个动作\"\"\"\n",
    "        # 解码动作\n",
    "        translation, rotation, slide = decode_action(action)\n",
    "        \n",
    "        # 记录执行前的状态\n",
    "        old_score = self.game.score\n",
    "        old_lines = getattr(self.game, 'lines_cleared', 0)\n",
    "        old_height = self._get_board_height()\n",
    "        \n",
    "        # 执行动作\n",
    "        reward = 0.0\n",
    "        done = False\n",
    "        \n",
    "        try:\n",
    "            # 1. 先执行旋转\n",
    "            for _ in range(rotation % self.game.current.rotateCount):\n",
    "                success = self.game.rotate()\n",
    "                if not success:\n",
    "                    break\n",
    "            \n",
    "            # 2. 然后执行水平移动\n",
    "            if translation != 0:\n",
    "                for _ in range(abs(translation)):\n",
    "                    direction = 1 if translation > 0 else -1\n",
    "                    success = self.game.move(direction)\n",
    "                    if not success:\n",
    "                        break\n",
    "            \n",
    "            # 3. 最后执行垂直移动/下落            \n",
    "            if slide == 0:\n",
    "                # 直接快速下落\n",
    "                lines_cleared = self.game.step(4)\n",
    "            else:\n",
    "                # 先下落到底部\n",
    "                while not self.game._collides(self.game.current, [self.game.current_pos[0] + 1, self.game.current_pos[1]]):\n",
    "                    self.game.step(0)  # 向下移动一格\n",
    "                # 执行滑行\n",
    "                if slide == -1:\n",
    "                    self.game.step(1)  # 左滑\n",
    "                elif slide == 1:\n",
    "                    self.game.step(2)  # 右滑\n",
    "                # 强制落锁\n",
    "                lines_cleared = self.game.step(4)\n",
    "            \n",
    "            reward += self._calculate_lock_reward(lines_cleared, old_height)\n",
    "            # 检查游戏是否结束\n",
    "            done = getattr(self.game, 'game_over', False)\n",
    "            if done and self.step_count<40:\n",
    "                # 如果游戏结束且步数少于40，给予较大惩罚\n",
    "                reward -= (40-self.step_count) * 10.0\n",
    "            if self.step_count>60 and done:\n",
    "                reward+= 100.0\n",
    "        except Exception as e:\n",
    "            print(f\"Error in step: {e}\")\n",
    "            done = True\n",
    "            reward = -100.0\n",
    "        \n",
    "        self.step_count += 1\n",
    "        next_state = self.get_state()\n",
    "        \n",
    "        return next_state, reward, done\n",
    "    \n",
    "    def _calculate_lock_reward(self, lines_cleared, old_height):\n",
    "        \"\"\"计算方块锁定时的奖励\"\"\"\n",
    "        reward = 0.0\n",
    "        \n",
    "        # 1. 消除行数奖励（主要奖励）\n",
    "        if lines_cleared > 0:\n",
    "            line_rewards = {1: 300, 2: 700, 3: 1500, 4: 2000}\n",
    "            reward += line_rewards.get(lines_cleared, lines_cleared * 200)\n",
    "            self.total_lines_cleared += lines_cleared\n",
    "\n",
    "        \n",
    "        # 3. 计算layers惩罚（重点惩罚空洞层）\n",
    "        board = self.game.board.astype(np.int8)\n",
    "        # 计算空洞层数：上面是填充块，下面是空块的情况\n",
    "        layers = ((board[:-1] == 1) & (board[1:] == 0)).sum() / 10\n",
    "        # print(f\"空洞层数: {layers}\")\n",
    "        reward -= layers*0.2  # 重点惩罚空洞层\n",
    "        if layers < 0.1:\n",
    "            reward += 15\n",
    "        # 5. 计算special_var惩罚（高度分布不均匀性）\n",
    "        height_array = np.zeros(self.game.cols)\n",
    "        for col in range(self.game.cols):\n",
    "            column = board[:, col]\n",
    "            filled_indices = np.where(column)[0]\n",
    "            if len(filled_indices) > 0:\n",
    "                height_array[col] = self.game.rows - filled_indices[0]\n",
    "            else:\n",
    "                height_array[col] = 0\n",
    "        \n",
    "        # 计算special_var\n",
    "        real_var = board.sum(axis=0).var()\n",
    "        avg_height = np.average(height_array)\n",
    "        min_height = np.min(height_array)\n",
    "        \n",
    "        if avg_height - min_height < 5:\n",
    "            # 高度差异较小时，使用排序后的高度方差（去掉最低的一列）\n",
    "            special_var = np.sort(height_array)[1:].var() if len(height_array) > 1 else 0\n",
    "        else:\n",
    "            # 高度差异较大时，使用真实方差\n",
    "            special_var = real_var\n",
    "        \n",
    "        reward -= special_var * 0.3  # 惩罚高度分布不均匀\n",
    "        # 6. 存活步数小奖励\n",
    "        reward += 1\n",
    "        return reward\n",
    "    \n",
    "    def _get_board_height(self):\n",
    "        \"\"\"获取棋盘的最大高度\"\"\"\n",
    "        for row in range(self.game.rows):\n",
    "            if np.any(self.game.board[row]):\n",
    "                return self.game.rows - row\n",
    "        return 0\n",
    "    \n",
    "    \n",
    "    def get_info(self):\n",
    "        \"\"\"获取额外信息用于监控\"\"\"\n",
    "        return {\n",
    "            'score': self.game.score,\n",
    "            'level': self.game.level,\n",
    "            'lines_cleared': self.total_lines_cleared,\n",
    "            'step_count': self.step_count,\n",
    "            'board_height': self._get_board_height()    \n",
    "        }\n"
   ]
  },
  {
   "cell_type": "code",
   "execution_count": 12,
   "id": "8da3d173",
   "metadata": {},
   "outputs": [
    {
     "name": "stderr",
     "output_type": "stream",
     "text": [
      "Training:  62%|██████▏   | 61902/100000 [2:40:25<1:35:00,  6.68it/s]"
     ]
    },
    {
     "name": "stdout",
     "output_type": "stream",
     "text": [
      "\n",
      "Episode 61900\n",
      "平均奖励: -56.98\n",
      "平均长度: 28.7\n",
      "平均损失: 1.0620\n",
      "平均消行: 0.14\n",
      "Epsilon: 0.050\n",
      "学习率: 0.000500\n",
      "缓冲区大小: 10000\n"
     ]
    },
    {
     "name": "stderr",
     "output_type": "stream",
     "text": [
      "Training:  62%|██████▏   | 62002/100000 [2:40:41<2:50:14,  3.72it/s]"
     ]
    },
    {
     "name": "stdout",
     "output_type": "stream",
     "text": [
      "\n",
      "Episode 62000\n",
      "平均奖励: 8.06\n",
      "平均长度: 29.8\n",
      "平均损失: 1.0798\n",
      "平均消行: 0.31\n",
      "Epsilon: 0.050\n",
      "学习率: 0.000500\n",
      "缓冲区大小: 10000\n"
     ]
    },
    {
     "name": "stderr",
     "output_type": "stream",
     "text": [
      "Training:  62%|██████▏   | 62102/100000 [2:40:56<1:38:47,  6.39it/s]"
     ]
    },
    {
     "name": "stdout",
     "output_type": "stream",
     "text": [
      "\n",
      "Episode 62100\n",
      "平均奖励: -30.40\n",
      "平均长度: 29.2\n",
      "平均损失: 0.9845\n",
      "平均消行: 0.22\n",
      "Epsilon: 0.050\n",
      "学习率: 0.000500\n",
      "缓冲区大小: 10000\n"
     ]
    },
    {
     "name": "stderr",
     "output_type": "stream",
     "text": [
      "Training:  62%|██████▏   | 62202/100000 [2:41:11<1:35:22,  6.60it/s]"
     ]
    },
    {
     "name": "stdout",
     "output_type": "stream",
     "text": [
      "\n",
      "Episode 62200\n",
      "平均奖励: -18.70\n",
      "平均长度: 28.8\n",
      "平均损失: 0.9310\n",
      "平均消行: 0.27\n",
      "Epsilon: 0.050\n",
      "学习率: 0.000500\n",
      "缓冲区大小: 10000\n"
     ]
    },
    {
     "name": "stderr",
     "output_type": "stream",
     "text": [
      "Training:  62%|██████▏   | 62302/100000 [2:41:26<1:35:57,  6.55it/s]"
     ]
    },
    {
     "name": "stdout",
     "output_type": "stream",
     "text": [
      "\n",
      "Episode 62300\n",
      "平均奖励: 3.03\n",
      "平均长度: 29.9\n",
      "平均损失: 1.0684\n",
      "平均消行: 0.30\n",
      "Epsilon: 0.050\n",
      "学习率: 0.000500\n",
      "缓冲区大小: 10000\n"
     ]
    },
    {
     "name": "stderr",
     "output_type": "stream",
     "text": [
      "Training:  62%|██████▏   | 62402/100000 [2:41:42<1:38:33,  6.36it/s]"
     ]
    },
    {
     "name": "stdout",
     "output_type": "stream",
     "text": [
      "\n",
      "Episode 62400\n",
      "平均奖励: -20.18\n",
      "平均长度: 28.5\n",
      "平均损失: 1.1445\n",
      "平均消行: 0.29\n",
      "Epsilon: 0.050\n",
      "学习率: 0.000500\n",
      "缓冲区大小: 10000\n"
     ]
    },
    {
     "name": "stderr",
     "output_type": "stream",
     "text": [
      "Training:  63%|██████▎   | 62502/100000 [2:41:57<1:35:45,  6.53it/s]"
     ]
    },
    {
     "name": "stdout",
     "output_type": "stream",
     "text": [
      "\n",
      "Episode 62500\n",
      "平均奖励: -31.30\n",
      "平均长度: 29.1\n",
      "平均损失: 0.9319\n",
      "平均消行: 0.22\n",
      "Epsilon: 0.050\n",
      "学习率: 0.000500\n",
      "缓冲区大小: 10000\n"
     ]
    },
    {
     "name": "stderr",
     "output_type": "stream",
     "text": [
      "Training:  63%|██████▎   | 62602/100000 [2:42:12<1:34:46,  6.58it/s]"
     ]
    },
    {
     "name": "stdout",
     "output_type": "stream",
     "text": [
      "\n",
      "Episode 62600\n",
      "平均奖励: -8.44\n",
      "平均长度: 29.6\n",
      "平均损失: 1.0425\n",
      "平均消行: 0.28\n",
      "Epsilon: 0.050\n",
      "学习率: 0.000500\n",
      "缓冲区大小: 10000\n"
     ]
    },
    {
     "name": "stderr",
     "output_type": "stream",
     "text": [
      "Training:  63%|██████▎   | 62702/100000 [2:42:27<1:36:04,  6.47it/s]"
     ]
    },
    {
     "name": "stdout",
     "output_type": "stream",
     "text": [
      "\n",
      "Episode 62700\n",
      "平均奖励: -25.79\n",
      "平均长度: 29.7\n",
      "平均损失: 1.0454\n",
      "平均消行: 0.20\n",
      "Epsilon: 0.050\n",
      "学习率: 0.000500\n",
      "缓冲区大小: 10000\n"
     ]
    },
    {
     "name": "stderr",
     "output_type": "stream",
     "text": [
      "Training:  63%|██████▎   | 62802/100000 [2:42:42<1:33:45,  6.61it/s]"
     ]
    },
    {
     "name": "stdout",
     "output_type": "stream",
     "text": [
      "\n",
      "Episode 62800\n",
      "平均奖励: -40.56\n",
      "平均长度: 28.6\n",
      "平均损失: 1.0478\n",
      "平均消行: 0.20\n",
      "Epsilon: 0.050\n",
      "学习率: 0.000500\n",
      "缓冲区大小: 10000\n"
     ]
    },
    {
     "name": "stderr",
     "output_type": "stream",
     "text": [
      "Training:  63%|██████▎   | 62902/100000 [2:42:58<1:35:36,  6.47it/s]"
     ]
    },
    {
     "name": "stdout",
     "output_type": "stream",
     "text": [
      "\n",
      "Episode 62900\n",
      "平均奖励: -24.15\n",
      "平均长度: 28.2\n",
      "平均损失: 1.0872\n",
      "平均消行: 0.28\n",
      "Epsilon: 0.050\n",
      "学习率: 0.000500\n",
      "缓冲区大小: 10000\n"
     ]
    },
    {
     "name": "stderr",
     "output_type": "stream",
     "text": [
      "Training:  63%|██████▎   | 63002/100000 [2:43:13<1:34:09,  6.55it/s]"
     ]
    },
    {
     "name": "stdout",
     "output_type": "stream",
     "text": [
      "\n",
      "Episode 63000\n",
      "平均奖励: -27.38\n",
      "平均长度: 28.3\n",
      "平均损失: 1.1012\n",
      "平均消行: 0.27\n",
      "Epsilon: 0.050\n",
      "学习率: 0.000500\n",
      "缓冲区大小: 10000\n"
     ]
    },
    {
     "name": "stderr",
     "output_type": "stream",
     "text": [
      "Training:  63%|██████▎   | 63102/100000 [2:43:28<1:32:59,  6.61it/s]"
     ]
    },
    {
     "name": "stdout",
     "output_type": "stream",
     "text": [
      "\n",
      "Episode 63100\n",
      "平均奖励: -29.36\n",
      "平均长度: 29.1\n",
      "平均损失: 1.0912\n",
      "平均消行: 0.22\n",
      "Epsilon: 0.050\n",
      "学习率: 0.000500\n",
      "缓冲区大小: 10000\n"
     ]
    },
    {
     "name": "stderr",
     "output_type": "stream",
     "text": [
      "Training:  63%|██████▎   | 63202/100000 [2:43:43<1:34:10,  6.51it/s]"
     ]
    },
    {
     "name": "stdout",
     "output_type": "stream",
     "text": [
      "\n",
      "Episode 63200\n",
      "平均奖励: -53.92\n",
      "平均长度: 27.6\n",
      "平均损失: 1.0910\n",
      "平均消行: 0.20\n",
      "Epsilon: 0.050\n",
      "学习率: 0.000500\n",
      "缓冲区大小: 10000\n"
     ]
    },
    {
     "name": "stderr",
     "output_type": "stream",
     "text": [
      "Training:  63%|██████▎   | 63302/100000 [2:43:59<1:33:48,  6.52it/s]"
     ]
    },
    {
     "name": "stdout",
     "output_type": "stream",
     "text": [
      "\n",
      "Episode 63300\n",
      "平均奖励: -33.96\n",
      "平均长度: 28.9\n",
      "平均损失: 1.1198\n",
      "平均消行: 0.20\n",
      "Epsilon: 0.050\n",
      "学习率: 0.000500\n",
      "缓冲区大小: 10000\n"
     ]
    },
    {
     "name": "stderr",
     "output_type": "stream",
     "text": [
      "Training:  63%|██████▎   | 63402/100000 [2:44:14<1:34:58,  6.42it/s]"
     ]
    },
    {
     "name": "stdout",
     "output_type": "stream",
     "text": [
      "\n",
      "Episode 63400\n",
      "平均奖励: -5.98\n",
      "平均长度: 29.1\n",
      "平均损失: 1.0470\n",
      "平均消行: 0.29\n",
      "Epsilon: 0.050\n",
      "学习率: 0.000500\n",
      "缓冲区大小: 10000\n"
     ]
    },
    {
     "name": "stderr",
     "output_type": "stream",
     "text": [
      "Training:  64%|██████▎   | 63502/100000 [2:44:29<1:33:31,  6.50it/s]"
     ]
    },
    {
     "name": "stdout",
     "output_type": "stream",
     "text": [
      "\n",
      "Episode 63500\n",
      "平均奖励: -19.86\n",
      "平均长度: 29.5\n",
      "平均损失: 0.9846\n",
      "平均消行: 0.26\n",
      "Epsilon: 0.050\n",
      "学习率: 0.000500\n",
      "缓冲区大小: 10000\n"
     ]
    },
    {
     "name": "stderr",
     "output_type": "stream",
     "text": [
      "Training:  64%|██████▎   | 63602/100000 [2:44:44<1:31:24,  6.64it/s]"
     ]
    },
    {
     "name": "stdout",
     "output_type": "stream",
     "text": [
      "\n",
      "Episode 63600\n",
      "平均奖励: -29.32\n",
      "平均长度: 29.2\n",
      "平均损失: 1.0388\n",
      "平均消行: 0.23\n",
      "Epsilon: 0.050\n",
      "学习率: 0.000500\n",
      "缓冲区大小: 10000\n"
     ]
    },
    {
     "name": "stderr",
     "output_type": "stream",
     "text": [
      "Training:  64%|██████▎   | 63702/100000 [2:44:59<1:34:55,  6.37it/s]"
     ]
    },
    {
     "name": "stdout",
     "output_type": "stream",
     "text": [
      "\n",
      "Episode 63700\n",
      "平均奖励: -31.29\n",
      "平均长度: 28.7\n",
      "平均损失: 1.0084\n",
      "平均消行: 0.24\n",
      "Epsilon: 0.050\n",
      "学习率: 0.000500\n",
      "缓冲区大小: 10000\n"
     ]
    },
    {
     "name": "stderr",
     "output_type": "stream",
     "text": [
      "Training:  64%|██████▍   | 63802/100000 [2:45:14<1:32:09,  6.55it/s]"
     ]
    },
    {
     "name": "stdout",
     "output_type": "stream",
     "text": [
      "\n",
      "Episode 63800\n",
      "平均奖励: -55.44\n",
      "平均长度: 28.5\n",
      "平均损失: 1.0510\n",
      "平均消行: 0.19\n",
      "Epsilon: 0.050\n",
      "学习率: 0.000500\n",
      "缓冲区大小: 10000\n"
     ]
    },
    {
     "name": "stderr",
     "output_type": "stream",
     "text": [
      "Training:  64%|██████▍   | 63902/100000 [2:45:30<1:32:14,  6.52it/s]"
     ]
    },
    {
     "name": "stdout",
     "output_type": "stream",
     "text": [
      "\n",
      "Episode 63900\n",
      "平均奖励: 4.48\n",
      "平均长度: 29.0\n",
      "平均损失: 1.0528\n",
      "平均消行: 0.33\n",
      "Epsilon: 0.050\n",
      "学习率: 0.000500\n",
      "缓冲区大小: 10000\n"
     ]
    },
    {
     "name": "stderr",
     "output_type": "stream",
     "text": [
      "Training:  64%|██████▍   | 64002/100000 [2:45:45<2:47:51,  3.57it/s]"
     ]
    },
    {
     "name": "stdout",
     "output_type": "stream",
     "text": [
      "\n",
      "Episode 64000\n",
      "平均奖励: -10.24\n",
      "平均长度: 29.9\n",
      "平均损失: 1.0957\n",
      "平均消行: 0.28\n",
      "Epsilon: 0.050\n",
      "学习率: 0.000500\n",
      "缓冲区大小: 10000\n"
     ]
    },
    {
     "name": "stderr",
     "output_type": "stream",
     "text": [
      "Training:  64%|██████▍   | 64102/100000 [2:46:01<1:34:29,  6.33it/s]"
     ]
    },
    {
     "name": "stdout",
     "output_type": "stream",
     "text": [
      "\n",
      "Episode 64100\n",
      "平均奖励: -39.13\n",
      "平均长度: 29.3\n",
      "平均损失: 1.0949\n",
      "平均消行: 0.21\n",
      "Epsilon: 0.050\n",
      "学习率: 0.000500\n",
      "缓冲区大小: 10000\n"
     ]
    },
    {
     "name": "stderr",
     "output_type": "stream",
     "text": [
      "Training:  64%|██████▍   | 64202/100000 [2:46:16<1:33:09,  6.40it/s]"
     ]
    },
    {
     "name": "stdout",
     "output_type": "stream",
     "text": [
      "\n",
      "Episode 64200\n",
      "平均奖励: -23.55\n",
      "平均长度: 29.0\n",
      "平均损失: 1.0693\n",
      "平均消行: 0.28\n",
      "Epsilon: 0.050\n",
      "学习率: 0.000500\n",
      "缓冲区大小: 10000\n"
     ]
    },
    {
     "name": "stderr",
     "output_type": "stream",
     "text": [
      "Training:  64%|██████▍   | 64302/100000 [2:46:31<1:30:02,  6.61it/s]"
     ]
    },
    {
     "name": "stdout",
     "output_type": "stream",
     "text": [
      "\n",
      "Episode 64300\n",
      "平均奖励: 10.36\n",
      "平均长度: 29.1\n",
      "平均损失: 1.1112\n",
      "平均消行: 0.35\n",
      "Epsilon: 0.050\n",
      "学习率: 0.000500\n",
      "缓冲区大小: 10000\n"
     ]
    },
    {
     "name": "stderr",
     "output_type": "stream",
     "text": [
      "Training:  64%|██████▍   | 64402/100000 [2:46:46<1:31:22,  6.49it/s]"
     ]
    },
    {
     "name": "stdout",
     "output_type": "stream",
     "text": [
      "\n",
      "Episode 64400\n",
      "平均奖励: 4.43\n",
      "平均长度: 29.1\n",
      "平均损失: 1.1288\n",
      "平均消行: 0.33\n",
      "Epsilon: 0.050\n",
      "学习率: 0.000500\n",
      "缓冲区大小: 10000\n"
     ]
    },
    {
     "name": "stderr",
     "output_type": "stream",
     "text": [
      "Training:  65%|██████▍   | 64502/100000 [2:47:02<1:34:05,  6.29it/s]"
     ]
    },
    {
     "name": "stdout",
     "output_type": "stream",
     "text": [
      "\n",
      "Episode 64500\n",
      "平均奖励: -37.61\n",
      "平均长度: 28.1\n",
      "平均损失: 1.1704\n",
      "平均消行: 0.24\n",
      "Epsilon: 0.050\n",
      "学习率: 0.000500\n",
      "缓冲区大小: 10000\n"
     ]
    },
    {
     "name": "stderr",
     "output_type": "stream",
     "text": [
      "Training:  65%|██████▍   | 64602/100000 [2:47:17<1:29:16,  6.61it/s]"
     ]
    },
    {
     "name": "stdout",
     "output_type": "stream",
     "text": [
      "\n",
      "Episode 64600\n",
      "平均奖励: -13.53\n",
      "平均长度: 29.0\n",
      "平均损失: 1.1754\n",
      "平均消行: 0.28\n",
      "Epsilon: 0.050\n",
      "学习率: 0.000500\n",
      "缓冲区大小: 10000\n"
     ]
    },
    {
     "name": "stderr",
     "output_type": "stream",
     "text": [
      "Training:  65%|██████▍   | 64702/100000 [2:47:32<1:30:13,  6.52it/s]"
     ]
    },
    {
     "name": "stdout",
     "output_type": "stream",
     "text": [
      "\n",
      "Episode 64700\n",
      "平均奖励: -29.47\n",
      "平均长度: 29.2\n",
      "平均损失: 1.0831\n",
      "平均消行: 0.22\n",
      "Epsilon: 0.050\n",
      "学习率: 0.000500\n",
      "缓冲区大小: 10000\n"
     ]
    },
    {
     "name": "stderr",
     "output_type": "stream",
     "text": [
      "Training:  65%|██████▍   | 64802/100000 [2:47:47<1:29:18,  6.57it/s]"
     ]
    },
    {
     "name": "stdout",
     "output_type": "stream",
     "text": [
      "\n",
      "Episode 64800\n",
      "平均奖励: -41.47\n",
      "平均长度: 28.5\n",
      "平均损失: 1.0931\n",
      "平均消行: 0.19\n",
      "Epsilon: 0.050\n",
      "学习率: 0.000500\n",
      "缓冲区大小: 10000\n"
     ]
    },
    {
     "name": "stderr",
     "output_type": "stream",
     "text": [
      "Training:  65%|██████▍   | 64902/100000 [2:48:02<1:29:31,  6.53it/s]"
     ]
    },
    {
     "name": "stdout",
     "output_type": "stream",
     "text": [
      "\n",
      "Episode 64900\n",
      "平均奖励: -25.85\n",
      "平均长度: 28.9\n",
      "平均损失: 1.1216\n",
      "平均消行: 0.25\n",
      "Epsilon: 0.050\n",
      "学习率: 0.000500\n",
      "缓冲区大小: 10000\n"
     ]
    },
    {
     "name": "stderr",
     "output_type": "stream",
     "text": [
      "Training:  65%|██████▌   | 65002/100000 [2:48:18<1:28:29,  6.59it/s]"
     ]
    },
    {
     "name": "stdout",
     "output_type": "stream",
     "text": [
      "\n",
      "Episode 65000\n",
      "平均奖励: -14.16\n",
      "平均长度: 29.7\n",
      "平均损失: 1.0195\n",
      "平均消行: 0.26\n",
      "Epsilon: 0.050\n",
      "学习率: 0.000500\n",
      "缓冲区大小: 10000\n"
     ]
    },
    {
     "name": "stderr",
     "output_type": "stream",
     "text": [
      "Training:  65%|██████▌   | 65102/100000 [2:48:33<1:27:11,  6.67it/s]"
     ]
    },
    {
     "name": "stdout",
     "output_type": "stream",
     "text": [
      "\n",
      "Episode 65100\n",
      "平均奖励: -55.83\n",
      "平均长度: 28.2\n",
      "平均损失: 1.1436\n",
      "平均消行: 0.18\n",
      "Epsilon: 0.050\n",
      "学习率: 0.000500\n",
      "缓冲区大小: 10000\n"
     ]
    },
    {
     "name": "stderr",
     "output_type": "stream",
     "text": [
      "Training:  65%|██████▌   | 65202/100000 [2:48:48<1:27:20,  6.64it/s]"
     ]
    },
    {
     "name": "stdout",
     "output_type": "stream",
     "text": [
      "\n",
      "Episode 65200\n",
      "平均奖励: -3.61\n",
      "平均长度: 29.2\n",
      "平均损失: 1.0331\n",
      "平均消行: 0.32\n",
      "Epsilon: 0.050\n",
      "学习率: 0.000500\n",
      "缓冲区大小: 10000\n"
     ]
    },
    {
     "name": "stderr",
     "output_type": "stream",
     "text": [
      "Training:  65%|██████▌   | 65302/100000 [2:49:03<1:28:54,  6.50it/s]"
     ]
    },
    {
     "name": "stdout",
     "output_type": "stream",
     "text": [
      "\n",
      "Episode 65300\n",
      "平均奖励: -66.74\n",
      "平均长度: 27.7\n",
      "平均损失: 1.0201\n",
      "平均消行: 0.20\n",
      "Epsilon: 0.050\n",
      "学习率: 0.000500\n",
      "缓冲区大小: 10000\n"
     ]
    },
    {
     "name": "stderr",
     "output_type": "stream",
     "text": [
      "Training:  65%|██████▌   | 65402/100000 [2:49:18<1:27:32,  6.59it/s]"
     ]
    },
    {
     "name": "stdout",
     "output_type": "stream",
     "text": [
      "\n",
      "Episode 65400\n",
      "平均奖励: -34.45\n",
      "平均长度: 28.2\n",
      "平均损失: 1.1690\n",
      "平均消行: 0.26\n",
      "Epsilon: 0.050\n",
      "学习率: 0.000500\n",
      "缓冲区大小: 10000\n"
     ]
    },
    {
     "name": "stderr",
     "output_type": "stream",
     "text": [
      "Training:  66%|██████▌   | 65502/100000 [2:49:33<1:27:37,  6.56it/s]"
     ]
    },
    {
     "name": "stdout",
     "output_type": "stream",
     "text": [
      "\n",
      "Episode 65500\n",
      "平均奖励: -31.43\n",
      "平均长度: 29.6\n",
      "平均损失: 1.1538\n",
      "平均消行: 0.20\n",
      "Epsilon: 0.050\n",
      "学习率: 0.000500\n",
      "缓冲区大小: 10000\n"
     ]
    },
    {
     "name": "stderr",
     "output_type": "stream",
     "text": [
      "Training:  66%|██████▌   | 65602/100000 [2:49:49<1:26:57,  6.59it/s]"
     ]
    },
    {
     "name": "stdout",
     "output_type": "stream",
     "text": [
      "\n",
      "Episode 65600\n",
      "平均奖励: -33.85\n",
      "平均长度: 29.3\n",
      "平均损失: 0.9817\n",
      "平均消行: 0.22\n",
      "Epsilon: 0.050\n",
      "学习率: 0.000500\n",
      "缓冲区大小: 10000\n"
     ]
    },
    {
     "name": "stderr",
     "output_type": "stream",
     "text": [
      "Training:  66%|██████▌   | 65702/100000 [2:50:04<1:26:11,  6.63it/s]"
     ]
    },
    {
     "name": "stdout",
     "output_type": "stream",
     "text": [
      "\n",
      "Episode 65700\n",
      "平均奖励: -29.82\n",
      "平均长度: 29.1\n",
      "平均损失: 1.0079\n",
      "平均消行: 0.23\n",
      "Epsilon: 0.050\n",
      "学习率: 0.000500\n",
      "缓冲区大小: 10000\n"
     ]
    },
    {
     "name": "stderr",
     "output_type": "stream",
     "text": [
      "Training:  66%|██████▌   | 65802/100000 [2:50:19<1:25:50,  6.64it/s]"
     ]
    },
    {
     "name": "stdout",
     "output_type": "stream",
     "text": [
      "\n",
      "Episode 65800\n",
      "平均奖励: -6.31\n",
      "平均长度: 29.6\n",
      "平均损失: 0.9679\n",
      "平均消行: 0.27\n",
      "Epsilon: 0.050\n",
      "学习率: 0.000500\n",
      "缓冲区大小: 10000\n"
     ]
    },
    {
     "name": "stderr",
     "output_type": "stream",
     "text": [
      "Training:  66%|██████▌   | 65902/100000 [2:50:34<1:23:42,  6.79it/s]"
     ]
    },
    {
     "name": "stdout",
     "output_type": "stream",
     "text": [
      "\n",
      "Episode 65900\n",
      "平均奖励: 20.61\n",
      "平均长度: 29.4\n",
      "平均损失: 1.2241\n",
      "平均消行: 0.35\n",
      "Epsilon: 0.050\n",
      "学习率: 0.000500\n",
      "缓冲区大小: 10000\n"
     ]
    },
    {
     "name": "stderr",
     "output_type": "stream",
     "text": [
      "Training:  66%|██████▌   | 66002/100000 [2:50:50<2:36:40,  3.62it/s]"
     ]
    },
    {
     "name": "stdout",
     "output_type": "stream",
     "text": [
      "\n",
      "Episode 66000\n",
      "平均奖励: 12.71\n",
      "平均长度: 29.9\n",
      "平均损失: 1.1623\n",
      "平均消行: 0.33\n",
      "Epsilon: 0.050\n",
      "学习率: 0.000500\n",
      "缓冲区大小: 10000\n"
     ]
    },
    {
     "name": "stderr",
     "output_type": "stream",
     "text": [
      "Training:  66%|██████▌   | 66102/100000 [2:51:05<1:24:05,  6.72it/s]"
     ]
    },
    {
     "name": "stdout",
     "output_type": "stream",
     "text": [
      "\n",
      "Episode 66100\n",
      "平均奖励: -18.82\n",
      "平均长度: 28.9\n",
      "平均损失: 1.0915\n",
      "平均消行: 0.26\n",
      "Epsilon: 0.050\n",
      "学习率: 0.000500\n",
      "缓冲区大小: 10000\n"
     ]
    },
    {
     "name": "stderr",
     "output_type": "stream",
     "text": [
      "Training:  66%|██████▌   | 66202/100000 [2:51:20<1:24:29,  6.67it/s]"
     ]
    },
    {
     "name": "stdout",
     "output_type": "stream",
     "text": [
      "\n",
      "Episode 66200\n",
      "平均奖励: -77.20\n",
      "平均长度: 27.3\n",
      "平均损失: 1.0355\n",
      "平均消行: 0.16\n",
      "Epsilon: 0.050\n",
      "学习率: 0.000500\n",
      "缓冲区大小: 10000\n"
     ]
    },
    {
     "name": "stderr",
     "output_type": "stream",
     "text": [
      "Training:  66%|██████▋   | 66302/100000 [2:51:35<1:27:18,  6.43it/s]"
     ]
    },
    {
     "name": "stdout",
     "output_type": "stream",
     "text": [
      "\n",
      "Episode 66300\n",
      "平均奖励: -16.02\n",
      "平均长度: 29.2\n",
      "平均损失: 1.1342\n",
      "平均消行: 0.28\n",
      "Epsilon: 0.050\n",
      "学习率: 0.000500\n",
      "缓冲区大小: 10000\n"
     ]
    },
    {
     "name": "stderr",
     "output_type": "stream",
     "text": [
      "Training:  66%|██████▋   | 66402/100000 [2:51:50<1:21:43,  6.85it/s]"
     ]
    },
    {
     "name": "stdout",
     "output_type": "stream",
     "text": [
      "\n",
      "Episode 66400\n",
      "平均奖励: -25.37\n",
      "平均长度: 28.6\n",
      "平均损失: 1.1473\n",
      "平均消行: 0.27\n",
      "Epsilon: 0.050\n",
      "学习率: 0.000500\n",
      "缓冲区大小: 10000\n"
     ]
    },
    {
     "name": "stderr",
     "output_type": "stream",
     "text": [
      "Training:  67%|██████▋   | 66502/100000 [2:52:05<1:23:12,  6.71it/s]"
     ]
    },
    {
     "name": "stdout",
     "output_type": "stream",
     "text": [
      "\n",
      "Episode 66500\n",
      "平均奖励: -25.14\n",
      "平均长度: 28.7\n",
      "平均损失: 1.1856\n",
      "平均消行: 0.27\n",
      "Epsilon: 0.050\n",
      "学习率: 0.000500\n",
      "缓冲区大小: 10000\n"
     ]
    },
    {
     "name": "stderr",
     "output_type": "stream",
     "text": [
      "Training:  67%|██████▋   | 66602/100000 [2:52:20<1:28:31,  6.29it/s]"
     ]
    },
    {
     "name": "stdout",
     "output_type": "stream",
     "text": [
      "\n",
      "Episode 66600\n",
      "平均奖励: -48.33\n",
      "平均长度: 28.0\n",
      "平均损失: 1.1087\n",
      "平均消行: 0.23\n",
      "Epsilon: 0.050\n",
      "学习率: 0.000500\n",
      "缓冲区大小: 10000\n"
     ]
    },
    {
     "name": "stderr",
     "output_type": "stream",
     "text": [
      "Training:  67%|██████▋   | 66702/100000 [2:52:36<1:23:50,  6.62it/s]"
     ]
    },
    {
     "name": "stdout",
     "output_type": "stream",
     "text": [
      "\n",
      "Episode 66700\n",
      "平均奖励: -64.51\n",
      "平均长度: 26.2\n",
      "平均损失: 1.0641\n",
      "平均消行: 0.26\n",
      "Epsilon: 0.050\n",
      "学习率: 0.000500\n",
      "缓冲区大小: 10000\n"
     ]
    },
    {
     "name": "stderr",
     "output_type": "stream",
     "text": [
      "Training:  67%|██████▋   | 66802/100000 [2:52:51<1:24:41,  6.53it/s]"
     ]
    },
    {
     "name": "stdout",
     "output_type": "stream",
     "text": [
      "\n",
      "Episode 66800\n",
      "平均奖励: -54.60\n",
      "平均长度: 28.1\n",
      "平均损失: 1.1131\n",
      "平均消行: 0.21\n",
      "Epsilon: 0.050\n",
      "学习率: 0.000500\n",
      "缓冲区大小: 10000\n"
     ]
    },
    {
     "name": "stderr",
     "output_type": "stream",
     "text": [
      "Training:  67%|██████▋   | 66902/100000 [2:53:06<1:24:10,  6.55it/s]"
     ]
    },
    {
     "name": "stdout",
     "output_type": "stream",
     "text": [
      "\n",
      "Episode 66900\n",
      "平均奖励: -56.43\n",
      "平均长度: 28.6\n",
      "平均损失: 1.0673\n",
      "平均消行: 0.22\n",
      "Epsilon: 0.050\n",
      "学习率: 0.000500\n",
      "缓冲区大小: 10000\n"
     ]
    },
    {
     "name": "stderr",
     "output_type": "stream",
     "text": [
      "Training:  67%|██████▋   | 67002/100000 [2:53:21<1:22:00,  6.71it/s]"
     ]
    },
    {
     "name": "stdout",
     "output_type": "stream",
     "text": [
      "\n",
      "Episode 67000\n",
      "平均奖励: -43.33\n",
      "平均长度: 28.6\n",
      "平均损失: 1.1111\n",
      "平均消行: 0.23\n",
      "Epsilon: 0.050\n",
      "学习率: 0.000500\n",
      "缓冲区大小: 10000\n"
     ]
    },
    {
     "name": "stderr",
     "output_type": "stream",
     "text": [
      "Training:  67%|██████▋   | 67102/100000 [2:53:36<1:22:04,  6.68it/s]"
     ]
    },
    {
     "name": "stdout",
     "output_type": "stream",
     "text": [
      "\n",
      "Episode 67100\n",
      "平均奖励: -47.97\n",
      "平均长度: 28.6\n",
      "平均损失: 1.0638\n",
      "平均消行: 0.21\n",
      "Epsilon: 0.050\n",
      "学习率: 0.000500\n",
      "缓冲区大小: 10000\n"
     ]
    },
    {
     "name": "stderr",
     "output_type": "stream",
     "text": [
      "Training:  67%|██████▋   | 67202/100000 [2:53:51<1:21:22,  6.72it/s]"
     ]
    },
    {
     "name": "stdout",
     "output_type": "stream",
     "text": [
      "\n",
      "Episode 67200\n",
      "平均奖励: -51.41\n",
      "平均长度: 28.4\n",
      "平均损失: 1.0329\n",
      "平均消行: 0.22\n",
      "Epsilon: 0.050\n",
      "学习率: 0.000500\n",
      "缓冲区大小: 10000\n"
     ]
    },
    {
     "name": "stderr",
     "output_type": "stream",
     "text": [
      "Training:  67%|██████▋   | 67302/100000 [2:54:06<1:22:19,  6.62it/s]"
     ]
    },
    {
     "name": "stdout",
     "output_type": "stream",
     "text": [
      "\n",
      "Episode 67300\n",
      "平均奖励: -66.83\n",
      "平均长度: 28.6\n",
      "平均损失: 1.0316\n",
      "平均消行: 0.16\n",
      "Epsilon: 0.050\n",
      "学习率: 0.000500\n",
      "缓冲区大小: 10000\n"
     ]
    },
    {
     "name": "stderr",
     "output_type": "stream",
     "text": [
      "Training:  67%|██████▋   | 67402/100000 [2:54:21<1:20:56,  6.71it/s]"
     ]
    },
    {
     "name": "stdout",
     "output_type": "stream",
     "text": [
      "\n",
      "Episode 67400\n",
      "平均奖励: -42.26\n",
      "平均长度: 28.9\n",
      "平均损失: 1.0253\n",
      "平均消行: 0.20\n",
      "Epsilon: 0.050\n",
      "学习率: 0.000500\n",
      "缓冲区大小: 10000\n"
     ]
    },
    {
     "name": "stderr",
     "output_type": "stream",
     "text": [
      "Training:  68%|██████▊   | 67502/100000 [2:54:37<1:24:27,  6.41it/s]"
     ]
    },
    {
     "name": "stdout",
     "output_type": "stream",
     "text": [
      "\n",
      "Episode 67500\n",
      "平均奖励: -21.94\n",
      "平均长度: 28.7\n",
      "平均损失: 0.9497\n",
      "平均消行: 0.30\n",
      "Epsilon: 0.050\n",
      "学习率: 0.000500\n",
      "缓冲区大小: 10000\n"
     ]
    },
    {
     "name": "stderr",
     "output_type": "stream",
     "text": [
      "Training:  68%|██████▊   | 67602/100000 [2:54:52<1:23:24,  6.47it/s]"
     ]
    },
    {
     "name": "stdout",
     "output_type": "stream",
     "text": [
      "\n",
      "Episode 67600\n",
      "平均奖励: -18.91\n",
      "平均长度: 29.8\n",
      "平均损失: 1.0080\n",
      "平均消行: 0.25\n",
      "Epsilon: 0.050\n",
      "学习率: 0.000500\n",
      "缓冲区大小: 10000\n"
     ]
    },
    {
     "name": "stderr",
     "output_type": "stream",
     "text": [
      "Training:  68%|██████▊   | 67702/100000 [2:55:07<1:21:36,  6.60it/s]"
     ]
    },
    {
     "name": "stdout",
     "output_type": "stream",
     "text": [
      "\n",
      "Episode 67700\n",
      "平均奖励: -34.28\n",
      "平均长度: 29.3\n",
      "平均损失: 1.0604\n",
      "平均消行: 0.26\n",
      "Epsilon: 0.050\n",
      "学习率: 0.000500\n",
      "缓冲区大小: 10000\n"
     ]
    },
    {
     "name": "stderr",
     "output_type": "stream",
     "text": [
      "Training:  68%|██████▊   | 67802/100000 [2:55:22<1:19:00,  6.79it/s]"
     ]
    },
    {
     "name": "stdout",
     "output_type": "stream",
     "text": [
      "\n",
      "Episode 67800\n",
      "平均奖励: -64.81\n",
      "平均长度: 27.3\n",
      "平均损失: 1.0164\n",
      "平均消行: 0.20\n",
      "Epsilon: 0.050\n",
      "学习率: 0.000500\n",
      "缓冲区大小: 10000\n"
     ]
    },
    {
     "name": "stderr",
     "output_type": "stream",
     "text": [
      "Training:  68%|██████▊   | 67902/100000 [2:55:37<1:22:04,  6.52it/s]"
     ]
    },
    {
     "name": "stdout",
     "output_type": "stream",
     "text": [
      "\n",
      "Episode 67900\n",
      "平均奖励: -56.37\n",
      "平均长度: 29.1\n",
      "平均损失: 0.9950\n",
      "平均消行: 0.19\n",
      "Epsilon: 0.050\n",
      "学习率: 0.000500\n",
      "缓冲区大小: 10000\n"
     ]
    },
    {
     "name": "stderr",
     "output_type": "stream",
     "text": [
      "Training:  68%|██████▊   | 68002/100000 [2:55:53<2:09:26,  4.12it/s]"
     ]
    },
    {
     "name": "stdout",
     "output_type": "stream",
     "text": [
      "\n",
      "Episode 68000\n",
      "平均奖励: -37.10\n",
      "平均长度: 29.3\n",
      "平均损失: 1.0334\n",
      "平均消行: 0.24\n",
      "Epsilon: 0.050\n",
      "学习率: 0.000500\n",
      "缓冲区大小: 10000\n"
     ]
    },
    {
     "name": "stderr",
     "output_type": "stream",
     "text": [
      "Training:  68%|██████▊   | 68102/100000 [2:56:07<1:19:42,  6.67it/s]"
     ]
    },
    {
     "name": "stdout",
     "output_type": "stream",
     "text": [
      "\n",
      "Episode 68100\n",
      "平均奖励: -0.60\n",
      "平均长度: 30.2\n",
      "平均损失: 1.0485\n",
      "平均消行: 0.31\n",
      "Epsilon: 0.050\n",
      "学习率: 0.000500\n",
      "缓冲区大小: 10000\n"
     ]
    },
    {
     "name": "stderr",
     "output_type": "stream",
     "text": [
      "Training:  68%|██████▊   | 68202/100000 [2:56:22<1:18:40,  6.74it/s]"
     ]
    },
    {
     "name": "stdout",
     "output_type": "stream",
     "text": [
      "\n",
      "Episode 68200\n",
      "平均奖励: -33.10\n",
      "平均长度: 29.5\n",
      "平均损失: 0.9580\n",
      "平均消行: 0.23\n",
      "Epsilon: 0.050\n",
      "学习率: 0.000500\n",
      "缓冲区大小: 10000\n"
     ]
    },
    {
     "name": "stderr",
     "output_type": "stream",
     "text": [
      "Training:  68%|██████▊   | 68302/100000 [2:56:37<1:19:36,  6.64it/s]"
     ]
    },
    {
     "name": "stdout",
     "output_type": "stream",
     "text": [
      "\n",
      "Episode 68300\n",
      "平均奖励: -18.76\n",
      "平均长度: 28.7\n",
      "平均损失: 1.0462\n",
      "平均消行: 0.30\n",
      "Epsilon: 0.050\n",
      "学习率: 0.000500\n",
      "缓冲区大小: 10000\n"
     ]
    },
    {
     "name": "stderr",
     "output_type": "stream",
     "text": [
      "Training:  68%|██████▊   | 68402/100000 [2:56:52<1:17:33,  6.79it/s]"
     ]
    },
    {
     "name": "stdout",
     "output_type": "stream",
     "text": [
      "\n",
      "Episode 68400\n",
      "平均奖励: -0.63\n",
      "平均长度: 29.0\n",
      "平均损失: 1.0775\n",
      "平均消行: 0.34\n",
      "Epsilon: 0.050\n",
      "学习率: 0.000500\n",
      "缓冲区大小: 10000\n"
     ]
    },
    {
     "name": "stderr",
     "output_type": "stream",
     "text": [
      "Training:  69%|██████▊   | 68502/100000 [2:57:07<1:19:48,  6.58it/s]"
     ]
    },
    {
     "name": "stdout",
     "output_type": "stream",
     "text": [
      "\n",
      "Episode 68500\n",
      "平均奖励: 6.62\n",
      "平均长度: 29.2\n",
      "平均损失: 1.0904\n",
      "平均消行: 0.35\n",
      "Epsilon: 0.050\n",
      "学习率: 0.000500\n",
      "缓冲区大小: 10000\n"
     ]
    },
    {
     "name": "stderr",
     "output_type": "stream",
     "text": [
      "Training:  69%|██████▊   | 68602/100000 [2:57:22<1:18:04,  6.70it/s]"
     ]
    },
    {
     "name": "stdout",
     "output_type": "stream",
     "text": [
      "\n",
      "Episode 68600\n",
      "平均奖励: -10.68\n",
      "平均长度: 29.7\n",
      "平均损失: 1.0994\n",
      "平均消行: 0.29\n",
      "Epsilon: 0.050\n",
      "学习率: 0.000500\n",
      "缓冲区大小: 10000\n"
     ]
    },
    {
     "name": "stderr",
     "output_type": "stream",
     "text": [
      "Training:  69%|██████▊   | 68702/100000 [2:57:37<1:18:14,  6.67it/s]"
     ]
    },
    {
     "name": "stdout",
     "output_type": "stream",
     "text": [
      "\n",
      "Episode 68700\n",
      "平均奖励: -65.46\n",
      "平均长度: 28.2\n",
      "平均损失: 1.0505\n",
      "平均消行: 0.19\n",
      "Epsilon: 0.050\n",
      "学习率: 0.000500\n",
      "缓冲区大小: 10000\n"
     ]
    },
    {
     "name": "stderr",
     "output_type": "stream",
     "text": [
      "Training:  69%|██████▉   | 68802/100000 [2:57:52<1:19:02,  6.58it/s]"
     ]
    },
    {
     "name": "stdout",
     "output_type": "stream",
     "text": [
      "\n",
      "Episode 68800\n",
      "平均奖励: -52.27\n",
      "平均长度: 28.4\n",
      "平均损失: 0.9737\n",
      "平均消行: 0.19\n",
      "Epsilon: 0.050\n",
      "学习率: 0.000500\n",
      "缓冲区大小: 10000\n"
     ]
    },
    {
     "name": "stderr",
     "output_type": "stream",
     "text": [
      "Training:  69%|██████▉   | 68902/100000 [2:58:07<1:19:01,  6.56it/s]"
     ]
    },
    {
     "name": "stdout",
     "output_type": "stream",
     "text": [
      "\n",
      "Episode 68900\n",
      "平均奖励: -19.49\n",
      "平均长度: 28.6\n",
      "平均损失: 1.0333\n",
      "平均消行: 0.29\n",
      "Epsilon: 0.050\n",
      "学习率: 0.000500\n",
      "缓冲区大小: 10000\n"
     ]
    },
    {
     "name": "stderr",
     "output_type": "stream",
     "text": [
      "Training:  69%|██████▉   | 69002/100000 [2:58:22<1:15:57,  6.80it/s]"
     ]
    },
    {
     "name": "stdout",
     "output_type": "stream",
     "text": [
      "\n",
      "Episode 69000\n",
      "平均奖励: -50.27\n",
      "平均长度: 28.3\n",
      "平均损失: 0.9624\n",
      "平均消行: 0.21\n",
      "Epsilon: 0.050\n",
      "学习率: 0.000500\n",
      "缓冲区大小: 10000\n"
     ]
    },
    {
     "name": "stderr",
     "output_type": "stream",
     "text": [
      "Training:  69%|██████▉   | 69102/100000 [2:58:37<1:17:10,  6.67it/s]"
     ]
    },
    {
     "name": "stdout",
     "output_type": "stream",
     "text": [
      "\n",
      "Episode 69100\n",
      "平均奖励: -30.63\n",
      "平均长度: 29.6\n",
      "平均损失: 1.0665\n",
      "平均消行: 0.23\n",
      "Epsilon: 0.050\n",
      "学习率: 0.000500\n",
      "缓冲区大小: 10000\n"
     ]
    },
    {
     "name": "stderr",
     "output_type": "stream",
     "text": [
      "Training:  69%|██████▉   | 69202/100000 [2:58:52<1:15:38,  6.79it/s]"
     ]
    },
    {
     "name": "stdout",
     "output_type": "stream",
     "text": [
      "\n",
      "Episode 69200\n",
      "平均奖励: -52.70\n",
      "平均长度: 27.9\n",
      "平均损失: 1.0120\n",
      "平均消行: 0.22\n",
      "Epsilon: 0.050\n",
      "学习率: 0.000500\n",
      "缓冲区大小: 10000\n"
     ]
    },
    {
     "name": "stderr",
     "output_type": "stream",
     "text": [
      "Training:  69%|██████▉   | 69302/100000 [2:59:07<1:19:19,  6.45it/s]"
     ]
    },
    {
     "name": "stdout",
     "output_type": "stream",
     "text": [
      "\n",
      "Episode 69300\n",
      "平均奖励: -8.61\n",
      "平均长度: 29.5\n",
      "平均损失: 0.9859\n",
      "平均消行: 0.30\n",
      "Epsilon: 0.050\n",
      "学习率: 0.000500\n",
      "缓冲区大小: 10000\n"
     ]
    },
    {
     "name": "stderr",
     "output_type": "stream",
     "text": [
      "Training:  69%|██████▉   | 69402/100000 [2:59:22<1:15:50,  6.72it/s]"
     ]
    },
    {
     "name": "stdout",
     "output_type": "stream",
     "text": [
      "\n",
      "Episode 69400\n",
      "平均奖励: -47.72\n",
      "平均长度: 28.8\n",
      "平均损失: 1.0574\n",
      "平均消行: 0.19\n",
      "Epsilon: 0.050\n",
      "学习率: 0.000500\n",
      "缓冲区大小: 10000\n"
     ]
    },
    {
     "name": "stderr",
     "output_type": "stream",
     "text": [
      "Training:  70%|██████▉   | 69502/100000 [2:59:37<1:16:54,  6.61it/s]"
     ]
    },
    {
     "name": "stdout",
     "output_type": "stream",
     "text": [
      "\n",
      "Episode 69500\n",
      "平均奖励: -111.70\n",
      "平均长度: 25.2\n",
      "平均损失: 1.0637\n",
      "平均消行: 0.14\n",
      "Epsilon: 0.050\n",
      "学习率: 0.000500\n",
      "缓冲区大小: 10000\n"
     ]
    },
    {
     "name": "stderr",
     "output_type": "stream",
     "text": [
      "Training:  70%|██████▉   | 69602/100000 [2:59:52<1:16:01,  6.66it/s]"
     ]
    },
    {
     "name": "stdout",
     "output_type": "stream",
     "text": [
      "\n",
      "Episode 69600\n",
      "平均奖励: -23.46\n",
      "平均长度: 28.9\n",
      "平均损失: 0.9769\n",
      "平均消行: 0.26\n",
      "Epsilon: 0.050\n",
      "学习率: 0.000500\n",
      "缓冲区大小: 10000\n"
     ]
    },
    {
     "name": "stderr",
     "output_type": "stream",
     "text": [
      "Training:  70%|██████▉   | 69702/100000 [3:00:07<1:18:38,  6.42it/s]"
     ]
    },
    {
     "name": "stdout",
     "output_type": "stream",
     "text": [
      "\n",
      "Episode 69700\n",
      "平均奖励: -28.06\n",
      "平均长度: 29.1\n",
      "平均损失: 0.9212\n",
      "平均消行: 0.23\n",
      "Epsilon: 0.050\n",
      "学习率: 0.000500\n",
      "缓冲区大小: 10000\n"
     ]
    },
    {
     "name": "stderr",
     "output_type": "stream",
     "text": [
      "Training:  70%|██████▉   | 69802/100000 [3:00:22<1:13:41,  6.83it/s]"
     ]
    },
    {
     "name": "stdout",
     "output_type": "stream",
     "text": [
      "\n",
      "Episode 69800\n",
      "平均奖励: -35.36\n",
      "平均长度: 28.2\n",
      "平均损失: 0.9524\n",
      "平均消行: 0.24\n",
      "Epsilon: 0.050\n",
      "学习率: 0.000500\n",
      "缓冲区大小: 10000\n"
     ]
    },
    {
     "name": "stderr",
     "output_type": "stream",
     "text": [
      "Training:  70%|██████▉   | 69902/100000 [3:00:37<1:16:05,  6.59it/s]"
     ]
    },
    {
     "name": "stdout",
     "output_type": "stream",
     "text": [
      "\n",
      "Episode 69900\n",
      "平均奖励: -23.58\n",
      "平均长度: 28.7\n",
      "平均损失: 1.0242\n",
      "平均消行: 0.28\n",
      "Epsilon: 0.050\n",
      "学习率: 0.000500\n",
      "缓冲区大小: 10000\n"
     ]
    },
    {
     "name": "stderr",
     "output_type": "stream",
     "text": [
      "Training:  70%|███████   | 70002/100000 [3:00:53<2:18:06,  3.62it/s]"
     ]
    },
    {
     "name": "stdout",
     "output_type": "stream",
     "text": [
      "\n",
      "Episode 70000\n",
      "平均奖励: 16.98\n",
      "平均长度: 29.3\n",
      "平均损失: 1.0764\n",
      "平均消行: 0.40\n",
      "Epsilon: 0.050\n",
      "学习率: 0.000500\n",
      "缓冲区大小: 10000\n"
     ]
    },
    {
     "name": "stderr",
     "output_type": "stream",
     "text": [
      "Training:  70%|███████   | 70102/100000 [3:01:07<1:17:21,  6.44it/s]"
     ]
    },
    {
     "name": "stdout",
     "output_type": "stream",
     "text": [
      "\n",
      "Episode 70100\n",
      "平均奖励: -84.56\n",
      "平均长度: 27.1\n",
      "平均损失: 1.0557\n",
      "平均消行: 0.15\n",
      "Epsilon: 0.050\n",
      "学习率: 0.000500\n",
      "缓冲区大小: 10000\n"
     ]
    },
    {
     "name": "stderr",
     "output_type": "stream",
     "text": [
      "Training:  70%|███████   | 70202/100000 [3:01:22<1:14:05,  6.70it/s]"
     ]
    },
    {
     "name": "stdout",
     "output_type": "stream",
     "text": [
      "\n",
      "Episode 70200\n",
      "平均奖励: -44.83\n",
      "平均长度: 28.2\n",
      "平均损失: 1.0221\n",
      "平均消行: 0.23\n",
      "Epsilon: 0.050\n",
      "学习率: 0.000500\n",
      "缓冲区大小: 10000\n"
     ]
    },
    {
     "name": "stderr",
     "output_type": "stream",
     "text": [
      "Training:  70%|███████   | 70302/100000 [3:01:37<1:14:07,  6.68it/s]"
     ]
    },
    {
     "name": "stdout",
     "output_type": "stream",
     "text": [
      "\n",
      "Episode 70300\n",
      "平均奖励: -49.34\n",
      "平均长度: 28.7\n",
      "平均损失: 0.9868\n",
      "平均消行: 0.18\n",
      "Epsilon: 0.050\n",
      "学习率: 0.000500\n",
      "缓冲区大小: 10000\n"
     ]
    },
    {
     "name": "stderr",
     "output_type": "stream",
     "text": [
      "Training:  70%|███████   | 70402/100000 [3:01:52<1:13:54,  6.67it/s]"
     ]
    },
    {
     "name": "stdout",
     "output_type": "stream",
     "text": [
      "\n",
      "Episode 70400\n",
      "平均奖励: 3.59\n",
      "平均长度: 29.9\n",
      "平均损失: 1.0708\n",
      "平均消行: 0.30\n",
      "Epsilon: 0.050\n",
      "学习率: 0.000500\n",
      "缓冲区大小: 10000\n"
     ]
    },
    {
     "name": "stderr",
     "output_type": "stream",
     "text": [
      "Training:  71%|███████   | 70502/100000 [3:02:07<1:13:59,  6.64it/s]"
     ]
    },
    {
     "name": "stdout",
     "output_type": "stream",
     "text": [
      "\n",
      "Episode 70500\n",
      "平均奖励: 6.45\n",
      "平均长度: 28.6\n",
      "平均损失: 1.1051\n",
      "平均消行: 0.35\n",
      "Epsilon: 0.050\n",
      "学习率: 0.000500\n",
      "缓冲区大小: 10000\n"
     ]
    },
    {
     "name": "stderr",
     "output_type": "stream",
     "text": [
      "Training:  71%|███████   | 70602/100000 [3:02:22<1:12:48,  6.73it/s]"
     ]
    },
    {
     "name": "stdout",
     "output_type": "stream",
     "text": [
      "\n",
      "Episode 70600\n",
      "平均奖励: 0.26\n",
      "平均长度: 29.0\n",
      "平均损失: 1.0650\n",
      "平均消行: 0.34\n",
      "Epsilon: 0.050\n",
      "学习率: 0.000500\n",
      "缓冲区大小: 10000\n"
     ]
    },
    {
     "name": "stderr",
     "output_type": "stream",
     "text": [
      "Training:  71%|███████   | 70702/100000 [3:02:37<1:12:59,  6.69it/s]"
     ]
    },
    {
     "name": "stdout",
     "output_type": "stream",
     "text": [
      "\n",
      "Episode 70700\n",
      "平均奖励: -14.00\n",
      "平均长度: 29.3\n",
      "平均损失: 1.1235\n",
      "平均消行: 0.26\n",
      "Epsilon: 0.050\n",
      "学习率: 0.000500\n",
      "缓冲区大小: 10000\n"
     ]
    },
    {
     "name": "stderr",
     "output_type": "stream",
     "text": [
      "Training:  71%|███████   | 70802/100000 [3:02:52<1:13:58,  6.58it/s]"
     ]
    },
    {
     "name": "stdout",
     "output_type": "stream",
     "text": [
      "\n",
      "Episode 70800\n",
      "平均奖励: -36.39\n",
      "平均长度: 28.3\n",
      "平均损失: 0.9875\n",
      "平均消行: 0.23\n",
      "Epsilon: 0.050\n",
      "学习率: 0.000500\n",
      "缓冲区大小: 10000\n"
     ]
    },
    {
     "name": "stderr",
     "output_type": "stream",
     "text": [
      "Training:  71%|███████   | 70902/100000 [3:03:07<1:13:22,  6.61it/s]"
     ]
    },
    {
     "name": "stdout",
     "output_type": "stream",
     "text": [
      "\n",
      "Episode 70900\n",
      "平均奖励: -38.87\n",
      "平均长度: 28.8\n",
      "平均损失: 1.0449\n",
      "平均消行: 0.21\n",
      "Epsilon: 0.050\n",
      "学习率: 0.000500\n",
      "缓冲区大小: 10000\n"
     ]
    },
    {
     "name": "stderr",
     "output_type": "stream",
     "text": [
      "Training:  71%|███████   | 71002/100000 [3:03:22<1:15:42,  6.38it/s]"
     ]
    },
    {
     "name": "stdout",
     "output_type": "stream",
     "text": [
      "\n",
      "Episode 71000\n",
      "平均奖励: -4.56\n",
      "平均长度: 29.4\n",
      "平均损失: 0.9834\n",
      "平均消行: 0.26\n",
      "Epsilon: 0.050\n",
      "学习率: 0.000500\n",
      "缓冲区大小: 10000\n"
     ]
    },
    {
     "name": "stderr",
     "output_type": "stream",
     "text": [
      "Training:  71%|███████   | 71102/100000 [3:03:37<1:13:02,  6.59it/s]"
     ]
    },
    {
     "name": "stdout",
     "output_type": "stream",
     "text": [
      "\n",
      "Episode 71100\n",
      "平均奖励: -30.36\n",
      "平均长度: 28.5\n",
      "平均损失: 0.9894\n",
      "平均消行: 0.22\n",
      "Epsilon: 0.050\n",
      "学习率: 0.000500\n",
      "缓冲区大小: 10000\n"
     ]
    },
    {
     "name": "stderr",
     "output_type": "stream",
     "text": [
      "Training:  71%|███████   | 71202/100000 [3:03:52<1:13:11,  6.56it/s]"
     ]
    },
    {
     "name": "stdout",
     "output_type": "stream",
     "text": [
      "\n",
      "Episode 71200\n",
      "平均奖励: -22.77\n",
      "平均长度: 28.5\n",
      "平均损失: 1.0485\n",
      "平均消行: 0.25\n",
      "Epsilon: 0.050\n",
      "学习率: 0.000500\n",
      "缓冲区大小: 10000\n"
     ]
    },
    {
     "name": "stderr",
     "output_type": "stream",
     "text": [
      "Training:  71%|███████▏  | 71302/100000 [3:04:07<1:11:18,  6.71it/s]"
     ]
    },
    {
     "name": "stdout",
     "output_type": "stream",
     "text": [
      "\n",
      "Episode 71300\n",
      "平均奖励: -40.62\n",
      "平均长度: 28.0\n",
      "平均损失: 1.1315\n",
      "平均消行: 0.24\n",
      "Epsilon: 0.050\n",
      "学习率: 0.000500\n",
      "缓冲区大小: 10000\n"
     ]
    },
    {
     "name": "stderr",
     "output_type": "stream",
     "text": [
      "Training:  71%|███████▏  | 71402/100000 [3:04:22<1:10:05,  6.80it/s]"
     ]
    },
    {
     "name": "stdout",
     "output_type": "stream",
     "text": [
      "\n",
      "Episode 71400\n",
      "平均奖励: -32.82\n",
      "平均长度: 28.4\n",
      "平均损失: 1.0691\n",
      "平均消行: 0.23\n",
      "Epsilon: 0.050\n",
      "学习率: 0.000500\n",
      "缓冲区大小: 10000\n"
     ]
    },
    {
     "name": "stderr",
     "output_type": "stream",
     "text": [
      "Training:  72%|███████▏  | 71502/100000 [3:04:37<1:11:09,  6.67it/s]"
     ]
    },
    {
     "name": "stdout",
     "output_type": "stream",
     "text": [
      "\n",
      "Episode 71500\n",
      "平均奖励: -47.68\n",
      "平均长度: 27.9\n",
      "平均损失: 1.1874\n",
      "平均消行: 0.19\n",
      "Epsilon: 0.050\n",
      "学习率: 0.000500\n",
      "缓冲区大小: 10000\n"
     ]
    },
    {
     "name": "stderr",
     "output_type": "stream",
     "text": [
      "Training:  72%|███████▏  | 71602/100000 [3:04:52<1:10:27,  6.72it/s]"
     ]
    },
    {
     "name": "stdout",
     "output_type": "stream",
     "text": [
      "\n",
      "Episode 71600\n",
      "平均奖励: -9.61\n",
      "平均长度: 28.8\n",
      "平均损失: 1.0855\n",
      "平均消行: 0.29\n",
      "Epsilon: 0.050\n",
      "学习率: 0.000500\n",
      "缓冲区大小: 10000\n"
     ]
    },
    {
     "name": "stderr",
     "output_type": "stream",
     "text": [
      "Training:  72%|███████▏  | 71702/100000 [3:05:07<1:10:55,  6.65it/s]"
     ]
    },
    {
     "name": "stdout",
     "output_type": "stream",
     "text": [
      "\n",
      "Episode 71700\n",
      "平均奖励: -31.51\n",
      "平均长度: 28.3\n",
      "平均损失: 1.0349\n",
      "平均消行: 0.23\n",
      "Epsilon: 0.050\n",
      "学习率: 0.000500\n",
      "缓冲区大小: 10000\n"
     ]
    },
    {
     "name": "stderr",
     "output_type": "stream",
     "text": [
      "Training:  72%|███████▏  | 71802/100000 [3:05:22<1:11:06,  6.61it/s]"
     ]
    },
    {
     "name": "stdout",
     "output_type": "stream",
     "text": [
      "\n",
      "Episode 71800\n",
      "平均奖励: 12.32\n",
      "平均长度: 29.9\n",
      "平均损失: 1.1450\n",
      "平均消行: 0.31\n",
      "Epsilon: 0.050\n",
      "学习率: 0.000500\n",
      "缓冲区大小: 10000\n"
     ]
    },
    {
     "name": "stderr",
     "output_type": "stream",
     "text": [
      "Training:  72%|███████▏  | 71902/100000 [3:05:37<1:10:10,  6.67it/s]"
     ]
    },
    {
     "name": "stdout",
     "output_type": "stream",
     "text": [
      "\n",
      "Episode 71900\n",
      "平均奖励: 17.05\n",
      "平均长度: 29.5\n",
      "平均损失: 1.1754\n",
      "平均消行: 0.32\n",
      "Epsilon: 0.050\n",
      "学习率: 0.000500\n",
      "缓冲区大小: 10000\n"
     ]
    },
    {
     "name": "stderr",
     "output_type": "stream",
     "text": [
      "Training:  72%|███████▏  | 72002/100000 [3:05:52<1:55:19,  4.05it/s]"
     ]
    },
    {
     "name": "stdout",
     "output_type": "stream",
     "text": [
      "\n",
      "Episode 72000\n",
      "平均奖励: -40.44\n",
      "平均长度: 26.9\n",
      "平均损失: 1.1084\n",
      "平均消行: 0.26\n",
      "Epsilon: 0.050\n",
      "学习率: 0.000500\n",
      "缓冲区大小: 10000\n"
     ]
    },
    {
     "name": "stderr",
     "output_type": "stream",
     "text": [
      "Training:  72%|███████▏  | 72102/100000 [3:06:07<1:09:31,  6.69it/s]"
     ]
    },
    {
     "name": "stdout",
     "output_type": "stream",
     "text": [
      "\n",
      "Episode 72100\n",
      "平均奖励: -7.35\n",
      "平均长度: 28.9\n",
      "平均损失: 1.2163\n",
      "平均消行: 0.27\n",
      "Epsilon: 0.050\n",
      "学习率: 0.000500\n",
      "缓冲区大小: 10000\n"
     ]
    },
    {
     "name": "stderr",
     "output_type": "stream",
     "text": [
      "Training:  72%|███████▏  | 72202/100000 [3:06:22<1:09:17,  6.69it/s]"
     ]
    },
    {
     "name": "stdout",
     "output_type": "stream",
     "text": [
      "\n",
      "Episode 72200\n",
      "平均奖励: -10.86\n",
      "平均长度: 29.1\n",
      "平均损失: 1.1396\n",
      "平均消行: 0.27\n",
      "Epsilon: 0.050\n",
      "学习率: 0.000500\n",
      "缓冲区大小: 10000\n"
     ]
    },
    {
     "name": "stderr",
     "output_type": "stream",
     "text": [
      "Training:  72%|███████▏  | 72302/100000 [3:06:37<1:12:46,  6.34it/s]"
     ]
    },
    {
     "name": "stdout",
     "output_type": "stream",
     "text": [
      "\n",
      "Episode 72300\n",
      "平均奖励: -32.85\n",
      "平均长度: 28.5\n",
      "平均损失: 1.0842\n",
      "平均消行: 0.23\n",
      "Epsilon: 0.050\n",
      "学习率: 0.000500\n",
      "缓冲区大小: 10000\n"
     ]
    },
    {
     "name": "stderr",
     "output_type": "stream",
     "text": [
      "Training:  72%|███████▏  | 72402/100000 [3:06:52<1:08:13,  6.74it/s]"
     ]
    },
    {
     "name": "stdout",
     "output_type": "stream",
     "text": [
      "\n",
      "Episode 72400\n",
      "平均奖励: -67.27\n",
      "平均长度: 26.5\n",
      "平均损失: 1.0616\n",
      "平均消行: 0.20\n",
      "Epsilon: 0.050\n",
      "学习率: 0.000500\n",
      "缓冲区大小: 10000\n"
     ]
    },
    {
     "name": "stderr",
     "output_type": "stream",
     "text": [
      "Training:  73%|███████▎  | 72502/100000 [3:07:07<1:09:24,  6.60it/s]"
     ]
    },
    {
     "name": "stdout",
     "output_type": "stream",
     "text": [
      "\n",
      "Episode 72500\n",
      "平均奖励: -32.05\n",
      "平均长度: 28.5\n",
      "平均损失: 1.0359\n",
      "平均消行: 0.21\n",
      "Epsilon: 0.050\n",
      "学习率: 0.000500\n",
      "缓冲区大小: 10000\n"
     ]
    },
    {
     "name": "stderr",
     "output_type": "stream",
     "text": [
      "Training:  73%|███████▎  | 72602/100000 [3:07:22<1:07:32,  6.76it/s]"
     ]
    },
    {
     "name": "stdout",
     "output_type": "stream",
     "text": [
      "\n",
      "Episode 72600\n",
      "平均奖励: -3.48\n",
      "平均长度: 29.3\n",
      "平均损失: 1.0886\n",
      "平均消行: 0.29\n",
      "Epsilon: 0.050\n",
      "学习率: 0.000500\n",
      "缓冲区大小: 10000\n"
     ]
    },
    {
     "name": "stderr",
     "output_type": "stream",
     "text": [
      "Training:  73%|███████▎  | 72702/100000 [3:07:37<1:07:36,  6.73it/s]"
     ]
    },
    {
     "name": "stdout",
     "output_type": "stream",
     "text": [
      "\n",
      "Episode 72700\n",
      "平均奖励: -9.33\n",
      "平均长度: 29.3\n",
      "平均损失: 1.0477\n",
      "平均消行: 0.27\n",
      "Epsilon: 0.050\n",
      "学习率: 0.000500\n",
      "缓冲区大小: 10000\n"
     ]
    },
    {
     "name": "stderr",
     "output_type": "stream",
     "text": [
      "Training:  73%|███████▎  | 72802/100000 [3:07:52<1:08:36,  6.61it/s]"
     ]
    },
    {
     "name": "stdout",
     "output_type": "stream",
     "text": [
      "\n",
      "Episode 72800\n",
      "平均奖励: -46.27\n",
      "平均长度: 28.3\n",
      "平均损失: 1.0805\n",
      "平均消行: 0.19\n",
      "Epsilon: 0.050\n",
      "学习率: 0.000500\n",
      "缓冲区大小: 10000\n"
     ]
    },
    {
     "name": "stderr",
     "output_type": "stream",
     "text": [
      "Training:  73%|███████▎  | 72902/100000 [3:08:07<1:09:58,  6.45it/s]"
     ]
    },
    {
     "name": "stdout",
     "output_type": "stream",
     "text": [
      "\n",
      "Episode 72900\n",
      "平均奖励: -14.05\n",
      "平均长度: 29.5\n",
      "平均损失: 1.0074\n",
      "平均消行: 0.23\n",
      "Epsilon: 0.050\n",
      "学习率: 0.000500\n",
      "缓冲区大小: 10000\n"
     ]
    },
    {
     "name": "stderr",
     "output_type": "stream",
     "text": [
      "Training:  73%|███████▎  | 73002/100000 [3:08:22<1:07:17,  6.69it/s]"
     ]
    },
    {
     "name": "stdout",
     "output_type": "stream",
     "text": [
      "\n",
      "Episode 73000\n",
      "平均奖励: 15.46\n",
      "平均长度: 29.7\n",
      "平均损失: 1.0730\n",
      "平均消行: 0.33\n",
      "Epsilon: 0.050\n",
      "学习率: 0.000500\n",
      "缓冲区大小: 10000\n"
     ]
    },
    {
     "name": "stderr",
     "output_type": "stream",
     "text": [
      "Training:  73%|███████▎  | 73102/100000 [3:08:37<1:06:10,  6.77it/s]"
     ]
    },
    {
     "name": "stdout",
     "output_type": "stream",
     "text": [
      "\n",
      "Episode 73100\n",
      "平均奖励: 3.79\n",
      "平均长度: 29.0\n",
      "平均损失: 1.0205\n",
      "平均消行: 0.34\n",
      "Epsilon: 0.050\n",
      "学习率: 0.000500\n",
      "缓冲区大小: 10000\n"
     ]
    },
    {
     "name": "stderr",
     "output_type": "stream",
     "text": [
      "Training:  73%|███████▎  | 73202/100000 [3:08:52<1:06:54,  6.68it/s]"
     ]
    },
    {
     "name": "stdout",
     "output_type": "stream",
     "text": [
      "\n",
      "Episode 73200\n",
      "平均奖励: -14.33\n",
      "平均长度: 29.4\n",
      "平均损失: 1.1638\n",
      "平均消行: 0.27\n",
      "Epsilon: 0.050\n",
      "学习率: 0.000500\n",
      "缓冲区大小: 10000\n"
     ]
    },
    {
     "name": "stderr",
     "output_type": "stream",
     "text": [
      "Training:  73%|███████▎  | 73302/100000 [3:09:08<1:05:43,  6.77it/s]"
     ]
    },
    {
     "name": "stdout",
     "output_type": "stream",
     "text": [
      "\n",
      "Episode 73300\n",
      "平均奖励: -49.54\n",
      "平均长度: 27.2\n",
      "平均损失: 1.1004\n",
      "平均消行: 0.25\n",
      "Epsilon: 0.050\n",
      "学习率: 0.000500\n",
      "缓冲区大小: 10000\n"
     ]
    },
    {
     "name": "stderr",
     "output_type": "stream",
     "text": [
      "Training:  73%|███████▎  | 73402/100000 [3:09:23<1:06:57,  6.62it/s]"
     ]
    },
    {
     "name": "stdout",
     "output_type": "stream",
     "text": [
      "\n",
      "Episode 73400\n",
      "平均奖励: -9.89\n",
      "平均长度: 27.9\n",
      "平均损失: 1.0929\n",
      "平均消行: 0.32\n",
      "Epsilon: 0.050\n",
      "学习率: 0.000500\n",
      "缓冲区大小: 10000\n"
     ]
    },
    {
     "name": "stderr",
     "output_type": "stream",
     "text": [
      "Training:  74%|███████▎  | 73502/100000 [3:09:38<1:07:11,  6.57it/s]"
     ]
    },
    {
     "name": "stdout",
     "output_type": "stream",
     "text": [
      "\n",
      "Episode 73500\n",
      "平均奖励: -7.17\n",
      "平均长度: 28.2\n",
      "平均损失: 1.1489\n",
      "平均消行: 0.29\n",
      "Epsilon: 0.050\n",
      "学习率: 0.000500\n",
      "缓冲区大小: 10000\n"
     ]
    },
    {
     "name": "stderr",
     "output_type": "stream",
     "text": [
      "Training:  74%|███████▎  | 73602/100000 [3:09:53<1:05:31,  6.72it/s]"
     ]
    },
    {
     "name": "stdout",
     "output_type": "stream",
     "text": [
      "\n",
      "Episode 73600\n",
      "平均奖励: 9.05\n",
      "平均长度: 29.3\n",
      "平均损失: 1.3094\n",
      "平均消行: 0.32\n",
      "Epsilon: 0.050\n",
      "学习率: 0.000500\n",
      "缓冲区大小: 10000\n"
     ]
    },
    {
     "name": "stderr",
     "output_type": "stream",
     "text": [
      "Training:  74%|███████▎  | 73702/100000 [3:10:08<1:06:43,  6.57it/s]"
     ]
    },
    {
     "name": "stdout",
     "output_type": "stream",
     "text": [
      "\n",
      "Episode 73700\n",
      "平均奖励: 2.86\n",
      "平均长度: 28.4\n",
      "平均损失: 1.2041\n",
      "平均消行: 0.35\n",
      "Epsilon: 0.050\n",
      "学习率: 0.000500\n",
      "缓冲区大小: 10000\n"
     ]
    },
    {
     "name": "stderr",
     "output_type": "stream",
     "text": [
      "Training:  74%|███████▍  | 73802/100000 [3:10:23<1:07:17,  6.49it/s]"
     ]
    },
    {
     "name": "stdout",
     "output_type": "stream",
     "text": [
      "\n",
      "Episode 73800\n",
      "平均奖励: -19.85\n",
      "平均长度: 28.2\n",
      "平均损失: 1.2155\n",
      "平均消行: 0.30\n",
      "Epsilon: 0.050\n",
      "学习率: 0.000500\n",
      "缓冲区大小: 10000\n"
     ]
    },
    {
     "name": "stderr",
     "output_type": "stream",
     "text": [
      "Training:  74%|███████▍  | 73902/100000 [3:10:38<1:05:14,  6.67it/s]"
     ]
    },
    {
     "name": "stdout",
     "output_type": "stream",
     "text": [
      "\n",
      "Episode 73900\n",
      "平均奖励: -10.84\n",
      "平均长度: 27.8\n",
      "平均损失: 1.2409\n",
      "平均消行: 0.33\n",
      "Epsilon: 0.050\n",
      "学习率: 0.000500\n",
      "缓冲区大小: 10000\n"
     ]
    },
    {
     "name": "stderr",
     "output_type": "stream",
     "text": [
      "Training:  74%|███████▍  | 74002/100000 [3:10:54<2:04:02,  3.49it/s]"
     ]
    },
    {
     "name": "stdout",
     "output_type": "stream",
     "text": [
      "\n",
      "Episode 74000\n",
      "平均奖励: 5.32\n",
      "平均长度: 28.1\n",
      "平均损失: 1.3144\n",
      "平均消行: 0.34\n",
      "Epsilon: 0.050\n",
      "学习率: 0.000500\n",
      "缓冲区大小: 10000\n"
     ]
    },
    {
     "name": "stderr",
     "output_type": "stream",
     "text": [
      "Training:  74%|███████▍  | 74102/100000 [3:11:09<1:04:55,  6.65it/s]"
     ]
    },
    {
     "name": "stdout",
     "output_type": "stream",
     "text": [
      "\n",
      "Episode 74100\n",
      "平均奖励: 31.17\n",
      "平均长度: 29.9\n",
      "平均损失: 1.1723\n",
      "平均消行: 0.35\n",
      "Epsilon: 0.050\n",
      "学习率: 0.000500\n",
      "缓冲区大小: 10000\n"
     ]
    },
    {
     "name": "stderr",
     "output_type": "stream",
     "text": [
      "Training:  74%|███████▍  | 74202/100000 [3:11:24<1:04:04,  6.71it/s]"
     ]
    },
    {
     "name": "stdout",
     "output_type": "stream",
     "text": [
      "\n",
      "Episode 74200\n",
      "平均奖励: 51.91\n",
      "平均长度: 29.9\n",
      "平均损失: 1.1600\n",
      "平均消行: 0.43\n",
      "Epsilon: 0.050\n",
      "学习率: 0.000500\n",
      "缓冲区大小: 10000\n"
     ]
    },
    {
     "name": "stderr",
     "output_type": "stream",
     "text": [
      "Training:  74%|███████▍  | 74302/100000 [3:11:39<1:04:23,  6.65it/s]"
     ]
    },
    {
     "name": "stdout",
     "output_type": "stream",
     "text": [
      "\n",
      "Episode 74300\n",
      "平均奖励: 20.91\n",
      "平均长度: 29.4\n",
      "平均损失: 1.0809\n",
      "平均消行: 0.38\n",
      "Epsilon: 0.050\n",
      "学习率: 0.000500\n",
      "缓冲区大小: 10000\n"
     ]
    },
    {
     "name": "stderr",
     "output_type": "stream",
     "text": [
      "Training:  74%|███████▍  | 74402/100000 [3:11:54<1:05:45,  6.49it/s]"
     ]
    },
    {
     "name": "stdout",
     "output_type": "stream",
     "text": [
      "\n",
      "Episode 74400\n",
      "平均奖励: 71.64\n",
      "平均长度: 30.4\n",
      "平均损失: 1.1684\n",
      "平均消行: 0.48\n",
      "Epsilon: 0.050\n",
      "学习率: 0.000500\n",
      "缓冲区大小: 10000\n"
     ]
    },
    {
     "name": "stderr",
     "output_type": "stream",
     "text": [
      "Training:  75%|███████▍  | 74502/100000 [3:12:09<1:02:51,  6.76it/s]"
     ]
    },
    {
     "name": "stdout",
     "output_type": "stream",
     "text": [
      "\n",
      "Episode 74500\n",
      "平均奖励: 35.02\n",
      "平均长度: 29.9\n",
      "平均损失: 1.2320\n",
      "平均消行: 0.40\n",
      "Epsilon: 0.050\n",
      "学习率: 0.000500\n",
      "缓冲区大小: 10000\n"
     ]
    },
    {
     "name": "stderr",
     "output_type": "stream",
     "text": [
      "Training:  75%|███████▍  | 74602/100000 [3:12:24<1:02:39,  6.76it/s]"
     ]
    },
    {
     "name": "stdout",
     "output_type": "stream",
     "text": [
      "\n",
      "Episode 74600\n",
      "平均奖励: -34.04\n",
      "平均长度: 26.7\n",
      "平均损失: 1.2846\n",
      "平均消行: 0.30\n",
      "Epsilon: 0.050\n",
      "学习率: 0.000500\n",
      "缓冲区大小: 10000\n"
     ]
    },
    {
     "name": "stderr",
     "output_type": "stream",
     "text": [
      "Training:  75%|███████▍  | 74702/100000 [3:12:40<1:04:39,  6.52it/s]"
     ]
    },
    {
     "name": "stdout",
     "output_type": "stream",
     "text": [
      "\n",
      "Episode 74700\n",
      "平均奖励: -0.19\n",
      "平均长度: 27.9\n",
      "平均损失: 1.2715\n",
      "平均消行: 0.37\n",
      "Epsilon: 0.050\n",
      "学习率: 0.000500\n",
      "缓冲区大小: 10000\n"
     ]
    },
    {
     "name": "stderr",
     "output_type": "stream",
     "text": [
      "Training:  75%|███████▍  | 74802/100000 [3:12:55<1:03:01,  6.66it/s]"
     ]
    },
    {
     "name": "stdout",
     "output_type": "stream",
     "text": [
      "\n",
      "Episode 74800\n",
      "平均奖励: 29.73\n",
      "平均长度: 29.3\n",
      "平均损失: 1.3769\n",
      "平均消行: 0.44\n",
      "Epsilon: 0.050\n",
      "学习率: 0.000500\n",
      "缓冲区大小: 10000\n"
     ]
    },
    {
     "name": "stderr",
     "output_type": "stream",
     "text": [
      "Training:  75%|███████▍  | 74902/100000 [3:13:10<1:04:08,  6.52it/s]"
     ]
    },
    {
     "name": "stdout",
     "output_type": "stream",
     "text": [
      "\n",
      "Episode 74900\n",
      "平均奖励: -40.55\n",
      "平均长度: 28.4\n",
      "平均损失: 1.2836\n",
      "平均消行: 0.21\n",
      "Epsilon: 0.050\n",
      "学习率: 0.000500\n",
      "缓冲区大小: 10000\n"
     ]
    },
    {
     "name": "stderr",
     "output_type": "stream",
     "text": [
      "Training:  75%|███████▌  | 75002/100000 [3:13:25<1:02:50,  6.63it/s]"
     ]
    },
    {
     "name": "stdout",
     "output_type": "stream",
     "text": [
      "\n",
      "Episode 75000\n",
      "平均奖励: 36.72\n",
      "平均长度: 29.4\n",
      "平均损失: 1.3531\n",
      "平均消行: 0.41\n",
      "Epsilon: 0.050\n",
      "学习率: 0.000500\n",
      "缓冲区大小: 10000\n"
     ]
    },
    {
     "name": "stderr",
     "output_type": "stream",
     "text": [
      "Training:  75%|███████▌  | 75102/100000 [3:13:40<1:02:32,  6.63it/s]"
     ]
    },
    {
     "name": "stdout",
     "output_type": "stream",
     "text": [
      "\n",
      "Episode 75100\n",
      "平均奖励: 46.49\n",
      "平均长度: 29.6\n",
      "平均损失: 1.2400\n",
      "平均消行: 0.42\n",
      "Epsilon: 0.050\n",
      "学习率: 0.000500\n",
      "缓冲区大小: 10000\n"
     ]
    },
    {
     "name": "stderr",
     "output_type": "stream",
     "text": [
      "Training:  75%|███████▌  | 75202/100000 [3:13:55<1:03:17,  6.53it/s]"
     ]
    },
    {
     "name": "stdout",
     "output_type": "stream",
     "text": [
      "\n",
      "Episode 75200\n",
      "平均奖励: 34.19\n",
      "平均长度: 28.9\n",
      "平均损失: 1.3831\n",
      "平均消行: 0.38\n",
      "Epsilon: 0.050\n",
      "学习率: 0.000500\n",
      "缓冲区大小: 10000\n"
     ]
    },
    {
     "name": "stderr",
     "output_type": "stream",
     "text": [
      "Training:  75%|███████▌  | 75302/100000 [3:14:10<1:02:01,  6.64it/s]"
     ]
    },
    {
     "name": "stdout",
     "output_type": "stream",
     "text": [
      "\n",
      "Episode 75300\n",
      "平均奖励: 57.74\n",
      "平均长度: 29.8\n",
      "平均损失: 1.2793\n",
      "平均消行: 0.43\n",
      "Epsilon: 0.050\n",
      "学习率: 0.000500\n",
      "缓冲区大小: 10000\n"
     ]
    },
    {
     "name": "stderr",
     "output_type": "stream",
     "text": [
      "Training:  75%|███████▌  | 75402/100000 [3:14:25<1:02:18,  6.58it/s]"
     ]
    },
    {
     "name": "stdout",
     "output_type": "stream",
     "text": [
      "\n",
      "Episode 75400\n",
      "平均奖励: 27.60\n",
      "平均长度: 29.5\n",
      "平均损失: 1.2470\n",
      "平均消行: 0.37\n",
      "Epsilon: 0.050\n",
      "学习率: 0.000500\n",
      "缓冲区大小: 10000\n"
     ]
    },
    {
     "name": "stderr",
     "output_type": "stream",
     "text": [
      "Training:  76%|███████▌  | 75502/100000 [3:14:40<1:01:18,  6.66it/s]"
     ]
    },
    {
     "name": "stdout",
     "output_type": "stream",
     "text": [
      "\n",
      "Episode 75500\n",
      "平均奖励: -13.74\n",
      "平均长度: 27.1\n",
      "平均损失: 1.3907\n",
      "平均消行: 0.35\n",
      "Epsilon: 0.050\n",
      "学习率: 0.000500\n",
      "缓冲区大小: 10000\n"
     ]
    },
    {
     "name": "stderr",
     "output_type": "stream",
     "text": [
      "Training:  76%|███████▌  | 75602/100000 [3:14:55<1:00:20,  6.74it/s]"
     ]
    },
    {
     "name": "stdout",
     "output_type": "stream",
     "text": [
      "\n",
      "Episode 75600\n",
      "平均奖励: 27.06\n",
      "平均长度: 29.4\n",
      "平均损失: 1.3570\n",
      "平均消行: 0.38\n",
      "Epsilon: 0.050\n",
      "学习率: 0.000500\n",
      "缓冲区大小: 10000\n"
     ]
    },
    {
     "name": "stderr",
     "output_type": "stream",
     "text": [
      "Training:  76%|███████▌  | 75702/100000 [3:15:10<1:00:28,  6.70it/s]"
     ]
    },
    {
     "name": "stdout",
     "output_type": "stream",
     "text": [
      "\n",
      "Episode 75700\n",
      "平均奖励: 1.75\n",
      "平均长度: 28.8\n",
      "平均损失: 1.2128\n",
      "平均消行: 0.33\n",
      "Epsilon: 0.050\n",
      "学习率: 0.000500\n",
      "缓冲区大小: 10000\n"
     ]
    },
    {
     "name": "stderr",
     "output_type": "stream",
     "text": [
      "Training:  76%|███████▌  | 75802/100000 [3:15:25<1:00:53,  6.62it/s]"
     ]
    },
    {
     "name": "stdout",
     "output_type": "stream",
     "text": [
      "\n",
      "Episode 75800\n",
      "平均奖励: 10.69\n",
      "平均长度: 29.5\n",
      "平均损失: 1.1999\n",
      "平均消行: 0.36\n",
      "Epsilon: 0.050\n",
      "学习率: 0.000500\n",
      "缓冲区大小: 10000\n"
     ]
    },
    {
     "name": "stderr",
     "output_type": "stream",
     "text": [
      "Training:  76%|███████▌  | 75902/100000 [3:15:40<1:01:48,  6.50it/s]"
     ]
    },
    {
     "name": "stdout",
     "output_type": "stream",
     "text": [
      "\n",
      "Episode 75900\n",
      "平均奖励: 63.20\n",
      "平均长度: 29.9\n",
      "平均损失: 1.2355\n",
      "平均消行: 0.49\n",
      "Epsilon: 0.050\n",
      "学习率: 0.000500\n",
      "缓冲区大小: 10000\n"
     ]
    },
    {
     "name": "stderr",
     "output_type": "stream",
     "text": [
      "Training:  76%|███████▌  | 76002/100000 [3:15:56<1:52:34,  3.55it/s]"
     ]
    },
    {
     "name": "stdout",
     "output_type": "stream",
     "text": [
      "\n",
      "Episode 76000\n",
      "平均奖励: -10.33\n",
      "平均长度: 28.6\n",
      "平均损失: 1.1727\n",
      "平均消行: 0.30\n",
      "Epsilon: 0.050\n",
      "学习率: 0.000500\n",
      "缓冲区大小: 10000\n"
     ]
    },
    {
     "name": "stderr",
     "output_type": "stream",
     "text": [
      "Training:  76%|███████▌  | 76102/100000 [3:16:11<1:00:40,  6.56it/s]"
     ]
    },
    {
     "name": "stdout",
     "output_type": "stream",
     "text": [
      "\n",
      "Episode 76100\n",
      "平均奖励: 23.00\n",
      "平均长度: 30.1\n",
      "平均损失: 1.2383\n",
      "平均消行: 0.38\n",
      "Epsilon: 0.050\n",
      "学习率: 0.000500\n",
      "缓冲区大小: 10000\n"
     ]
    },
    {
     "name": "stderr",
     "output_type": "stream",
     "text": [
      "Training:  76%|███████▌  | 76202/100000 [3:16:26<59:44,  6.64it/s]  "
     ]
    },
    {
     "name": "stdout",
     "output_type": "stream",
     "text": [
      "\n",
      "Episode 76200\n",
      "平均奖励: 6.43\n",
      "平均长度: 29.6\n",
      "平均损失: 1.2039\n",
      "平均消行: 0.34\n",
      "Epsilon: 0.050\n",
      "学习率: 0.000500\n",
      "缓冲区大小: 10000\n"
     ]
    },
    {
     "name": "stderr",
     "output_type": "stream",
     "text": [
      "Training:  76%|███████▋  | 76302/100000 [3:16:41<1:00:59,  6.48it/s]"
     ]
    },
    {
     "name": "stdout",
     "output_type": "stream",
     "text": [
      "\n",
      "Episode 76300\n",
      "平均奖励: 38.60\n",
      "平均长度: 29.7\n",
      "平均损失: 1.2450\n",
      "平均消行: 0.44\n",
      "Epsilon: 0.050\n",
      "学习率: 0.000500\n",
      "缓冲区大小: 10000\n"
     ]
    },
    {
     "name": "stderr",
     "output_type": "stream",
     "text": [
      "Training:  76%|███████▋  | 76402/100000 [3:16:56<58:37,  6.71it/s]  "
     ]
    },
    {
     "name": "stdout",
     "output_type": "stream",
     "text": [
      "\n",
      "Episode 76400\n",
      "平均奖励: 58.49\n",
      "平均长度: 30.1\n",
      "平均损失: 1.3570\n",
      "平均消行: 0.46\n",
      "Epsilon: 0.050\n",
      "学习率: 0.000500\n",
      "缓冲区大小: 10000\n"
     ]
    },
    {
     "name": "stderr",
     "output_type": "stream",
     "text": [
      "Training:  77%|███████▋  | 76502/100000 [3:17:11<57:36,  6.80it/s]  "
     ]
    },
    {
     "name": "stdout",
     "output_type": "stream",
     "text": [
      "\n",
      "Episode 76500\n",
      "平均奖励: -23.76\n",
      "平均长度: 28.5\n",
      "平均损失: 1.4508\n",
      "平均消行: 0.29\n",
      "Epsilon: 0.050\n",
      "学习率: 0.000500\n",
      "缓冲区大小: 10000\n"
     ]
    },
    {
     "name": "stderr",
     "output_type": "stream",
     "text": [
      "Training:  77%|███████▋  | 76602/100000 [3:17:26<58:09,  6.70it/s]  "
     ]
    },
    {
     "name": "stdout",
     "output_type": "stream",
     "text": [
      "\n",
      "Episode 76600\n",
      "平均奖励: -73.57\n",
      "平均长度: 26.4\n",
      "平均损失: 1.2556\n",
      "平均消行: 0.22\n",
      "Epsilon: 0.050\n",
      "学习率: 0.000500\n",
      "缓冲区大小: 10000\n"
     ]
    },
    {
     "name": "stderr",
     "output_type": "stream",
     "text": [
      "Training:  77%|███████▋  | 76702/100000 [3:17:41<57:26,  6.76it/s]  "
     ]
    },
    {
     "name": "stdout",
     "output_type": "stream",
     "text": [
      "\n",
      "Episode 76700\n",
      "平均奖励: -12.52\n",
      "平均长度: 29.3\n",
      "平均损失: 1.2628\n",
      "平均消行: 0.30\n",
      "Epsilon: 0.050\n",
      "学习率: 0.000500\n",
      "缓冲区大小: 10000\n"
     ]
    },
    {
     "name": "stderr",
     "output_type": "stream",
     "text": [
      "Training:  77%|███████▋  | 76802/100000 [3:17:56<56:57,  6.79it/s]  "
     ]
    },
    {
     "name": "stdout",
     "output_type": "stream",
     "text": [
      "\n",
      "Episode 76800\n",
      "平均奖励: 5.81\n",
      "平均长度: 29.7\n",
      "平均损失: 1.1447\n",
      "平均消行: 0.34\n",
      "Epsilon: 0.050\n",
      "学习率: 0.000500\n",
      "缓冲区大小: 10000\n"
     ]
    },
    {
     "name": "stderr",
     "output_type": "stream",
     "text": [
      "Training:  77%|███████▋  | 76902/100000 [3:18:11<57:22,  6.71it/s]  "
     ]
    },
    {
     "name": "stdout",
     "output_type": "stream",
     "text": [
      "\n",
      "Episode 76900\n",
      "平均奖励: 38.95\n",
      "平均长度: 30.2\n",
      "平均损失: 1.1261\n",
      "平均消行: 0.43\n",
      "Epsilon: 0.050\n",
      "学习率: 0.000500\n",
      "缓冲区大小: 10000\n"
     ]
    },
    {
     "name": "stderr",
     "output_type": "stream",
     "text": [
      "Training:  77%|███████▋  | 77002/100000 [3:18:26<57:30,  6.66it/s]  "
     ]
    },
    {
     "name": "stdout",
     "output_type": "stream",
     "text": [
      "\n",
      "Episode 77000\n",
      "平均奖励: -18.83\n",
      "平均长度: 28.3\n",
      "平均损失: 1.2922\n",
      "平均消行: 0.31\n",
      "Epsilon: 0.050\n",
      "学习率: 0.000500\n",
      "缓冲区大小: 10000\n"
     ]
    },
    {
     "name": "stderr",
     "output_type": "stream",
     "text": [
      "Training:  77%|███████▋  | 77102/100000 [3:18:41<59:25,  6.42it/s]  "
     ]
    },
    {
     "name": "stdout",
     "output_type": "stream",
     "text": [
      "\n",
      "Episode 77100\n",
      "平均奖励: -33.95\n",
      "平均长度: 28.8\n",
      "平均损失: 1.2610\n",
      "平均消行: 0.23\n",
      "Epsilon: 0.050\n",
      "学习率: 0.000500\n",
      "缓冲区大小: 10000\n"
     ]
    },
    {
     "name": "stderr",
     "output_type": "stream",
     "text": [
      "Training:  77%|███████▋  | 77202/100000 [3:18:56<57:55,  6.56it/s]  "
     ]
    },
    {
     "name": "stdout",
     "output_type": "stream",
     "text": [
      "\n",
      "Episode 77200\n",
      "平均奖励: -2.58\n",
      "平均长度: 29.6\n",
      "平均损失: 1.2001\n",
      "平均消行: 0.29\n",
      "Epsilon: 0.050\n",
      "学习率: 0.000500\n",
      "缓冲区大小: 10000\n"
     ]
    },
    {
     "name": "stderr",
     "output_type": "stream",
     "text": [
      "Training:  77%|███████▋  | 77302/100000 [3:19:11<56:20,  6.71it/s]  "
     ]
    },
    {
     "name": "stdout",
     "output_type": "stream",
     "text": [
      "\n",
      "Episode 77300\n",
      "平均奖励: -39.82\n",
      "平均长度: 28.9\n",
      "平均损失: 1.0606\n",
      "平均消行: 0.23\n",
      "Epsilon: 0.050\n",
      "学习率: 0.000500\n",
      "缓冲区大小: 10000\n"
     ]
    },
    {
     "name": "stderr",
     "output_type": "stream",
     "text": [
      "Training:  77%|███████▋  | 77402/100000 [3:19:26<58:13,  6.47it/s]"
     ]
    },
    {
     "name": "stdout",
     "output_type": "stream",
     "text": [
      "\n",
      "Episode 77400\n",
      "平均奖励: -37.85\n",
      "平均长度: 28.6\n",
      "平均损失: 1.2040\n",
      "平均消行: 0.26\n",
      "Epsilon: 0.050\n",
      "学习率: 0.000500\n",
      "缓冲区大小: 10000\n"
     ]
    },
    {
     "name": "stderr",
     "output_type": "stream",
     "text": [
      "Training:  78%|███████▊  | 77502/100000 [3:19:41<57:19,  6.54it/s]"
     ]
    },
    {
     "name": "stdout",
     "output_type": "stream",
     "text": [
      "\n",
      "Episode 77500\n",
      "平均奖励: -7.91\n",
      "平均长度: 29.7\n",
      "平均损失: 1.1882\n",
      "平均消行: 0.30\n",
      "Epsilon: 0.050\n",
      "学习率: 0.000500\n",
      "缓冲区大小: 10000\n"
     ]
    },
    {
     "name": "stderr",
     "output_type": "stream",
     "text": [
      "Training:  78%|███████▊  | 77602/100000 [3:19:57<57:26,  6.50it/s]  "
     ]
    },
    {
     "name": "stdout",
     "output_type": "stream",
     "text": [
      "\n",
      "Episode 77600\n",
      "平均奖励: 24.69\n",
      "平均长度: 29.1\n",
      "平均损失: 1.1101\n",
      "平均消行: 0.41\n",
      "Epsilon: 0.050\n",
      "学习率: 0.000500\n",
      "缓冲区大小: 10000\n"
     ]
    },
    {
     "name": "stderr",
     "output_type": "stream",
     "text": [
      "Training:  78%|███████▊  | 77702/100000 [3:20:12<56:55,  6.53it/s]"
     ]
    },
    {
     "name": "stdout",
     "output_type": "stream",
     "text": [
      "\n",
      "Episode 77700\n",
      "平均奖励: -61.66\n",
      "平均长度: 27.3\n",
      "平均损失: 1.2551\n",
      "平均消行: 0.22\n",
      "Epsilon: 0.050\n",
      "学习率: 0.000500\n",
      "缓冲区大小: 10000\n"
     ]
    },
    {
     "name": "stderr",
     "output_type": "stream",
     "text": [
      "Training:  78%|███████▊  | 77802/100000 [3:20:27<54:26,  6.80it/s]  "
     ]
    },
    {
     "name": "stdout",
     "output_type": "stream",
     "text": [
      "\n",
      "Episode 77800\n",
      "平均奖励: -2.22\n",
      "平均长度: 28.4\n",
      "平均损失: 1.2244\n",
      "平均消行: 0.33\n",
      "Epsilon: 0.050\n",
      "学习率: 0.000500\n",
      "缓冲区大小: 10000\n"
     ]
    },
    {
     "name": "stderr",
     "output_type": "stream",
     "text": [
      "Training:  78%|███████▊  | 77902/100000 [3:20:42<58:00,  6.35it/s]"
     ]
    },
    {
     "name": "stdout",
     "output_type": "stream",
     "text": [
      "\n",
      "Episode 77900\n",
      "平均奖励: 82.50\n",
      "平均长度: 31.0\n",
      "平均损失: 1.1831\n",
      "平均消行: 0.52\n",
      "Epsilon: 0.050\n",
      "学习率: 0.000500\n",
      "缓冲区大小: 10000\n"
     ]
    },
    {
     "name": "stderr",
     "output_type": "stream",
     "text": [
      "Training:  78%|███████▊  | 78002/100000 [3:20:57<1:35:01,  3.86it/s]"
     ]
    },
    {
     "name": "stdout",
     "output_type": "stream",
     "text": [
      "\n",
      "Episode 78000\n",
      "平均奖励: 7.39\n",
      "平均长度: 29.2\n",
      "平均损失: 1.1828\n",
      "平均消行: 0.34\n",
      "Epsilon: 0.050\n",
      "学习率: 0.000500\n",
      "缓冲区大小: 10000\n"
     ]
    },
    {
     "name": "stderr",
     "output_type": "stream",
     "text": [
      "Training:  78%|███████▊  | 78102/100000 [3:21:13<55:58,  6.52it/s]  "
     ]
    },
    {
     "name": "stdout",
     "output_type": "stream",
     "text": [
      "\n",
      "Episode 78100\n",
      "平均奖励: 24.33\n",
      "平均长度: 28.6\n",
      "平均损失: 1.1999\n",
      "平均消行: 0.40\n",
      "Epsilon: 0.050\n",
      "学习率: 0.000500\n",
      "缓冲区大小: 10000\n"
     ]
    },
    {
     "name": "stderr",
     "output_type": "stream",
     "text": [
      "Training:  78%|███████▊  | 78202/100000 [3:21:27<53:13,  6.83it/s]"
     ]
    },
    {
     "name": "stdout",
     "output_type": "stream",
     "text": [
      "\n",
      "Episode 78200\n",
      "平均奖励: 24.75\n",
      "平均长度: 28.7\n",
      "平均损失: 1.2956\n",
      "平均消行: 0.43\n",
      "Epsilon: 0.050\n",
      "学习率: 0.000500\n",
      "缓冲区大小: 10000\n"
     ]
    },
    {
     "name": "stderr",
     "output_type": "stream",
     "text": [
      "Training:  78%|███████▊  | 78302/100000 [3:21:42<55:45,  6.48it/s]"
     ]
    },
    {
     "name": "stdout",
     "output_type": "stream",
     "text": [
      "\n",
      "Episode 78300\n",
      "平均奖励: 1.80\n",
      "平均长度: 28.6\n",
      "平均损失: 1.2895\n",
      "平均消行: 0.36\n",
      "Epsilon: 0.050\n",
      "学习率: 0.000500\n",
      "缓冲区大小: 10000\n"
     ]
    },
    {
     "name": "stderr",
     "output_type": "stream",
     "text": [
      "Training:  78%|███████▊  | 78402/100000 [3:21:58<56:24,  6.38it/s]"
     ]
    },
    {
     "name": "stdout",
     "output_type": "stream",
     "text": [
      "\n",
      "Episode 78400\n",
      "平均奖励: 7.34\n",
      "平均长度: 29.2\n",
      "平均损失: 1.3665\n",
      "平均消行: 0.36\n",
      "Epsilon: 0.050\n",
      "学习率: 0.000500\n",
      "缓冲区大小: 10000\n"
     ]
    },
    {
     "name": "stderr",
     "output_type": "stream",
     "text": [
      "Training:  79%|███████▊  | 78502/100000 [3:22:13<53:39,  6.68it/s]  "
     ]
    },
    {
     "name": "stdout",
     "output_type": "stream",
     "text": [
      "\n",
      "Episode 78500\n",
      "平均奖励: 11.82\n",
      "平均长度: 28.5\n",
      "平均损失: 1.4134\n",
      "平均消行: 0.37\n",
      "Epsilon: 0.050\n",
      "学习率: 0.000500\n",
      "缓冲区大小: 10000\n"
     ]
    },
    {
     "name": "stderr",
     "output_type": "stream",
     "text": [
      "Training:  79%|███████▊  | 78602/100000 [3:22:28<54:50,  6.50it/s]"
     ]
    },
    {
     "name": "stdout",
     "output_type": "stream",
     "text": [
      "\n",
      "Episode 78600\n",
      "平均奖励: -35.35\n",
      "平均长度: 26.7\n",
      "平均损失: 1.0819\n",
      "平均消行: 0.30\n",
      "Epsilon: 0.050\n",
      "学习率: 0.000500\n",
      "缓冲区大小: 10000\n"
     ]
    },
    {
     "name": "stderr",
     "output_type": "stream",
     "text": [
      "Training:  79%|███████▊  | 78702/100000 [3:22:43<54:35,  6.50it/s]"
     ]
    },
    {
     "name": "stdout",
     "output_type": "stream",
     "text": [
      "\n",
      "Episode 78700\n",
      "平均奖励: 7.48\n",
      "平均长度: 29.8\n",
      "平均损失: 1.1265\n",
      "平均消行: 0.32\n",
      "Epsilon: 0.050\n",
      "学习率: 0.000500\n",
      "缓冲区大小: 10000\n"
     ]
    },
    {
     "name": "stderr",
     "output_type": "stream",
     "text": [
      "Training:  79%|███████▉  | 78802/100000 [3:22:58<52:30,  6.73it/s]"
     ]
    },
    {
     "name": "stdout",
     "output_type": "stream",
     "text": [
      "\n",
      "Episode 78800\n",
      "平均奖励: -8.55\n",
      "平均长度: 27.6\n",
      "平均损失: 1.1477\n",
      "平均消行: 0.35\n",
      "Epsilon: 0.050\n",
      "学习率: 0.000500\n",
      "缓冲区大小: 10000\n"
     ]
    },
    {
     "name": "stderr",
     "output_type": "stream",
     "text": [
      "Training:  79%|███████▉  | 78902/100000 [3:23:13<53:12,  6.61it/s]"
     ]
    },
    {
     "name": "stdout",
     "output_type": "stream",
     "text": [
      "\n",
      "Episode 78900\n",
      "平均奖励: 42.00\n",
      "平均长度: 30.2\n",
      "平均损失: 1.1841\n",
      "平均消行: 0.43\n",
      "Epsilon: 0.050\n",
      "学习率: 0.000500\n",
      "缓冲区大小: 10000\n"
     ]
    },
    {
     "name": "stderr",
     "output_type": "stream",
     "text": [
      "Training:  79%|███████▉  | 79002/100000 [3:23:28<52:10,  6.71it/s]"
     ]
    },
    {
     "name": "stdout",
     "output_type": "stream",
     "text": [
      "\n",
      "Episode 79000\n",
      "平均奖励: 16.54\n",
      "平均长度: 29.8\n",
      "平均损失: 1.1485\n",
      "平均消行: 0.35\n",
      "Epsilon: 0.050\n",
      "学习率: 0.000500\n",
      "缓冲区大小: 10000\n"
     ]
    },
    {
     "name": "stderr",
     "output_type": "stream",
     "text": [
      "Training:  79%|███████▉  | 79102/100000 [3:23:43<51:26,  6.77it/s]  "
     ]
    },
    {
     "name": "stdout",
     "output_type": "stream",
     "text": [
      "\n",
      "Episode 79100\n",
      "平均奖励: -7.43\n",
      "平均长度: 28.2\n",
      "平均损失: 1.1676\n",
      "平均消行: 0.35\n",
      "Epsilon: 0.050\n",
      "学习率: 0.000500\n",
      "缓冲区大小: 10000\n"
     ]
    },
    {
     "name": "stderr",
     "output_type": "stream",
     "text": [
      "Training:  79%|███████▉  | 79202/100000 [3:23:58<52:25,  6.61it/s]"
     ]
    },
    {
     "name": "stdout",
     "output_type": "stream",
     "text": [
      "\n",
      "Episode 79200\n",
      "平均奖励: -19.20\n",
      "平均长度: 27.7\n",
      "平均损失: 1.1824\n",
      "平均消行: 0.33\n",
      "Epsilon: 0.050\n",
      "学习率: 0.000500\n",
      "缓冲区大小: 10000\n"
     ]
    },
    {
     "name": "stderr",
     "output_type": "stream",
     "text": [
      "Training:  79%|███████▉  | 79302/100000 [3:24:13<53:44,  6.42it/s]"
     ]
    },
    {
     "name": "stdout",
     "output_type": "stream",
     "text": [
      "\n",
      "Episode 79300\n",
      "平均奖励: -59.42\n",
      "平均长度: 27.7\n",
      "平均损失: 1.1405\n",
      "平均消行: 0.20\n",
      "Epsilon: 0.050\n",
      "学习率: 0.000500\n",
      "缓冲区大小: 10000\n"
     ]
    },
    {
     "name": "stderr",
     "output_type": "stream",
     "text": [
      "Training:  79%|███████▉  | 79402/100000 [3:24:28<51:03,  6.72it/s]"
     ]
    },
    {
     "name": "stdout",
     "output_type": "stream",
     "text": [
      "\n",
      "Episode 79400\n",
      "平均奖励: 13.50\n",
      "平均长度: 29.7\n",
      "平均损失: 1.1567\n",
      "平均消行: 0.38\n",
      "Epsilon: 0.050\n",
      "学习率: 0.000500\n",
      "缓冲区大小: 10000\n"
     ]
    },
    {
     "name": "stderr",
     "output_type": "stream",
     "text": [
      "Training:  80%|███████▉  | 79502/100000 [3:24:43<51:12,  6.67it/s]"
     ]
    },
    {
     "name": "stdout",
     "output_type": "stream",
     "text": [
      "\n",
      "Episode 79500\n",
      "平均奖励: -27.94\n",
      "平均长度: 27.7\n",
      "平均损失: 1.1672\n",
      "平均消行: 0.31\n",
      "Epsilon: 0.050\n",
      "学习率: 0.000500\n",
      "缓冲区大小: 10000\n"
     ]
    },
    {
     "name": "stderr",
     "output_type": "stream",
     "text": [
      "Training:  80%|███████▉  | 79602/100000 [3:24:58<51:42,  6.58it/s]"
     ]
    },
    {
     "name": "stdout",
     "output_type": "stream",
     "text": [
      "\n",
      "Episode 79600\n",
      "平均奖励: -2.19\n",
      "平均长度: 29.1\n",
      "平均损失: 1.1642\n",
      "平均消行: 0.32\n",
      "Epsilon: 0.050\n",
      "学习率: 0.000500\n",
      "缓冲区大小: 10000\n"
     ]
    },
    {
     "name": "stderr",
     "output_type": "stream",
     "text": [
      "Training:  80%|███████▉  | 79702/100000 [3:25:13<50:27,  6.71it/s]"
     ]
    },
    {
     "name": "stdout",
     "output_type": "stream",
     "text": [
      "\n",
      "Episode 79700\n",
      "平均奖励: -49.97\n",
      "平均长度: 28.6\n",
      "平均损失: 1.2023\n",
      "平均消行: 0.23\n",
      "Epsilon: 0.050\n",
      "学习率: 0.000500\n",
      "缓冲区大小: 10000\n"
     ]
    },
    {
     "name": "stderr",
     "output_type": "stream",
     "text": [
      "Training:  80%|███████▉  | 79802/100000 [3:25:28<49:43,  6.77it/s]"
     ]
    },
    {
     "name": "stdout",
     "output_type": "stream",
     "text": [
      "\n",
      "Episode 79800\n",
      "平均奖励: -23.87\n",
      "平均长度: 28.2\n",
      "平均损失: 1.0717\n",
      "平均消行: 0.30\n",
      "Epsilon: 0.050\n",
      "学习率: 0.000500\n",
      "缓冲区大小: 10000\n"
     ]
    },
    {
     "name": "stderr",
     "output_type": "stream",
     "text": [
      "Training:  80%|███████▉  | 79902/100000 [3:25:43<50:20,  6.65it/s]"
     ]
    },
    {
     "name": "stdout",
     "output_type": "stream",
     "text": [
      "\n",
      "Episode 79900\n",
      "平均奖励: -10.82\n",
      "平均长度: 29.3\n",
      "平均损失: 1.1458\n",
      "平均消行: 0.31\n",
      "Epsilon: 0.050\n",
      "学习率: 0.000500\n",
      "缓冲区大小: 10000\n"
     ]
    },
    {
     "name": "stderr",
     "output_type": "stream",
     "text": [
      "Training:  80%|████████  | 80002/100000 [3:25:59<1:37:15,  3.43it/s]"
     ]
    },
    {
     "name": "stdout",
     "output_type": "stream",
     "text": [
      "\n",
      "Episode 80000\n",
      "平均奖励: -11.16\n",
      "平均长度: 29.8\n",
      "平均损失: 1.1330\n",
      "平均消行: 0.28\n",
      "Epsilon: 0.050\n",
      "学习率: 0.000500\n",
      "缓冲区大小: 10000\n"
     ]
    },
    {
     "name": "stderr",
     "output_type": "stream",
     "text": [
      "Training:  80%|████████  | 80102/100000 [3:26:13<50:05,  6.62it/s]  "
     ]
    },
    {
     "name": "stdout",
     "output_type": "stream",
     "text": [
      "\n",
      "Episode 80100\n",
      "平均奖励: -7.72\n",
      "平均长度: 29.2\n",
      "平均损失: 1.2025\n",
      "平均消行: 0.32\n",
      "Epsilon: 0.050\n",
      "学习率: 0.000500\n",
      "缓冲区大小: 10000\n"
     ]
    },
    {
     "name": "stderr",
     "output_type": "stream",
     "text": [
      "Training:  80%|████████  | 80202/100000 [3:26:28<49:16,  6.70it/s]"
     ]
    },
    {
     "name": "stdout",
     "output_type": "stream",
     "text": [
      "\n",
      "Episode 80200\n",
      "平均奖励: -28.06\n",
      "平均长度: 28.6\n",
      "平均损失: 1.0463\n",
      "平均消行: 0.27\n",
      "Epsilon: 0.050\n",
      "学习率: 0.000500\n",
      "缓冲区大小: 10000\n"
     ]
    },
    {
     "name": "stderr",
     "output_type": "stream",
     "text": [
      "Training:  80%|████████  | 80302/100000 [3:26:43<48:51,  6.72it/s]"
     ]
    },
    {
     "name": "stdout",
     "output_type": "stream",
     "text": [
      "\n",
      "Episode 80300\n",
      "平均奖励: -49.32\n",
      "平均长度: 28.0\n",
      "平均损失: 1.0929\n",
      "平均消行: 0.21\n",
      "Epsilon: 0.050\n",
      "学习率: 0.000500\n",
      "缓冲区大小: 10000\n"
     ]
    },
    {
     "name": "stderr",
     "output_type": "stream",
     "text": [
      "Training:  80%|████████  | 80402/100000 [3:26:58<48:27,  6.74it/s]"
     ]
    },
    {
     "name": "stdout",
     "output_type": "stream",
     "text": [
      "\n",
      "Episode 80400\n",
      "平均奖励: -26.10\n",
      "平均长度: 28.9\n",
      "平均损失: 1.1240\n",
      "平均消行: 0.24\n",
      "Epsilon: 0.050\n",
      "学习率: 0.000500\n",
      "缓冲区大小: 10000\n"
     ]
    },
    {
     "name": "stderr",
     "output_type": "stream",
     "text": [
      "Training:  81%|████████  | 80502/100000 [3:27:14<49:29,  6.57it/s]"
     ]
    },
    {
     "name": "stdout",
     "output_type": "stream",
     "text": [
      "\n",
      "Episode 80500\n",
      "平均奖励: -31.62\n",
      "平均长度: 28.2\n",
      "平均损失: 1.0539\n",
      "平均消行: 0.25\n",
      "Epsilon: 0.050\n",
      "学习率: 0.000500\n",
      "缓冲区大小: 10000\n"
     ]
    },
    {
     "name": "stderr",
     "output_type": "stream",
     "text": [
      "Training:  81%|████████  | 80602/100000 [3:27:29<48:36,  6.65it/s]"
     ]
    },
    {
     "name": "stdout",
     "output_type": "stream",
     "text": [
      "\n",
      "Episode 80600\n",
      "平均奖励: -8.73\n",
      "平均长度: 28.8\n",
      "平均损失: 1.0727\n",
      "平均消行: 0.32\n",
      "Epsilon: 0.050\n",
      "学习率: 0.000500\n",
      "缓冲区大小: 10000\n"
     ]
    },
    {
     "name": "stderr",
     "output_type": "stream",
     "text": [
      "Training:  81%|████████  | 80702/100000 [3:27:44<48:37,  6.62it/s]"
     ]
    },
    {
     "name": "stdout",
     "output_type": "stream",
     "text": [
      "\n",
      "Episode 80700\n",
      "平均奖励: -35.30\n",
      "平均长度: 28.3\n",
      "平均损失: 1.2098\n",
      "平均消行: 0.26\n",
      "Epsilon: 0.050\n",
      "学习率: 0.000500\n",
      "缓冲区大小: 10000\n"
     ]
    },
    {
     "name": "stderr",
     "output_type": "stream",
     "text": [
      "Training:  81%|████████  | 80802/100000 [3:27:59<47:42,  6.71it/s]"
     ]
    },
    {
     "name": "stdout",
     "output_type": "stream",
     "text": [
      "\n",
      "Episode 80800\n",
      "平均奖励: 2.80\n",
      "平均长度: 28.7\n",
      "平均损失: 1.1615\n",
      "平均消行: 0.36\n",
      "Epsilon: 0.050\n",
      "学习率: 0.000500\n",
      "缓冲区大小: 10000\n"
     ]
    },
    {
     "name": "stderr",
     "output_type": "stream",
     "text": [
      "Training:  81%|████████  | 80902/100000 [3:28:14<48:12,  6.60it/s]"
     ]
    },
    {
     "name": "stdout",
     "output_type": "stream",
     "text": [
      "\n",
      "Episode 80900\n",
      "平均奖励: 21.65\n",
      "平均长度: 29.9\n",
      "平均损失: 1.2604\n",
      "平均消行: 0.35\n",
      "Epsilon: 0.050\n",
      "学习率: 0.000500\n",
      "缓冲区大小: 10000\n"
     ]
    },
    {
     "name": "stderr",
     "output_type": "stream",
     "text": [
      "Training:  81%|████████  | 81002/100000 [3:28:29<48:04,  6.59it/s]"
     ]
    },
    {
     "name": "stdout",
     "output_type": "stream",
     "text": [
      "\n",
      "Episode 81000\n",
      "平均奖励: 3.12\n",
      "平均长度: 29.4\n",
      "平均损失: 1.2415\n",
      "平均消行: 0.32\n",
      "Epsilon: 0.050\n",
      "学习率: 0.000500\n",
      "缓冲区大小: 10000\n"
     ]
    },
    {
     "name": "stderr",
     "output_type": "stream",
     "text": [
      "Training:  81%|████████  | 81102/100000 [3:28:44<48:05,  6.55it/s]"
     ]
    },
    {
     "name": "stdout",
     "output_type": "stream",
     "text": [
      "\n",
      "Episode 81100\n",
      "平均奖励: 5.51\n",
      "平均长度: 28.7\n",
      "平均损失: 1.3509\n",
      "平均消行: 0.34\n",
      "Epsilon: 0.050\n",
      "学习率: 0.000500\n",
      "缓冲区大小: 10000\n"
     ]
    },
    {
     "name": "stderr",
     "output_type": "stream",
     "text": [
      "Training:  81%|████████  | 81202/100000 [3:28:59<46:32,  6.73it/s]"
     ]
    },
    {
     "name": "stdout",
     "output_type": "stream",
     "text": [
      "\n",
      "Episode 81200\n",
      "平均奖励: -19.24\n",
      "平均长度: 28.4\n",
      "平均损失: 1.2171\n",
      "平均消行: 0.26\n",
      "Epsilon: 0.050\n",
      "学习率: 0.000500\n",
      "缓冲区大小: 10000\n"
     ]
    },
    {
     "name": "stderr",
     "output_type": "stream",
     "text": [
      "Training:  81%|████████▏ | 81302/100000 [3:29:14<46:40,  6.68it/s]"
     ]
    },
    {
     "name": "stdout",
     "output_type": "stream",
     "text": [
      "\n",
      "Episode 81300\n",
      "平均奖励: -23.65\n",
      "平均长度: 28.0\n",
      "平均损失: 1.3088\n",
      "平均消行: 0.27\n",
      "Epsilon: 0.050\n",
      "学习率: 0.000500\n",
      "缓冲区大小: 10000\n"
     ]
    },
    {
     "name": "stderr",
     "output_type": "stream",
     "text": [
      "Training:  81%|████████▏ | 81402/100000 [3:29:29<45:25,  6.82it/s]"
     ]
    },
    {
     "name": "stdout",
     "output_type": "stream",
     "text": [
      "\n",
      "Episode 81400\n",
      "平均奖励: 21.24\n",
      "平均长度: 29.3\n",
      "平均损失: 1.1407\n",
      "平均消行: 0.37\n",
      "Epsilon: 0.050\n",
      "学习率: 0.000500\n",
      "缓冲区大小: 10000\n"
     ]
    },
    {
     "name": "stderr",
     "output_type": "stream",
     "text": [
      "Training:  82%|████████▏ | 81502/100000 [3:29:45<45:53,  6.72it/s]"
     ]
    },
    {
     "name": "stdout",
     "output_type": "stream",
     "text": [
      "\n",
      "Episode 81500\n",
      "平均奖励: 23.24\n",
      "平均长度: 29.3\n",
      "平均损失: 1.1864\n",
      "平均消行: 0.38\n",
      "Epsilon: 0.050\n",
      "学习率: 0.000500\n",
      "缓冲区大小: 10000\n"
     ]
    },
    {
     "name": "stderr",
     "output_type": "stream",
     "text": [
      "Training:  82%|████████▏ | 81602/100000 [3:30:00<46:21,  6.61it/s]"
     ]
    },
    {
     "name": "stdout",
     "output_type": "stream",
     "text": [
      "\n",
      "Episode 81600\n",
      "平均奖励: 20.84\n",
      "平均长度: 29.1\n",
      "平均损失: 1.2927\n",
      "平均消行: 0.37\n",
      "Epsilon: 0.050\n",
      "学习率: 0.000500\n",
      "缓冲区大小: 10000\n"
     ]
    },
    {
     "name": "stderr",
     "output_type": "stream",
     "text": [
      "Training:  82%|████████▏ | 81702/100000 [3:30:15<45:54,  6.64it/s]"
     ]
    },
    {
     "name": "stdout",
     "output_type": "stream",
     "text": [
      "\n",
      "Episode 81700\n",
      "平均奖励: 66.26\n",
      "平均长度: 30.2\n",
      "平均损失: 1.3010\n",
      "平均消行: 0.47\n",
      "Epsilon: 0.050\n",
      "学习率: 0.000500\n",
      "缓冲区大小: 10000\n"
     ]
    },
    {
     "name": "stderr",
     "output_type": "stream",
     "text": [
      "Training:  82%|████████▏ | 81802/100000 [3:30:30<45:28,  6.67it/s]"
     ]
    },
    {
     "name": "stdout",
     "output_type": "stream",
     "text": [
      "\n",
      "Episode 81800\n",
      "平均奖励: 5.51\n",
      "平均长度: 29.4\n",
      "平均损失: 1.2695\n",
      "平均消行: 0.32\n",
      "Epsilon: 0.050\n",
      "学习率: 0.000500\n",
      "缓冲区大小: 10000\n"
     ]
    },
    {
     "name": "stderr",
     "output_type": "stream",
     "text": [
      "Training:  82%|████████▏ | 81902/100000 [3:30:45<47:34,  6.34it/s]"
     ]
    },
    {
     "name": "stdout",
     "output_type": "stream",
     "text": [
      "\n",
      "Episode 81900\n",
      "平均奖励: 48.87\n",
      "平均长度: 29.9\n",
      "平均损失: 1.3510\n",
      "平均消行: 0.46\n",
      "Epsilon: 0.050\n",
      "学习率: 0.000500\n",
      "缓冲区大小: 10000\n"
     ]
    },
    {
     "name": "stderr",
     "output_type": "stream",
     "text": [
      "Training:  82%|████████▏ | 82002/100000 [3:31:01<1:19:09,  3.79it/s]"
     ]
    },
    {
     "name": "stdout",
     "output_type": "stream",
     "text": [
      "\n",
      "Episode 82000\n",
      "平均奖励: -20.96\n",
      "平均长度: 29.3\n",
      "平均损失: 1.2088\n",
      "平均消行: 0.24\n",
      "Epsilon: 0.050\n",
      "学习率: 0.000500\n",
      "缓冲区大小: 10000\n"
     ]
    },
    {
     "name": "stderr",
     "output_type": "stream",
     "text": [
      "Training:  82%|████████▏ | 82102/100000 [3:31:16<43:35,  6.84it/s]  "
     ]
    },
    {
     "name": "stdout",
     "output_type": "stream",
     "text": [
      "\n",
      "Episode 82100\n",
      "平均奖励: -21.87\n",
      "平均长度: 28.6\n",
      "平均损失: 1.1935\n",
      "平均消行: 0.29\n",
      "Epsilon: 0.050\n",
      "学习率: 0.000500\n",
      "缓冲区大小: 10000\n"
     ]
    },
    {
     "name": "stderr",
     "output_type": "stream",
     "text": [
      "Training:  82%|████████▏ | 82202/100000 [3:31:31<44:53,  6.61it/s]"
     ]
    },
    {
     "name": "stdout",
     "output_type": "stream",
     "text": [
      "\n",
      "Episode 82200\n",
      "平均奖励: -10.59\n",
      "平均长度: 28.1\n",
      "平均损失: 1.1505\n",
      "平均消行: 0.32\n",
      "Epsilon: 0.050\n",
      "学习率: 0.000500\n",
      "缓冲区大小: 10000\n"
     ]
    },
    {
     "name": "stderr",
     "output_type": "stream",
     "text": [
      "Training:  82%|████████▏ | 82302/100000 [3:31:46<44:44,  6.59it/s]"
     ]
    },
    {
     "name": "stdout",
     "output_type": "stream",
     "text": [
      "\n",
      "Episode 82300\n",
      "平均奖励: -40.81\n",
      "平均长度: 27.9\n",
      "平均损失: 1.0918\n",
      "平均消行: 0.22\n",
      "Epsilon: 0.050\n",
      "学习率: 0.000500\n",
      "缓冲区大小: 10000\n"
     ]
    },
    {
     "name": "stderr",
     "output_type": "stream",
     "text": [
      "Training:  82%|████████▏ | 82402/100000 [3:32:01<44:18,  6.62it/s]"
     ]
    },
    {
     "name": "stdout",
     "output_type": "stream",
     "text": [
      "\n",
      "Episode 82400\n",
      "平均奖励: -25.74\n",
      "平均长度: 28.7\n",
      "平均损失: 1.1297\n",
      "平均消行: 0.26\n",
      "Epsilon: 0.050\n",
      "学习率: 0.000500\n",
      "缓冲区大小: 10000\n"
     ]
    },
    {
     "name": "stderr",
     "output_type": "stream",
     "text": [
      "Training:  83%|████████▎ | 82502/100000 [3:32:16<43:42,  6.67it/s]"
     ]
    },
    {
     "name": "stdout",
     "output_type": "stream",
     "text": [
      "\n",
      "Episode 82500\n",
      "平均奖励: -17.70\n",
      "平均长度: 28.8\n",
      "平均损失: 1.1578\n",
      "平均消行: 0.27\n",
      "Epsilon: 0.050\n",
      "学习率: 0.000500\n",
      "缓冲区大小: 10000\n"
     ]
    },
    {
     "name": "stderr",
     "output_type": "stream",
     "text": [
      "Training:  83%|████████▎ | 82602/100000 [3:32:30<43:28,  6.67it/s]"
     ]
    },
    {
     "name": "stdout",
     "output_type": "stream",
     "text": [
      "\n",
      "Episode 82600\n",
      "平均奖励: -5.62\n",
      "平均长度: 29.4\n",
      "平均损失: 1.1230\n",
      "平均消行: 0.30\n",
      "Epsilon: 0.050\n",
      "学习率: 0.000500\n",
      "缓冲区大小: 10000\n"
     ]
    },
    {
     "name": "stderr",
     "output_type": "stream",
     "text": [
      "Training:  83%|████████▎ | 82701/100000 [3:32:45<43:14,  6.67it/s]"
     ]
    },
    {
     "name": "stdout",
     "output_type": "stream",
     "text": [
      "\n",
      "Episode 82700\n",
      "平均奖励: -23.23\n",
      "平均长度: 28.9\n",
      "平均损失: 1.1577\n",
      "平均消行: 0.26\n",
      "Epsilon: 0.050\n",
      "学习率: 0.000500\n",
      "缓冲区大小: 10000\n"
     ]
    },
    {
     "name": "stderr",
     "output_type": "stream",
     "text": [
      "Training:  83%|████████▎ | 82802/100000 [3:33:01<44:06,  6.50it/s]"
     ]
    },
    {
     "name": "stdout",
     "output_type": "stream",
     "text": [
      "\n",
      "Episode 82800\n",
      "平均奖励: -19.58\n",
      "平均长度: 29.5\n",
      "平均损失: 1.0756\n",
      "平均消行: 0.26\n",
      "Epsilon: 0.050\n",
      "学习率: 0.000500\n",
      "缓冲区大小: 10000\n"
     ]
    },
    {
     "name": "stderr",
     "output_type": "stream",
     "text": [
      "Training:  83%|████████▎ | 82902/100000 [3:33:16<42:29,  6.71it/s]"
     ]
    },
    {
     "name": "stdout",
     "output_type": "stream",
     "text": [
      "\n",
      "Episode 82900\n",
      "平均奖励: -13.22\n",
      "平均长度: 28.9\n",
      "平均损失: 1.1001\n",
      "平均消行: 0.34\n",
      "Epsilon: 0.050\n",
      "学习率: 0.000500\n",
      "缓冲区大小: 10000\n"
     ]
    },
    {
     "name": "stderr",
     "output_type": "stream",
     "text": [
      "Training:  83%|████████▎ | 83002/100000 [3:33:31<42:57,  6.59it/s]"
     ]
    },
    {
     "name": "stdout",
     "output_type": "stream",
     "text": [
      "\n",
      "Episode 83000\n",
      "平均奖励: -2.83\n",
      "平均长度: 29.7\n",
      "平均损失: 1.0985\n",
      "平均消行: 0.30\n",
      "Epsilon: 0.050\n",
      "学习率: 0.000500\n",
      "缓冲区大小: 10000\n"
     ]
    },
    {
     "name": "stderr",
     "output_type": "stream",
     "text": [
      "Training:  83%|████████▎ | 83102/100000 [3:33:46<42:17,  6.66it/s]"
     ]
    },
    {
     "name": "stdout",
     "output_type": "stream",
     "text": [
      "\n",
      "Episode 83100\n",
      "平均奖励: -1.44\n",
      "平均长度: 29.2\n",
      "平均损失: 1.1327\n",
      "平均消行: 0.32\n",
      "Epsilon: 0.050\n",
      "学习率: 0.000500\n",
      "缓冲区大小: 10000\n"
     ]
    },
    {
     "name": "stderr",
     "output_type": "stream",
     "text": [
      "Training:  83%|████████▎ | 83202/100000 [3:34:01<42:49,  6.54it/s]"
     ]
    },
    {
     "name": "stdout",
     "output_type": "stream",
     "text": [
      "\n",
      "Episode 83200\n",
      "平均奖励: -33.97\n",
      "平均长度: 28.5\n",
      "平均损失: 1.2917\n",
      "平均消行: 0.25\n",
      "Epsilon: 0.050\n",
      "学习率: 0.000500\n",
      "缓冲区大小: 10000\n"
     ]
    },
    {
     "name": "stderr",
     "output_type": "stream",
     "text": [
      "Training:  83%|████████▎ | 83302/100000 [3:34:16<41:41,  6.68it/s]"
     ]
    },
    {
     "name": "stdout",
     "output_type": "stream",
     "text": [
      "\n",
      "Episode 83300\n",
      "平均奖励: -40.07\n",
      "平均长度: 28.8\n",
      "平均损失: 1.0953\n",
      "平均消行: 0.22\n",
      "Epsilon: 0.050\n",
      "学习率: 0.000500\n",
      "缓冲区大小: 10000\n"
     ]
    },
    {
     "name": "stderr",
     "output_type": "stream",
     "text": [
      "Training:  83%|████████▎ | 83402/100000 [3:34:31<41:49,  6.61it/s]"
     ]
    },
    {
     "name": "stdout",
     "output_type": "stream",
     "text": [
      "\n",
      "Episode 83400\n",
      "平均奖励: -26.67\n",
      "平均长度: 29.2\n",
      "平均损失: 1.0900\n",
      "平均消行: 0.26\n",
      "Epsilon: 0.050\n",
      "学习率: 0.000500\n",
      "缓冲区大小: 10000\n"
     ]
    },
    {
     "name": "stderr",
     "output_type": "stream",
     "text": [
      "Training:  84%|████████▎ | 83502/100000 [3:34:46<41:23,  6.64it/s]"
     ]
    },
    {
     "name": "stdout",
     "output_type": "stream",
     "text": [
      "\n",
      "Episode 83500\n",
      "平均奖励: -45.94\n",
      "平均长度: 28.6\n",
      "平均损失: 1.1550\n",
      "平均消行: 0.20\n",
      "Epsilon: 0.050\n",
      "学习率: 0.000500\n",
      "缓冲区大小: 10000\n"
     ]
    },
    {
     "name": "stderr",
     "output_type": "stream",
     "text": [
      "Training:  84%|████████▎ | 83602/100000 [3:35:00<40:45,  6.71it/s]"
     ]
    },
    {
     "name": "stdout",
     "output_type": "stream",
     "text": [
      "\n",
      "Episode 83600\n",
      "平均奖励: 0.85\n",
      "平均长度: 29.0\n",
      "平均损失: 1.1763\n",
      "平均消行: 0.33\n",
      "Epsilon: 0.050\n",
      "学习率: 0.000500\n",
      "缓冲区大小: 10000\n"
     ]
    },
    {
     "name": "stderr",
     "output_type": "stream",
     "text": [
      "Training:  84%|████████▎ | 83702/100000 [3:35:15<39:53,  6.81it/s]"
     ]
    },
    {
     "name": "stdout",
     "output_type": "stream",
     "text": [
      "\n",
      "Episode 83700\n",
      "平均奖励: -43.81\n",
      "平均长度: 28.1\n",
      "平均损失: 1.0990\n",
      "平均消行: 0.22\n",
      "Epsilon: 0.050\n",
      "学习率: 0.000500\n",
      "缓冲区大小: 10000\n"
     ]
    },
    {
     "name": "stderr",
     "output_type": "stream",
     "text": [
      "Training:  84%|████████▍ | 83802/100000 [3:35:30<39:15,  6.88it/s]"
     ]
    },
    {
     "name": "stdout",
     "output_type": "stream",
     "text": [
      "\n",
      "Episode 83800\n",
      "平均奖励: -19.85\n",
      "平均长度: 29.0\n",
      "平均损失: 1.1524\n",
      "平均消行: 0.26\n",
      "Epsilon: 0.050\n",
      "学习率: 0.000500\n",
      "缓冲区大小: 10000\n"
     ]
    },
    {
     "name": "stderr",
     "output_type": "stream",
     "text": [
      "Training:  84%|████████▍ | 83902/100000 [3:35:45<39:58,  6.71it/s]"
     ]
    },
    {
     "name": "stdout",
     "output_type": "stream",
     "text": [
      "\n",
      "Episode 83900\n",
      "平均奖励: 3.43\n",
      "平均长度: 29.1\n",
      "平均损失: 1.0521\n",
      "平均消行: 0.32\n",
      "Epsilon: 0.050\n",
      "学习率: 0.000500\n",
      "缓冲区大小: 10000\n"
     ]
    },
    {
     "name": "stderr",
     "output_type": "stream",
     "text": [
      "Training:  84%|████████▍ | 84002/100000 [3:36:01<1:19:19,  3.36it/s]"
     ]
    },
    {
     "name": "stdout",
     "output_type": "stream",
     "text": [
      "\n",
      "Episode 84000\n",
      "平均奖励: -42.27\n",
      "平均长度: 28.6\n",
      "平均损失: 1.2037\n",
      "平均消行: 0.21\n",
      "Epsilon: 0.050\n",
      "学习率: 0.000500\n",
      "缓冲区大小: 10000\n"
     ]
    },
    {
     "name": "stderr",
     "output_type": "stream",
     "text": [
      "Training:  84%|████████▍ | 84102/100000 [3:36:16<41:05,  6.45it/s]  "
     ]
    },
    {
     "name": "stdout",
     "output_type": "stream",
     "text": [
      "\n",
      "Episode 84100\n",
      "平均奖励: -16.46\n",
      "平均长度: 28.9\n",
      "平均损失: 1.1760\n",
      "平均消行: 0.27\n",
      "Epsilon: 0.050\n",
      "学习率: 0.000500\n",
      "缓冲区大小: 10000\n"
     ]
    },
    {
     "name": "stderr",
     "output_type": "stream",
     "text": [
      "Training:  84%|████████▍ | 84202/100000 [3:36:31<38:47,  6.79it/s]"
     ]
    },
    {
     "name": "stdout",
     "output_type": "stream",
     "text": [
      "\n",
      "Episode 84200\n",
      "平均奖励: 11.37\n",
      "平均长度: 28.7\n",
      "平均损失: 1.1023\n",
      "平均消行: 0.34\n",
      "Epsilon: 0.050\n",
      "学习率: 0.000500\n",
      "缓冲区大小: 10000\n"
     ]
    },
    {
     "name": "stderr",
     "output_type": "stream",
     "text": [
      "Training:  84%|████████▍ | 84302/100000 [3:36:46<40:35,  6.45it/s]"
     ]
    },
    {
     "name": "stdout",
     "output_type": "stream",
     "text": [
      "\n",
      "Episode 84300\n",
      "平均奖励: 15.79\n",
      "平均长度: 29.6\n",
      "平均损失: 1.1435\n",
      "平均消行: 0.33\n",
      "Epsilon: 0.050\n",
      "学习率: 0.000500\n",
      "缓冲区大小: 10000\n"
     ]
    },
    {
     "name": "stderr",
     "output_type": "stream",
     "text": [
      "Training:  84%|████████▍ | 84402/100000 [3:37:01<39:28,  6.59it/s]"
     ]
    },
    {
     "name": "stdout",
     "output_type": "stream",
     "text": [
      "\n",
      "Episode 84400\n",
      "平均奖励: 19.76\n",
      "平均长度: 30.0\n",
      "平均损失: 1.1578\n",
      "平均消行: 0.32\n",
      "Epsilon: 0.050\n",
      "学习率: 0.000500\n",
      "缓冲区大小: 10000\n"
     ]
    },
    {
     "name": "stderr",
     "output_type": "stream",
     "text": [
      "Training:  85%|████████▍ | 84502/100000 [3:37:16<38:38,  6.69it/s]"
     ]
    },
    {
     "name": "stdout",
     "output_type": "stream",
     "text": [
      "\n",
      "Episode 84500\n",
      "平均奖励: 30.50\n",
      "平均长度: 29.3\n",
      "平均损失: 1.2688\n",
      "平均消行: 0.38\n",
      "Epsilon: 0.050\n",
      "学习率: 0.000500\n",
      "缓冲区大小: 10000\n"
     ]
    },
    {
     "name": "stderr",
     "output_type": "stream",
     "text": [
      "Training:  85%|████████▍ | 84602/100000 [3:37:31<38:16,  6.70it/s]"
     ]
    },
    {
     "name": "stdout",
     "output_type": "stream",
     "text": [
      "\n",
      "Episode 84600\n",
      "平均奖励: 32.47\n",
      "平均长度: 29.2\n",
      "平均损失: 1.1055\n",
      "平均消行: 0.38\n",
      "Epsilon: 0.050\n",
      "学习率: 0.000500\n",
      "缓冲区大小: 10000\n"
     ]
    },
    {
     "name": "stderr",
     "output_type": "stream",
     "text": [
      "Training:  85%|████████▍ | 84702/100000 [3:37:46<37:02,  6.88it/s]"
     ]
    },
    {
     "name": "stdout",
     "output_type": "stream",
     "text": [
      "\n",
      "Episode 84700\n",
      "平均奖励: -35.67\n",
      "平均长度: 27.9\n",
      "平均损失: 1.2081\n",
      "平均消行: 0.25\n",
      "Epsilon: 0.050\n",
      "学习率: 0.000500\n",
      "缓冲区大小: 10000\n"
     ]
    },
    {
     "name": "stderr",
     "output_type": "stream",
     "text": [
      "Training:  85%|████████▍ | 84802/100000 [3:38:01<36:57,  6.85it/s]"
     ]
    },
    {
     "name": "stdout",
     "output_type": "stream",
     "text": [
      "\n",
      "Episode 84800\n",
      "平均奖励: 11.07\n",
      "平均长度: 29.3\n",
      "平均损失: 1.1743\n",
      "平均消行: 0.34\n",
      "Epsilon: 0.050\n",
      "学习率: 0.000500\n",
      "缓冲区大小: 10000\n"
     ]
    },
    {
     "name": "stderr",
     "output_type": "stream",
     "text": [
      "Training:  85%|████████▍ | 84902/100000 [3:38:16<37:29,  6.71it/s]"
     ]
    },
    {
     "name": "stdout",
     "output_type": "stream",
     "text": [
      "\n",
      "Episode 84900\n",
      "平均奖励: 0.81\n",
      "平均长度: 29.9\n",
      "平均损失: 1.1702\n",
      "平均消行: 0.29\n",
      "Epsilon: 0.050\n",
      "学习率: 0.000500\n",
      "缓冲区大小: 10000\n"
     ]
    },
    {
     "name": "stderr",
     "output_type": "stream",
     "text": [
      "Training:  85%|████████▌ | 85002/100000 [3:38:31<38:14,  6.54it/s]"
     ]
    },
    {
     "name": "stdout",
     "output_type": "stream",
     "text": [
      "\n",
      "Episode 85000\n",
      "平均奖励: 52.07\n",
      "平均长度: 29.7\n",
      "平均损失: 1.2330\n",
      "平均消行: 0.42\n",
      "Epsilon: 0.050\n",
      "学习率: 0.000500\n",
      "缓冲区大小: 10000\n"
     ]
    },
    {
     "name": "stderr",
     "output_type": "stream",
     "text": [
      "Training:  85%|████████▌ | 85102/100000 [3:38:46<37:22,  6.64it/s]"
     ]
    },
    {
     "name": "stdout",
     "output_type": "stream",
     "text": [
      "\n",
      "Episode 85100\n",
      "平均奖励: 15.16\n",
      "平均长度: 29.6\n",
      "平均损失: 1.1745\n",
      "平均消行: 0.35\n",
      "Epsilon: 0.050\n",
      "学习率: 0.000500\n",
      "缓冲区大小: 10000\n"
     ]
    },
    {
     "name": "stderr",
     "output_type": "stream",
     "text": [
      "Training:  85%|████████▌ | 85202/100000 [3:39:01<37:51,  6.52it/s]"
     ]
    },
    {
     "name": "stdout",
     "output_type": "stream",
     "text": [
      "\n",
      "Episode 85200\n",
      "平均奖励: 30.45\n",
      "平均长度: 29.7\n",
      "平均损失: 1.2397\n",
      "平均消行: 0.38\n",
      "Epsilon: 0.050\n",
      "学习率: 0.000500\n",
      "缓冲区大小: 10000\n"
     ]
    },
    {
     "name": "stderr",
     "output_type": "stream",
     "text": [
      "Training:  85%|████████▌ | 85302/100000 [3:39:16<36:33,  6.70it/s]"
     ]
    },
    {
     "name": "stdout",
     "output_type": "stream",
     "text": [
      "\n",
      "Episode 85300\n",
      "平均奖励: 84.88\n",
      "平均长度: 30.3\n",
      "平均损失: 1.2444\n",
      "平均消行: 0.50\n",
      "Epsilon: 0.050\n",
      "学习率: 0.000500\n",
      "缓冲区大小: 10000\n"
     ]
    },
    {
     "name": "stderr",
     "output_type": "stream",
     "text": [
      "Training:  85%|████████▌ | 85402/100000 [3:39:31<38:19,  6.35it/s]"
     ]
    },
    {
     "name": "stdout",
     "output_type": "stream",
     "text": [
      "\n",
      "Episode 85400\n",
      "平均奖励: 55.69\n",
      "平均长度: 30.5\n",
      "平均损失: 1.1748\n",
      "平均消行: 0.42\n",
      "Epsilon: 0.050\n",
      "学习率: 0.000500\n",
      "缓冲区大小: 10000\n"
     ]
    },
    {
     "name": "stderr",
     "output_type": "stream",
     "text": [
      "Training:  86%|████████▌ | 85502/100000 [3:39:46<36:16,  6.66it/s]"
     ]
    },
    {
     "name": "stdout",
     "output_type": "stream",
     "text": [
      "\n",
      "Episode 85500\n",
      "平均奖励: 55.20\n",
      "平均长度: 30.0\n",
      "平均损失: 1.3095\n",
      "平均消行: 0.43\n",
      "Epsilon: 0.050\n",
      "学习率: 0.000500\n",
      "缓冲区大小: 10000\n"
     ]
    },
    {
     "name": "stderr",
     "output_type": "stream",
     "text": [
      "Training:  86%|████████▌ | 85602/100000 [3:40:01<36:42,  6.54it/s]"
     ]
    },
    {
     "name": "stdout",
     "output_type": "stream",
     "text": [
      "\n",
      "Episode 85600\n",
      "平均奖励: 7.75\n",
      "平均长度: 28.0\n",
      "平均损失: 1.2771\n",
      "平均消行: 0.37\n",
      "Epsilon: 0.050\n",
      "学习率: 0.000500\n",
      "缓冲区大小: 10000\n"
     ]
    },
    {
     "name": "stderr",
     "output_type": "stream",
     "text": [
      "Training:  86%|████████▌ | 85702/100000 [3:40:16<34:53,  6.83it/s]"
     ]
    },
    {
     "name": "stdout",
     "output_type": "stream",
     "text": [
      "\n",
      "Episode 85700\n",
      "平均奖励: 37.37\n",
      "平均长度: 29.6\n",
      "平均损失: 1.1569\n",
      "平均消行: 0.38\n",
      "Epsilon: 0.050\n",
      "学习率: 0.000500\n",
      "缓冲区大小: 10000\n"
     ]
    },
    {
     "name": "stderr",
     "output_type": "stream",
     "text": [
      "Training:  86%|████████▌ | 85802/100000 [3:40:31<36:17,  6.52it/s]"
     ]
    },
    {
     "name": "stdout",
     "output_type": "stream",
     "text": [
      "\n",
      "Episode 85800\n",
      "平均奖励: -5.84\n",
      "平均长度: 28.6\n",
      "平均损失: 1.1834\n",
      "平均消行: 0.30\n",
      "Epsilon: 0.050\n",
      "学习率: 0.000500\n",
      "缓冲区大小: 10000\n"
     ]
    },
    {
     "name": "stderr",
     "output_type": "stream",
     "text": [
      "Training:  86%|████████▌ | 85902/100000 [3:40:46<34:31,  6.81it/s]"
     ]
    },
    {
     "name": "stdout",
     "output_type": "stream",
     "text": [
      "\n",
      "Episode 85900\n",
      "平均奖励: 21.68\n",
      "平均长度: 29.1\n",
      "平均损失: 1.2065\n",
      "平均消行: 0.38\n",
      "Epsilon: 0.050\n",
      "学习率: 0.000500\n",
      "缓冲区大小: 10000\n"
     ]
    },
    {
     "name": "stderr",
     "output_type": "stream",
     "text": [
      "Training:  86%|████████▌ | 86002/100000 [3:41:02<1:02:43,  3.72it/s]"
     ]
    },
    {
     "name": "stdout",
     "output_type": "stream",
     "text": [
      "\n",
      "Episode 86000\n",
      "平均奖励: 1.92\n",
      "平均长度: 29.4\n",
      "平均损失: 1.2188\n",
      "平均消行: 0.30\n",
      "Epsilon: 0.050\n",
      "学习率: 0.000500\n",
      "缓冲区大小: 10000\n"
     ]
    },
    {
     "name": "stderr",
     "output_type": "stream",
     "text": [
      "Training:  86%|████████▌ | 86102/100000 [3:41:17<35:19,  6.56it/s]  "
     ]
    },
    {
     "name": "stdout",
     "output_type": "stream",
     "text": [
      "\n",
      "Episode 86100\n",
      "平均奖励: 36.88\n",
      "平均长度: 29.4\n",
      "平均损失: 1.2028\n",
      "平均消行: 0.42\n",
      "Epsilon: 0.050\n",
      "学习率: 0.000500\n",
      "缓冲区大小: 10000\n"
     ]
    },
    {
     "name": "stderr",
     "output_type": "stream",
     "text": [
      "Training:  86%|████████▌ | 86202/100000 [3:41:32<34:27,  6.67it/s]"
     ]
    },
    {
     "name": "stdout",
     "output_type": "stream",
     "text": [
      "\n",
      "Episode 86200\n",
      "平均奖励: -4.84\n",
      "平均长度: 28.9\n",
      "平均损失: 1.2788\n",
      "平均消行: 0.32\n",
      "Epsilon: 0.050\n",
      "学习率: 0.000500\n",
      "缓冲区大小: 10000\n"
     ]
    },
    {
     "name": "stderr",
     "output_type": "stream",
     "text": [
      "Training:  86%|████████▋ | 86302/100000 [3:41:47<34:49,  6.56it/s]"
     ]
    },
    {
     "name": "stdout",
     "output_type": "stream",
     "text": [
      "\n",
      "Episode 86300\n",
      "平均奖励: 75.15\n",
      "平均长度: 30.4\n",
      "平均损失: 1.2178\n",
      "平均消行: 0.49\n",
      "Epsilon: 0.050\n",
      "学习率: 0.000500\n",
      "缓冲区大小: 10000\n"
     ]
    },
    {
     "name": "stderr",
     "output_type": "stream",
     "text": [
      "Training:  86%|████████▋ | 86402/100000 [3:42:02<34:44,  6.52it/s]"
     ]
    },
    {
     "name": "stdout",
     "output_type": "stream",
     "text": [
      "\n",
      "Episode 86400\n",
      "平均奖励: -25.08\n",
      "平均长度: 28.2\n",
      "平均损失: 1.2814\n",
      "平均消行: 0.27\n",
      "Epsilon: 0.050\n",
      "学习率: 0.000500\n",
      "缓冲区大小: 10000\n"
     ]
    },
    {
     "name": "stderr",
     "output_type": "stream",
     "text": [
      "Training:  87%|████████▋ | 86502/100000 [3:42:17<33:51,  6.64it/s]"
     ]
    },
    {
     "name": "stdout",
     "output_type": "stream",
     "text": [
      "\n",
      "Episode 86500\n",
      "平均奖励: -0.24\n",
      "平均长度: 29.2\n",
      "平均损失: 1.2580\n",
      "平均消行: 0.34\n",
      "Epsilon: 0.050\n",
      "学习率: 0.000500\n",
      "缓冲区大小: 10000\n"
     ]
    },
    {
     "name": "stderr",
     "output_type": "stream",
     "text": [
      "Training:  87%|████████▋ | 86602/100000 [3:42:32<33:56,  6.58it/s]"
     ]
    },
    {
     "name": "stdout",
     "output_type": "stream",
     "text": [
      "\n",
      "Episode 86600\n",
      "平均奖励: 38.56\n",
      "平均长度: 30.1\n",
      "平均损失: 1.1800\n",
      "平均消行: 0.43\n",
      "Epsilon: 0.050\n",
      "学习率: 0.000500\n",
      "缓冲区大小: 10000\n"
     ]
    },
    {
     "name": "stderr",
     "output_type": "stream",
     "text": [
      "Training:  87%|████████▋ | 86702/100000 [3:42:47<33:30,  6.61it/s]"
     ]
    },
    {
     "name": "stdout",
     "output_type": "stream",
     "text": [
      "\n",
      "Episode 86700\n",
      "平均奖励: 84.49\n",
      "平均长度: 30.7\n",
      "平均损失: 1.0951\n",
      "平均消行: 0.54\n",
      "Epsilon: 0.050\n",
      "学习率: 0.000500\n",
      "缓冲区大小: 10000\n"
     ]
    },
    {
     "name": "stderr",
     "output_type": "stream",
     "text": [
      "Training:  87%|████████▋ | 86802/100000 [3:43:02<32:52,  6.69it/s]"
     ]
    },
    {
     "name": "stdout",
     "output_type": "stream",
     "text": [
      "\n",
      "Episode 86800\n",
      "平均奖励: -13.24\n",
      "平均长度: 29.4\n",
      "平均损失: 1.2344\n",
      "平均消行: 0.28\n",
      "Epsilon: 0.050\n",
      "学习率: 0.000500\n",
      "缓冲区大小: 10000\n"
     ]
    },
    {
     "name": "stderr",
     "output_type": "stream",
     "text": [
      "Training:  87%|████████▋ | 86902/100000 [3:43:17<32:57,  6.62it/s]"
     ]
    },
    {
     "name": "stdout",
     "output_type": "stream",
     "text": [
      "\n",
      "Episode 86900\n",
      "平均奖励: 61.73\n",
      "平均长度: 30.4\n",
      "平均损失: 1.2749\n",
      "平均消行: 0.46\n",
      "Epsilon: 0.050\n",
      "学习率: 0.000500\n",
      "缓冲区大小: 10000\n"
     ]
    },
    {
     "name": "stderr",
     "output_type": "stream",
     "text": [
      "Training:  87%|████████▋ | 87002/100000 [3:43:32<34:06,  6.35it/s]"
     ]
    },
    {
     "name": "stdout",
     "output_type": "stream",
     "text": [
      "\n",
      "Episode 87000\n",
      "平均奖励: 24.49\n",
      "平均长度: 30.2\n",
      "平均损失: 1.2313\n",
      "平均消行: 0.36\n",
      "Epsilon: 0.050\n",
      "学习率: 0.000500\n",
      "缓冲区大小: 10000\n"
     ]
    },
    {
     "name": "stderr",
     "output_type": "stream",
     "text": [
      "Training:  87%|████████▋ | 87102/100000 [3:43:47<31:49,  6.76it/s]"
     ]
    },
    {
     "name": "stdout",
     "output_type": "stream",
     "text": [
      "\n",
      "Episode 87100\n",
      "平均奖励: 4.90\n",
      "平均长度: 29.2\n",
      "平均损失: 1.1402\n",
      "平均消行: 0.33\n",
      "Epsilon: 0.050\n",
      "学习率: 0.000500\n",
      "缓冲区大小: 10000\n"
     ]
    },
    {
     "name": "stderr",
     "output_type": "stream",
     "text": [
      "Training:  87%|████████▋ | 87202/100000 [3:44:02<31:37,  6.74it/s]"
     ]
    },
    {
     "name": "stdout",
     "output_type": "stream",
     "text": [
      "\n",
      "Episode 87200\n",
      "平均奖励: 55.33\n",
      "平均长度: 29.8\n",
      "平均损失: 1.2270\n",
      "平均消行: 0.49\n",
      "Epsilon: 0.050\n",
      "学习率: 0.000500\n",
      "缓冲区大小: 10000\n"
     ]
    },
    {
     "name": "stderr",
     "output_type": "stream",
     "text": [
      "Training:  87%|████████▋ | 87302/100000 [3:44:17<31:09,  6.79it/s]"
     ]
    },
    {
     "name": "stdout",
     "output_type": "stream",
     "text": [
      "\n",
      "Episode 87300\n",
      "平均奖励: 7.34\n",
      "平均长度: 28.2\n",
      "平均损失: 1.2520\n",
      "平均消行: 0.41\n",
      "Epsilon: 0.050\n",
      "学习率: 0.000500\n",
      "缓冲区大小: 10000\n"
     ]
    },
    {
     "name": "stderr",
     "output_type": "stream",
     "text": [
      "Training:  87%|████████▋ | 87402/100000 [3:44:32<31:48,  6.60it/s]"
     ]
    },
    {
     "name": "stdout",
     "output_type": "stream",
     "text": [
      "\n",
      "Episode 87400\n",
      "平均奖励: 30.79\n",
      "平均长度: 30.1\n",
      "平均损失: 1.2623\n",
      "平均消行: 0.37\n",
      "Epsilon: 0.050\n",
      "学习率: 0.000500\n",
      "缓冲区大小: 10000\n"
     ]
    },
    {
     "name": "stderr",
     "output_type": "stream",
     "text": [
      "Training:  88%|████████▊ | 87502/100000 [3:44:47<30:56,  6.73it/s]"
     ]
    },
    {
     "name": "stdout",
     "output_type": "stream",
     "text": [
      "\n",
      "Episode 87500\n",
      "平均奖励: 10.84\n",
      "平均长度: 29.2\n",
      "平均损失: 1.2140\n",
      "平均消行: 0.35\n",
      "Epsilon: 0.050\n",
      "学习率: 0.000500\n",
      "缓冲区大小: 10000\n"
     ]
    },
    {
     "name": "stderr",
     "output_type": "stream",
     "text": [
      "Training:  88%|████████▊ | 87602/100000 [3:45:02<31:06,  6.64it/s]"
     ]
    },
    {
     "name": "stdout",
     "output_type": "stream",
     "text": [
      "\n",
      "Episode 87600\n",
      "平均奖励: 22.73\n",
      "平均长度: 29.4\n",
      "平均损失: 1.2260\n",
      "平均消行: 0.39\n",
      "Epsilon: 0.050\n",
      "学习率: 0.000500\n",
      "缓冲区大小: 10000\n"
     ]
    },
    {
     "name": "stderr",
     "output_type": "stream",
     "text": [
      "Training:  88%|████████▊ | 87702/100000 [3:45:17<30:54,  6.63it/s]"
     ]
    },
    {
     "name": "stdout",
     "output_type": "stream",
     "text": [
      "\n",
      "Episode 87700\n",
      "平均奖励: 11.87\n",
      "平均长度: 29.4\n",
      "平均损失: 1.2077\n",
      "平均消行: 0.35\n",
      "Epsilon: 0.050\n",
      "学习率: 0.000500\n",
      "缓冲区大小: 10000\n"
     ]
    },
    {
     "name": "stderr",
     "output_type": "stream",
     "text": [
      "Training:  88%|████████▊ | 87802/100000 [3:45:32<30:12,  6.73it/s]"
     ]
    },
    {
     "name": "stdout",
     "output_type": "stream",
     "text": [
      "\n",
      "Episode 87800\n",
      "平均奖励: -15.05\n",
      "平均长度: 29.2\n",
      "平均损失: 1.2286\n",
      "平均消行: 0.28\n",
      "Epsilon: 0.050\n",
      "学习率: 0.000500\n",
      "缓冲区大小: 10000\n"
     ]
    },
    {
     "name": "stderr",
     "output_type": "stream",
     "text": [
      "Training:  88%|████████▊ | 87902/100000 [3:45:47<29:27,  6.85it/s]"
     ]
    },
    {
     "name": "stdout",
     "output_type": "stream",
     "text": [
      "\n",
      "Episode 87900\n",
      "平均奖励: 6.62\n",
      "平均长度: 27.9\n",
      "平均损失: 1.2028\n",
      "平均消行: 0.41\n",
      "Epsilon: 0.050\n",
      "学习率: 0.000500\n",
      "缓冲区大小: 10000\n"
     ]
    },
    {
     "name": "stderr",
     "output_type": "stream",
     "text": [
      "Training:  88%|████████▊ | 88002/100000 [3:46:02<54:17,  3.68it/s]  "
     ]
    },
    {
     "name": "stdout",
     "output_type": "stream",
     "text": [
      "\n",
      "Episode 88000\n",
      "平均奖励: 10.94\n",
      "平均长度: 29.1\n",
      "平均损失: 1.2661\n",
      "平均消行: 0.34\n",
      "Epsilon: 0.050\n",
      "学习率: 0.000500\n",
      "缓冲区大小: 10000\n"
     ]
    },
    {
     "name": "stderr",
     "output_type": "stream",
     "text": [
      "Training:  88%|████████▊ | 88102/100000 [3:46:17<28:40,  6.92it/s]"
     ]
    },
    {
     "name": "stdout",
     "output_type": "stream",
     "text": [
      "\n",
      "Episode 88100\n",
      "平均奖励: -3.83\n",
      "平均长度: 29.5\n",
      "平均损失: 1.1093\n",
      "平均消行: 0.28\n",
      "Epsilon: 0.050\n",
      "学习率: 0.000500\n",
      "缓冲区大小: 10000\n"
     ]
    },
    {
     "name": "stderr",
     "output_type": "stream",
     "text": [
      "Training:  88%|████████▊ | 88202/100000 [3:46:32<29:23,  6.69it/s]"
     ]
    },
    {
     "name": "stdout",
     "output_type": "stream",
     "text": [
      "\n",
      "Episode 88200\n",
      "平均奖励: -3.71\n",
      "平均长度: 30.2\n",
      "平均损失: 1.1492\n",
      "平均消行: 0.25\n",
      "Epsilon: 0.050\n",
      "学习率: 0.000500\n",
      "缓冲区大小: 10000\n"
     ]
    },
    {
     "name": "stderr",
     "output_type": "stream",
     "text": [
      "Training:  88%|████████▊ | 88302/100000 [3:46:47<29:09,  6.68it/s]"
     ]
    },
    {
     "name": "stdout",
     "output_type": "stream",
     "text": [
      "\n",
      "Episode 88300\n",
      "平均奖励: -7.91\n",
      "平均长度: 28.7\n",
      "平均损失: 1.0877\n",
      "平均消行: 0.30\n",
      "Epsilon: 0.050\n",
      "学习率: 0.000500\n",
      "缓冲区大小: 10000\n"
     ]
    },
    {
     "name": "stderr",
     "output_type": "stream",
     "text": [
      "Training:  88%|████████▊ | 88402/100000 [3:47:02<30:04,  6.43it/s]"
     ]
    },
    {
     "name": "stdout",
     "output_type": "stream",
     "text": [
      "\n",
      "Episode 88400\n",
      "平均奖励: 27.77\n",
      "平均长度: 30.4\n",
      "平均损失: 1.1446\n",
      "平均消行: 0.34\n",
      "Epsilon: 0.050\n",
      "学习率: 0.000500\n",
      "缓冲区大小: 10000\n"
     ]
    },
    {
     "name": "stderr",
     "output_type": "stream",
     "text": [
      "Training:  89%|████████▊ | 88502/100000 [3:47:17<28:20,  6.76it/s]"
     ]
    },
    {
     "name": "stdout",
     "output_type": "stream",
     "text": [
      "\n",
      "Episode 88500\n",
      "平均奖励: 3.58\n",
      "平均长度: 29.1\n",
      "平均损失: 1.0258\n",
      "平均消行: 0.32\n",
      "Epsilon: 0.050\n",
      "学习率: 0.000500\n",
      "缓冲区大小: 10000\n"
     ]
    },
    {
     "name": "stderr",
     "output_type": "stream",
     "text": [
      "Training:  89%|████████▊ | 88602/100000 [3:47:32<27:53,  6.81it/s]"
     ]
    },
    {
     "name": "stdout",
     "output_type": "stream",
     "text": [
      "\n",
      "Episode 88600\n",
      "平均奖励: 36.65\n",
      "平均长度: 29.6\n",
      "平均损失: 1.1292\n",
      "平均消行: 0.40\n",
      "Epsilon: 0.050\n",
      "学习率: 0.000500\n",
      "缓冲区大小: 10000\n"
     ]
    },
    {
     "name": "stderr",
     "output_type": "stream",
     "text": [
      "Training:  89%|████████▊ | 88702/100000 [3:47:47<28:31,  6.60it/s]"
     ]
    },
    {
     "name": "stdout",
     "output_type": "stream",
     "text": [
      "\n",
      "Episode 88700\n",
      "平均奖励: 16.60\n",
      "平均长度: 29.9\n",
      "平均损失: 1.1694\n",
      "平均消行: 0.35\n",
      "Epsilon: 0.050\n",
      "学习率: 0.000500\n",
      "缓冲区大小: 10000\n"
     ]
    },
    {
     "name": "stderr",
     "output_type": "stream",
     "text": [
      "Training:  89%|████████▉ | 88802/100000 [3:48:02<28:28,  6.55it/s]"
     ]
    },
    {
     "name": "stdout",
     "output_type": "stream",
     "text": [
      "\n",
      "Episode 88800\n",
      "平均奖励: 43.53\n",
      "平均长度: 30.2\n",
      "平均损失: 1.1573\n",
      "平均消行: 0.40\n",
      "Epsilon: 0.050\n",
      "学习率: 0.000500\n",
      "缓冲区大小: 10000\n"
     ]
    },
    {
     "name": "stderr",
     "output_type": "stream",
     "text": [
      "Training:  89%|████████▉ | 88902/100000 [3:48:17<26:49,  6.90it/s]"
     ]
    },
    {
     "name": "stdout",
     "output_type": "stream",
     "text": [
      "\n",
      "Episode 88900\n",
      "平均奖励: 6.12\n",
      "平均长度: 29.2\n",
      "平均损失: 1.3072\n",
      "平均消行: 0.33\n",
      "Epsilon: 0.050\n",
      "学习率: 0.000500\n",
      "缓冲区大小: 10000\n"
     ]
    },
    {
     "name": "stderr",
     "output_type": "stream",
     "text": [
      "Training:  89%|████████▉ | 89002/100000 [3:48:32<27:23,  6.69it/s]"
     ]
    },
    {
     "name": "stdout",
     "output_type": "stream",
     "text": [
      "\n",
      "Episode 89000\n",
      "平均奖励: 35.60\n",
      "平均长度: 29.2\n",
      "平均损失: 1.3549\n",
      "平均消行: 0.43\n",
      "Epsilon: 0.050\n",
      "学习率: 0.000500\n",
      "缓冲区大小: 10000\n"
     ]
    },
    {
     "name": "stderr",
     "output_type": "stream",
     "text": [
      "Training:  89%|████████▉ | 89102/100000 [3:48:47<27:00,  6.72it/s]"
     ]
    },
    {
     "name": "stdout",
     "output_type": "stream",
     "text": [
      "\n",
      "Episode 89100\n",
      "平均奖励: 39.48\n",
      "平均长度: 29.0\n",
      "平均损失: 1.1652\n",
      "平均消行: 0.43\n",
      "Epsilon: 0.050\n",
      "学习率: 0.000500\n",
      "缓冲区大小: 10000\n"
     ]
    },
    {
     "name": "stderr",
     "output_type": "stream",
     "text": [
      "Training:  89%|████████▉ | 89202/100000 [3:49:02<27:29,  6.55it/s]"
     ]
    },
    {
     "name": "stdout",
     "output_type": "stream",
     "text": [
      "\n",
      "Episode 89200\n",
      "平均奖励: 50.80\n",
      "平均长度: 30.5\n",
      "平均损失: 1.0919\n",
      "平均消行: 0.40\n",
      "Epsilon: 0.050\n",
      "学习率: 0.000500\n",
      "缓冲区大小: 10000\n"
     ]
    },
    {
     "name": "stderr",
     "output_type": "stream",
     "text": [
      "Training:  89%|████████▉ | 89302/100000 [3:49:17<26:07,  6.83it/s]"
     ]
    },
    {
     "name": "stdout",
     "output_type": "stream",
     "text": [
      "\n",
      "Episode 89300\n",
      "平均奖励: 61.61\n",
      "平均长度: 30.1\n",
      "平均损失: 1.1405\n",
      "平均消行: 0.47\n",
      "Epsilon: 0.050\n",
      "学习率: 0.000500\n",
      "缓冲区大小: 10000\n"
     ]
    },
    {
     "name": "stderr",
     "output_type": "stream",
     "text": [
      "Training:  89%|████████▉ | 89402/100000 [3:49:32<26:10,  6.75it/s]"
     ]
    },
    {
     "name": "stdout",
     "output_type": "stream",
     "text": [
      "\n",
      "Episode 89400\n",
      "平均奖励: 48.30\n",
      "平均长度: 29.1\n",
      "平均损失: 1.3925\n",
      "平均消行: 0.49\n",
      "Epsilon: 0.050\n",
      "学习率: 0.000500\n",
      "缓冲区大小: 10000\n"
     ]
    },
    {
     "name": "stderr",
     "output_type": "stream",
     "text": [
      "Training:  90%|████████▉ | 89502/100000 [3:49:47<25:40,  6.81it/s]"
     ]
    },
    {
     "name": "stdout",
     "output_type": "stream",
     "text": [
      "\n",
      "Episode 89500\n",
      "平均奖励: 21.73\n",
      "平均长度: 29.2\n",
      "平均损失: 1.2387\n",
      "平均消行: 0.38\n",
      "Epsilon: 0.050\n",
      "学习率: 0.000500\n",
      "缓冲区大小: 10000\n"
     ]
    },
    {
     "name": "stderr",
     "output_type": "stream",
     "text": [
      "Training:  90%|████████▉ | 89602/100000 [3:50:02<25:35,  6.77it/s]"
     ]
    },
    {
     "name": "stdout",
     "output_type": "stream",
     "text": [
      "\n",
      "Episode 89600\n",
      "平均奖励: 24.84\n",
      "平均长度: 30.1\n",
      "平均损失: 1.2127\n",
      "平均消行: 0.38\n",
      "Epsilon: 0.050\n",
      "学习率: 0.000500\n",
      "缓冲区大小: 10000\n"
     ]
    },
    {
     "name": "stderr",
     "output_type": "stream",
     "text": [
      "Training:  90%|████████▉ | 89702/100000 [3:50:16<26:12,  6.55it/s]"
     ]
    },
    {
     "name": "stdout",
     "output_type": "stream",
     "text": [
      "\n",
      "Episode 89700\n",
      "平均奖励: 87.06\n",
      "平均长度: 30.1\n",
      "平均损失: 1.1325\n",
      "平均消行: 0.54\n",
      "Epsilon: 0.050\n",
      "学习率: 0.000500\n",
      "缓冲区大小: 10000\n"
     ]
    },
    {
     "name": "stderr",
     "output_type": "stream",
     "text": [
      "Training:  90%|████████▉ | 89802/100000 [3:50:31<26:02,  6.53it/s]"
     ]
    },
    {
     "name": "stdout",
     "output_type": "stream",
     "text": [
      "\n",
      "Episode 89800\n",
      "平均奖励: 53.86\n",
      "平均长度: 29.3\n",
      "平均损失: 1.1225\n",
      "平均消行: 0.48\n",
      "Epsilon: 0.050\n",
      "学习率: 0.000500\n",
      "缓冲区大小: 10000\n"
     ]
    },
    {
     "name": "stderr",
     "output_type": "stream",
     "text": [
      "Training:  90%|████████▉ | 89902/100000 [3:50:46<24:38,  6.83it/s]"
     ]
    },
    {
     "name": "stdout",
     "output_type": "stream",
     "text": [
      "\n",
      "Episode 89900\n",
      "平均奖励: 14.47\n",
      "平均长度: 29.5\n",
      "平均损失: 1.2133\n",
      "平均消行: 0.34\n",
      "Epsilon: 0.050\n",
      "学习率: 0.000500\n",
      "缓冲区大小: 10000\n"
     ]
    },
    {
     "name": "stderr",
     "output_type": "stream",
     "text": [
      "Training:  90%|█████████ | 90002/100000 [3:51:02<51:20,  3.25it/s]  "
     ]
    },
    {
     "name": "stdout",
     "output_type": "stream",
     "text": [
      "\n",
      "Episode 90000\n",
      "平均奖励: 9.08\n",
      "平均长度: 28.5\n",
      "平均损失: 1.0718\n",
      "平均消行: 0.35\n",
      "Epsilon: 0.050\n",
      "学习率: 0.000500\n",
      "缓冲区大小: 10000\n"
     ]
    },
    {
     "name": "stderr",
     "output_type": "stream",
     "text": [
      "Training:  90%|█████████ | 90102/100000 [3:51:17<24:34,  6.71it/s]"
     ]
    },
    {
     "name": "stdout",
     "output_type": "stream",
     "text": [
      "\n",
      "Episode 90100\n",
      "平均奖励: 14.67\n",
      "平均长度: 29.3\n",
      "平均损失: 1.0163\n",
      "平均消行: 0.33\n",
      "Epsilon: 0.050\n",
      "学习率: 0.000500\n",
      "缓冲区大小: 10000\n"
     ]
    },
    {
     "name": "stderr",
     "output_type": "stream",
     "text": [
      "Training:  90%|█████████ | 90202/100000 [3:51:32<24:05,  6.78it/s]"
     ]
    },
    {
     "name": "stdout",
     "output_type": "stream",
     "text": [
      "\n",
      "Episode 90200\n",
      "平均奖励: 4.60\n",
      "平均长度: 28.3\n",
      "平均损失: 0.9840\n",
      "平均消行: 0.34\n",
      "Epsilon: 0.050\n",
      "学习率: 0.000500\n",
      "缓冲区大小: 10000\n"
     ]
    },
    {
     "name": "stderr",
     "output_type": "stream",
     "text": [
      "Training:  90%|█████████ | 90302/100000 [3:51:47<24:21,  6.64it/s]"
     ]
    },
    {
     "name": "stdout",
     "output_type": "stream",
     "text": [
      "\n",
      "Episode 90300\n",
      "平均奖励: -29.37\n",
      "平均长度: 28.2\n",
      "平均损失: 1.0931\n",
      "平均消行: 0.25\n",
      "Epsilon: 0.050\n",
      "学习率: 0.000500\n",
      "缓冲区大小: 10000\n"
     ]
    },
    {
     "name": "stderr",
     "output_type": "stream",
     "text": [
      "Training:  90%|█████████ | 90402/100000 [3:52:02<23:41,  6.75it/s]"
     ]
    },
    {
     "name": "stdout",
     "output_type": "stream",
     "text": [
      "\n",
      "Episode 90400\n",
      "平均奖励: -0.09\n",
      "平均长度: 29.6\n",
      "平均损失: 1.0951\n",
      "平均消行: 0.29\n",
      "Epsilon: 0.050\n",
      "学习率: 0.000500\n",
      "缓冲区大小: 10000\n"
     ]
    },
    {
     "name": "stderr",
     "output_type": "stream",
     "text": [
      "Training:  91%|█████████ | 90502/100000 [3:52:16<23:34,  6.72it/s]"
     ]
    },
    {
     "name": "stdout",
     "output_type": "stream",
     "text": [
      "\n",
      "Episode 90500\n",
      "平均奖励: 22.45\n",
      "平均长度: 29.3\n",
      "平均损失: 1.0574\n",
      "平均消行: 0.37\n",
      "Epsilon: 0.050\n",
      "学习率: 0.000500\n",
      "缓冲区大小: 10000\n"
     ]
    },
    {
     "name": "stderr",
     "output_type": "stream",
     "text": [
      "Training:  91%|█████████ | 90602/100000 [3:52:31<24:06,  6.50it/s]"
     ]
    },
    {
     "name": "stdout",
     "output_type": "stream",
     "text": [
      "\n",
      "Episode 90600\n",
      "平均奖励: 4.05\n",
      "平均长度: 29.7\n",
      "平均损失: 1.1892\n",
      "平均消行: 0.29\n",
      "Epsilon: 0.050\n",
      "学习率: 0.000500\n",
      "缓冲区大小: 10000\n"
     ]
    },
    {
     "name": "stderr",
     "output_type": "stream",
     "text": [
      "Training:  91%|█████████ | 90702/100000 [3:52:46<23:42,  6.54it/s]"
     ]
    },
    {
     "name": "stdout",
     "output_type": "stream",
     "text": [
      "\n",
      "Episode 90700\n",
      "平均奖励: 12.71\n",
      "平均长度: 28.9\n",
      "平均损失: 1.1116\n",
      "平均消行: 0.34\n",
      "Epsilon: 0.050\n",
      "学习率: 0.000500\n",
      "缓冲区大小: 10000\n"
     ]
    },
    {
     "name": "stderr",
     "output_type": "stream",
     "text": [
      "Training:  91%|█████████ | 90802/100000 [3:53:01<23:00,  6.66it/s]"
     ]
    },
    {
     "name": "stdout",
     "output_type": "stream",
     "text": [
      "\n",
      "Episode 90800\n",
      "平均奖励: 25.45\n",
      "平均长度: 30.3\n",
      "平均损失: 1.1015\n",
      "平均消行: 0.33\n",
      "Epsilon: 0.050\n",
      "学习率: 0.000500\n",
      "缓冲区大小: 10000\n"
     ]
    },
    {
     "name": "stderr",
     "output_type": "stream",
     "text": [
      "Training:  91%|█████████ | 90902/100000 [3:53:16<22:12,  6.83it/s]"
     ]
    },
    {
     "name": "stdout",
     "output_type": "stream",
     "text": [
      "\n",
      "Episode 90900\n",
      "平均奖励: 24.85\n",
      "平均长度: 30.2\n",
      "平均损失: 1.0926\n",
      "平均消行: 0.35\n",
      "Epsilon: 0.050\n",
      "学习率: 0.000500\n",
      "缓冲区大小: 10000\n"
     ]
    },
    {
     "name": "stderr",
     "output_type": "stream",
     "text": [
      "Training:  91%|█████████ | 91002/100000 [3:53:31<22:10,  6.76it/s]"
     ]
    },
    {
     "name": "stdout",
     "output_type": "stream",
     "text": [
      "\n",
      "Episode 91000\n",
      "平均奖励: 12.80\n",
      "平均长度: 28.9\n",
      "平均损失: 1.0387\n",
      "平均消行: 0.37\n",
      "Epsilon: 0.050\n",
      "学习率: 0.000500\n",
      "缓冲区大小: 10000\n"
     ]
    },
    {
     "name": "stderr",
     "output_type": "stream",
     "text": [
      "Training:  91%|█████████ | 91102/100000 [3:53:46<21:30,  6.89it/s]"
     ]
    },
    {
     "name": "stdout",
     "output_type": "stream",
     "text": [
      "\n",
      "Episode 91100\n",
      "平均奖励: 39.23\n",
      "平均长度: 29.6\n",
      "平均损失: 1.1870\n",
      "平均消行: 0.39\n",
      "Epsilon: 0.050\n",
      "学习率: 0.000500\n",
      "缓冲区大小: 10000\n"
     ]
    },
    {
     "name": "stderr",
     "output_type": "stream",
     "text": [
      "Training:  91%|█████████ | 91202/100000 [3:54:01<22:21,  6.56it/s]"
     ]
    },
    {
     "name": "stdout",
     "output_type": "stream",
     "text": [
      "\n",
      "Episode 91200\n",
      "平均奖励: 68.68\n",
      "平均长度: 30.1\n",
      "平均损失: 1.3231\n",
      "平均消行: 0.49\n",
      "Epsilon: 0.050\n",
      "学习率: 0.000500\n",
      "缓冲区大小: 10000\n"
     ]
    },
    {
     "name": "stderr",
     "output_type": "stream",
     "text": [
      "Training:  91%|█████████▏| 91302/100000 [3:54:16<21:13,  6.83it/s]"
     ]
    },
    {
     "name": "stdout",
     "output_type": "stream",
     "text": [
      "\n",
      "Episode 91300\n",
      "平均奖励: 7.82\n",
      "平均长度: 28.2\n",
      "平均损失: 1.3346\n",
      "平均消行: 0.36\n",
      "Epsilon: 0.050\n",
      "学习率: 0.000500\n",
      "缓冲区大小: 10000\n"
     ]
    },
    {
     "name": "stderr",
     "output_type": "stream",
     "text": [
      "Training:  91%|█████████▏| 91402/100000 [3:54:31<21:51,  6.56it/s]"
     ]
    },
    {
     "name": "stdout",
     "output_type": "stream",
     "text": [
      "\n",
      "Episode 91400\n",
      "平均奖励: 63.24\n",
      "平均长度: 29.5\n",
      "平均损失: 1.3406\n",
      "平均消行: 0.49\n",
      "Epsilon: 0.050\n",
      "学习率: 0.000500\n",
      "缓冲区大小: 10000\n"
     ]
    },
    {
     "name": "stderr",
     "output_type": "stream",
     "text": [
      "Training:  92%|█████████▏| 91502/100000 [3:54:46<21:18,  6.65it/s]"
     ]
    },
    {
     "name": "stdout",
     "output_type": "stream",
     "text": [
      "\n",
      "Episode 91500\n",
      "平均奖励: 1.68\n",
      "平均长度: 29.0\n",
      "平均损失: 1.3540\n",
      "平均消行: 0.32\n",
      "Epsilon: 0.050\n",
      "学习率: 0.000500\n",
      "缓冲区大小: 10000\n"
     ]
    },
    {
     "name": "stderr",
     "output_type": "stream",
     "text": [
      "Training:  92%|█████████▏| 91602/100000 [3:55:01<21:33,  6.49it/s]"
     ]
    },
    {
     "name": "stdout",
     "output_type": "stream",
     "text": [
      "\n",
      "Episode 91600\n",
      "平均奖励: -4.17\n",
      "平均长度: 28.2\n",
      "平均损失: 1.2519\n",
      "平均消行: 0.32\n",
      "Epsilon: 0.050\n",
      "学习率: 0.000500\n",
      "缓冲区大小: 10000\n"
     ]
    },
    {
     "name": "stderr",
     "output_type": "stream",
     "text": [
      "Training:  92%|█████████▏| 91702/100000 [3:55:16<20:57,  6.60it/s]"
     ]
    },
    {
     "name": "stdout",
     "output_type": "stream",
     "text": [
      "\n",
      "Episode 91700\n",
      "平均奖励: -31.18\n",
      "平均长度: 27.5\n",
      "平均损失: 1.2608\n",
      "平均消行: 0.31\n",
      "Epsilon: 0.050\n",
      "学习率: 0.000500\n",
      "缓冲区大小: 10000\n"
     ]
    },
    {
     "name": "stderr",
     "output_type": "stream",
     "text": [
      "Training:  92%|█████████▏| 91802/100000 [3:55:31<20:49,  6.56it/s]"
     ]
    },
    {
     "name": "stdout",
     "output_type": "stream",
     "text": [
      "\n",
      "Episode 91800\n",
      "平均奖励: -74.24\n",
      "平均长度: 27.3\n",
      "平均损失: 1.1431\n",
      "平均消行: 0.19\n",
      "Epsilon: 0.050\n",
      "学习率: 0.000500\n",
      "缓冲区大小: 10000\n"
     ]
    },
    {
     "name": "stderr",
     "output_type": "stream",
     "text": [
      "Training:  92%|█████████▏| 91902/100000 [3:55:46<19:59,  6.75it/s]"
     ]
    },
    {
     "name": "stdout",
     "output_type": "stream",
     "text": [
      "\n",
      "Episode 91900\n",
      "平均奖励: 9.97\n",
      "平均长度: 28.8\n",
      "平均损失: 1.2039\n",
      "平均消行: 0.36\n",
      "Epsilon: 0.050\n",
      "学习率: 0.000500\n",
      "缓冲区大小: 10000\n"
     ]
    },
    {
     "name": "stderr",
     "output_type": "stream",
     "text": [
      "Training:  92%|█████████▏| 92002/100000 [3:56:01<37:34,  3.55it/s]"
     ]
    },
    {
     "name": "stdout",
     "output_type": "stream",
     "text": [
      "\n",
      "Episode 92000\n",
      "平均奖励: 33.82\n",
      "平均长度: 29.3\n",
      "平均损失: 1.2076\n",
      "平均消行: 0.40\n",
      "Epsilon: 0.050\n",
      "学习率: 0.000500\n",
      "缓冲区大小: 10000\n"
     ]
    },
    {
     "name": "stderr",
     "output_type": "stream",
     "text": [
      "Training:  92%|█████████▏| 92102/100000 [3:56:16<20:13,  6.51it/s]"
     ]
    },
    {
     "name": "stdout",
     "output_type": "stream",
     "text": [
      "\n",
      "Episode 92100\n",
      "平均奖励: 85.48\n",
      "平均长度: 30.4\n",
      "平均损失: 1.1673\n",
      "平均消行: 0.53\n",
      "Epsilon: 0.050\n",
      "学习率: 0.000500\n",
      "缓冲区大小: 10000\n"
     ]
    },
    {
     "name": "stderr",
     "output_type": "stream",
     "text": [
      "Training:  92%|█████████▏| 92202/100000 [3:56:31<19:04,  6.82it/s]"
     ]
    },
    {
     "name": "stdout",
     "output_type": "stream",
     "text": [
      "\n",
      "Episode 92200\n",
      "平均奖励: -10.28\n",
      "平均长度: 29.3\n",
      "平均损失: 1.2287\n",
      "平均消行: 0.26\n",
      "Epsilon: 0.050\n",
      "学习率: 0.000500\n",
      "缓冲区大小: 10000\n"
     ]
    },
    {
     "name": "stderr",
     "output_type": "stream",
     "text": [
      "Training:  92%|█████████▏| 92302/100000 [3:56:46<18:37,  6.89it/s]"
     ]
    },
    {
     "name": "stdout",
     "output_type": "stream",
     "text": [
      "\n",
      "Episode 92300\n",
      "平均奖励: 52.53\n",
      "平均长度: 29.7\n",
      "平均损失: 1.2201\n",
      "平均消行: 0.43\n",
      "Epsilon: 0.050\n",
      "学习率: 0.000500\n",
      "缓冲区大小: 10000\n"
     ]
    },
    {
     "name": "stderr",
     "output_type": "stream",
     "text": [
      "Training:  92%|█████████▏| 92402/100000 [3:57:01<18:47,  6.74it/s]"
     ]
    },
    {
     "name": "stdout",
     "output_type": "stream",
     "text": [
      "\n",
      "Episode 92400\n",
      "平均奖励: 62.57\n",
      "平均长度: 30.1\n",
      "平均损失: 1.2089\n",
      "平均消行: 0.44\n",
      "Epsilon: 0.050\n",
      "学习率: 0.000500\n",
      "缓冲区大小: 10000\n"
     ]
    },
    {
     "name": "stderr",
     "output_type": "stream",
     "text": [
      "Training:  93%|█████████▎| 92502/100000 [3:57:16<18:00,  6.94it/s]"
     ]
    },
    {
     "name": "stdout",
     "output_type": "stream",
     "text": [
      "\n",
      "Episode 92500\n",
      "平均奖励: 68.00\n",
      "平均长度: 30.3\n",
      "平均损失: 1.2607\n",
      "平均消行: 0.47\n",
      "Epsilon: 0.050\n",
      "学习率: 0.000500\n",
      "缓冲区大小: 10000\n"
     ]
    },
    {
     "name": "stderr",
     "output_type": "stream",
     "text": [
      "Training:  93%|█████████▎| 92602/100000 [3:57:31<18:18,  6.74it/s]"
     ]
    },
    {
     "name": "stdout",
     "output_type": "stream",
     "text": [
      "\n",
      "Episode 92600\n",
      "平均奖励: -13.38\n",
      "平均长度: 28.9\n",
      "平均损失: 1.1171\n",
      "平均消行: 0.26\n",
      "Epsilon: 0.050\n",
      "学习率: 0.000500\n",
      "缓冲区大小: 10000\n"
     ]
    },
    {
     "name": "stderr",
     "output_type": "stream",
     "text": [
      "Training:  93%|█████████▎| 92702/100000 [3:57:46<18:09,  6.70it/s]"
     ]
    },
    {
     "name": "stdout",
     "output_type": "stream",
     "text": [
      "\n",
      "Episode 92700\n",
      "平均奖励: -29.71\n",
      "平均长度: 29.0\n",
      "平均损失: 1.1166\n",
      "平均消行: 0.22\n",
      "Epsilon: 0.050\n",
      "学习率: 0.000500\n",
      "缓冲区大小: 10000\n"
     ]
    },
    {
     "name": "stderr",
     "output_type": "stream",
     "text": [
      "Training:  93%|█████████▎| 92802/100000 [3:58:01<18:09,  6.61it/s]"
     ]
    },
    {
     "name": "stdout",
     "output_type": "stream",
     "text": [
      "\n",
      "Episode 92800\n",
      "平均奖励: 13.03\n",
      "平均长度: 29.2\n",
      "平均损失: 1.0769\n",
      "平均消行: 0.33\n",
      "Epsilon: 0.050\n",
      "学习率: 0.000500\n",
      "缓冲区大小: 10000\n"
     ]
    },
    {
     "name": "stderr",
     "output_type": "stream",
     "text": [
      "Training:  93%|█████████▎| 92902/100000 [3:58:16<18:06,  6.53it/s]"
     ]
    },
    {
     "name": "stdout",
     "output_type": "stream",
     "text": [
      "\n",
      "Episode 92900\n",
      "平均奖励: -24.71\n",
      "平均长度: 29.5\n",
      "平均损失: 1.0967\n",
      "平均消行: 0.23\n",
      "Epsilon: 0.050\n",
      "学习率: 0.000500\n",
      "缓冲区大小: 10000\n"
     ]
    },
    {
     "name": "stderr",
     "output_type": "stream",
     "text": [
      "Training:  93%|█████████▎| 93002/100000 [3:58:31<17:31,  6.66it/s]"
     ]
    },
    {
     "name": "stdout",
     "output_type": "stream",
     "text": [
      "\n",
      "Episode 93000\n",
      "平均奖励: -18.47\n",
      "平均长度: 28.8\n",
      "平均损失: 1.1321\n",
      "平均消行: 0.26\n",
      "Epsilon: 0.050\n",
      "学习率: 0.000500\n",
      "缓冲区大小: 10000\n"
     ]
    },
    {
     "name": "stderr",
     "output_type": "stream",
     "text": [
      "Training:  93%|█████████▎| 93102/100000 [3:58:46<17:10,  6.69it/s]"
     ]
    },
    {
     "name": "stdout",
     "output_type": "stream",
     "text": [
      "\n",
      "Episode 93100\n",
      "平均奖励: 1.80\n",
      "平均长度: 28.7\n",
      "平均损失: 1.1236\n",
      "平均消行: 0.31\n",
      "Epsilon: 0.050\n",
      "学习率: 0.000500\n",
      "缓冲区大小: 10000\n"
     ]
    },
    {
     "name": "stderr",
     "output_type": "stream",
     "text": [
      "Training:  93%|█████████▎| 93202/100000 [3:59:00<16:44,  6.76it/s]"
     ]
    },
    {
     "name": "stdout",
     "output_type": "stream",
     "text": [
      "\n",
      "Episode 93200\n",
      "平均奖励: 48.12\n",
      "平均长度: 30.2\n",
      "平均损失: 1.1209\n",
      "平均消行: 0.40\n",
      "Epsilon: 0.050\n",
      "学习率: 0.000500\n",
      "缓冲区大小: 10000\n"
     ]
    },
    {
     "name": "stderr",
     "output_type": "stream",
     "text": [
      "Training:  93%|█████████▎| 93302/100000 [3:59:15<17:08,  6.51it/s]"
     ]
    },
    {
     "name": "stdout",
     "output_type": "stream",
     "text": [
      "\n",
      "Episode 93300\n",
      "平均奖励: 61.78\n",
      "平均长度: 29.9\n",
      "平均损失: 1.2038\n",
      "平均消行: 0.47\n",
      "Epsilon: 0.050\n",
      "学习率: 0.000500\n",
      "缓冲区大小: 10000\n"
     ]
    },
    {
     "name": "stderr",
     "output_type": "stream",
     "text": [
      "Training:  93%|█████████▎| 93402/100000 [3:59:30<17:05,  6.44it/s]"
     ]
    },
    {
     "name": "stdout",
     "output_type": "stream",
     "text": [
      "\n",
      "Episode 93400\n",
      "平均奖励: 51.13\n",
      "平均长度: 29.6\n",
      "平均损失: 1.3371\n",
      "平均消行: 0.43\n",
      "Epsilon: 0.050\n",
      "学习率: 0.000500\n",
      "缓冲区大小: 10000\n"
     ]
    },
    {
     "name": "stderr",
     "output_type": "stream",
     "text": [
      "Training:  94%|█████████▎| 93502/100000 [3:59:45<16:34,  6.53it/s]"
     ]
    },
    {
     "name": "stdout",
     "output_type": "stream",
     "text": [
      "\n",
      "Episode 93500\n",
      "平均奖励: 13.57\n",
      "平均长度: 28.8\n",
      "平均损失: 1.3090\n",
      "平均消行: 0.38\n",
      "Epsilon: 0.050\n",
      "学习率: 0.000500\n",
      "缓冲区大小: 10000\n"
     ]
    },
    {
     "name": "stderr",
     "output_type": "stream",
     "text": [
      "Training:  94%|█████████▎| 93602/100000 [4:00:00<15:54,  6.71it/s]"
     ]
    },
    {
     "name": "stdout",
     "output_type": "stream",
     "text": [
      "\n",
      "Episode 93600\n",
      "平均奖励: 11.82\n",
      "平均长度: 29.6\n",
      "平均损失: 1.2006\n",
      "平均消行: 0.31\n",
      "Epsilon: 0.050\n",
      "学习率: 0.000500\n",
      "缓冲区大小: 10000\n"
     ]
    },
    {
     "name": "stderr",
     "output_type": "stream",
     "text": [
      "Training:  94%|█████████▎| 93702/100000 [4:00:15<15:22,  6.83it/s]"
     ]
    },
    {
     "name": "stdout",
     "output_type": "stream",
     "text": [
      "\n",
      "Episode 93700\n",
      "平均奖励: -35.44\n",
      "平均长度: 28.6\n",
      "平均损失: 1.2033\n",
      "平均消行: 0.21\n",
      "Epsilon: 0.050\n",
      "学习率: 0.000500\n",
      "缓冲区大小: 10000\n"
     ]
    },
    {
     "name": "stderr",
     "output_type": "stream",
     "text": [
      "Training:  94%|█████████▍| 93802/100000 [4:00:30<15:25,  6.70it/s]"
     ]
    },
    {
     "name": "stdout",
     "output_type": "stream",
     "text": [
      "\n",
      "Episode 93800\n",
      "平均奖励: -17.96\n",
      "平均长度: 29.1\n",
      "平均损失: 1.1706\n",
      "平均消行: 0.27\n",
      "Epsilon: 0.050\n",
      "学习率: 0.000500\n",
      "缓冲区大小: 10000\n"
     ]
    },
    {
     "name": "stderr",
     "output_type": "stream",
     "text": [
      "Training:  94%|█████████▍| 93902/100000 [4:00:45<15:19,  6.63it/s]"
     ]
    },
    {
     "name": "stdout",
     "output_type": "stream",
     "text": [
      "\n",
      "Episode 93900\n",
      "平均奖励: -35.04\n",
      "平均长度: 29.0\n",
      "平均损失: 1.1435\n",
      "平均消行: 0.19\n",
      "Epsilon: 0.050\n",
      "学习率: 0.000500\n",
      "缓冲区大小: 10000\n"
     ]
    },
    {
     "name": "stderr",
     "output_type": "stream",
     "text": [
      "Training:  94%|█████████▍| 94002/100000 [4:01:01<30:31,  3.27it/s]"
     ]
    },
    {
     "name": "stdout",
     "output_type": "stream",
     "text": [
      "\n",
      "Episode 94000\n",
      "平均奖励: -14.26\n",
      "平均长度: 30.0\n",
      "平均损失: 1.0876\n",
      "平均消行: 0.28\n",
      "Epsilon: 0.050\n",
      "学习率: 0.000500\n",
      "缓冲区大小: 10000\n"
     ]
    },
    {
     "name": "stderr",
     "output_type": "stream",
     "text": [
      "Training:  94%|█████████▍| 94102/100000 [4:01:16<14:44,  6.67it/s]"
     ]
    },
    {
     "name": "stdout",
     "output_type": "stream",
     "text": [
      "\n",
      "Episode 94100\n",
      "平均奖励: -8.51\n",
      "平均长度: 28.7\n",
      "平均损失: 1.0766\n",
      "平均消行: 0.31\n",
      "Epsilon: 0.050\n",
      "学习率: 0.000500\n",
      "缓冲区大小: 10000\n"
     ]
    },
    {
     "name": "stderr",
     "output_type": "stream",
     "text": [
      "Training:  94%|█████████▍| 94202/100000 [4:01:31<14:43,  6.56it/s]"
     ]
    },
    {
     "name": "stdout",
     "output_type": "stream",
     "text": [
      "\n",
      "Episode 94200\n",
      "平均奖励: -14.49\n",
      "平均长度: 28.6\n",
      "平均损失: 1.1740\n",
      "平均消行: 0.27\n",
      "Epsilon: 0.050\n",
      "学习率: 0.000500\n",
      "缓冲区大小: 10000\n"
     ]
    },
    {
     "name": "stderr",
     "output_type": "stream",
     "text": [
      "Training:  94%|█████████▍| 94302/100000 [4:01:46<14:09,  6.71it/s]"
     ]
    },
    {
     "name": "stdout",
     "output_type": "stream",
     "text": [
      "\n",
      "Episode 94300\n",
      "平均奖励: -29.94\n",
      "平均长度: 29.0\n",
      "平均损失: 1.1494\n",
      "平均消行: 0.23\n",
      "Epsilon: 0.050\n",
      "学习率: 0.000500\n",
      "缓冲区大小: 10000\n"
     ]
    },
    {
     "name": "stderr",
     "output_type": "stream",
     "text": [
      "Training:  94%|█████████▍| 94402/100000 [4:02:00<13:49,  6.75it/s]"
     ]
    },
    {
     "name": "stdout",
     "output_type": "stream",
     "text": [
      "\n",
      "Episode 94400\n",
      "平均奖励: 22.94\n",
      "平均长度: 30.2\n",
      "平均损失: 1.0521\n",
      "平均消行: 0.35\n",
      "Epsilon: 0.050\n",
      "学习率: 0.000500\n",
      "缓冲区大小: 10000\n"
     ]
    },
    {
     "name": "stderr",
     "output_type": "stream",
     "text": [
      "Training:  95%|█████████▍| 94502/100000 [4:02:15<14:22,  6.38it/s]"
     ]
    },
    {
     "name": "stdout",
     "output_type": "stream",
     "text": [
      "\n",
      "Episode 94500\n",
      "平均奖励: 20.43\n",
      "平均长度: 29.7\n",
      "平均损失: 1.1848\n",
      "平均消行: 0.35\n",
      "Epsilon: 0.050\n",
      "学习率: 0.000500\n",
      "缓冲区大小: 10000\n"
     ]
    },
    {
     "name": "stderr",
     "output_type": "stream",
     "text": [
      "Training:  95%|█████████▍| 94602/100000 [4:02:30<13:21,  6.73it/s]"
     ]
    },
    {
     "name": "stdout",
     "output_type": "stream",
     "text": [
      "\n",
      "Episode 94600\n",
      "平均奖励: 2.23\n",
      "平均长度: 28.9\n",
      "平均损失: 1.2864\n",
      "平均消行: 0.32\n",
      "Epsilon: 0.050\n",
      "学习率: 0.000500\n",
      "缓冲区大小: 10000\n"
     ]
    },
    {
     "name": "stderr",
     "output_type": "stream",
     "text": [
      "Training:  95%|█████████▍| 94702/100000 [4:02:45<13:15,  6.66it/s]"
     ]
    },
    {
     "name": "stdout",
     "output_type": "stream",
     "text": [
      "\n",
      "Episode 94700\n",
      "平均奖励: 3.60\n",
      "平均长度: 28.4\n",
      "平均损失: 1.1499\n",
      "平均消行: 0.34\n",
      "Epsilon: 0.050\n",
      "学习率: 0.000500\n",
      "缓冲区大小: 10000\n"
     ]
    },
    {
     "name": "stderr",
     "output_type": "stream",
     "text": [
      "Training:  95%|█████████▍| 94802/100000 [4:03:00<13:13,  6.55it/s]"
     ]
    },
    {
     "name": "stdout",
     "output_type": "stream",
     "text": [
      "\n",
      "Episode 94800\n",
      "平均奖励: -8.60\n",
      "平均长度: 28.1\n",
      "平均损失: 1.2423\n",
      "平均消行: 0.33\n",
      "Epsilon: 0.050\n",
      "学习率: 0.000500\n",
      "缓冲区大小: 10000\n"
     ]
    },
    {
     "name": "stderr",
     "output_type": "stream",
     "text": [
      "Training:  95%|█████████▍| 94902/100000 [4:03:15<12:53,  6.59it/s]"
     ]
    },
    {
     "name": "stdout",
     "output_type": "stream",
     "text": [
      "\n",
      "Episode 94900\n",
      "平均奖励: 6.26\n",
      "平均长度: 29.3\n",
      "平均损失: 1.2011\n",
      "平均消行: 0.34\n",
      "Epsilon: 0.050\n",
      "学习率: 0.000500\n",
      "缓冲区大小: 10000\n"
     ]
    },
    {
     "name": "stderr",
     "output_type": "stream",
     "text": [
      "Training:  95%|█████████▌| 95002/100000 [4:03:30<12:27,  6.69it/s]"
     ]
    },
    {
     "name": "stdout",
     "output_type": "stream",
     "text": [
      "\n",
      "Episode 95000\n",
      "平均奖励: 27.00\n",
      "平均长度: 29.6\n",
      "平均损失: 1.2818\n",
      "平均消行: 0.36\n",
      "Epsilon: 0.050\n",
      "学习率: 0.000500\n",
      "缓冲区大小: 10000\n"
     ]
    },
    {
     "name": "stderr",
     "output_type": "stream",
     "text": [
      "Training:  95%|█████████▌| 95102/100000 [4:03:45<12:48,  6.37it/s]"
     ]
    },
    {
     "name": "stdout",
     "output_type": "stream",
     "text": [
      "\n",
      "Episode 95100\n",
      "平均奖励: 54.21\n",
      "平均长度: 30.1\n",
      "平均损失: 1.1393\n",
      "平均消行: 0.45\n",
      "Epsilon: 0.050\n",
      "学习率: 0.000500\n",
      "缓冲区大小: 10000\n"
     ]
    },
    {
     "name": "stderr",
     "output_type": "stream",
     "text": [
      "Training:  95%|█████████▌| 95202/100000 [4:04:00<11:43,  6.82it/s]"
     ]
    },
    {
     "name": "stdout",
     "output_type": "stream",
     "text": [
      "\n",
      "Episode 95200\n",
      "平均奖励: 7.95\n",
      "平均长度: 29.8\n",
      "平均损失: 1.2320\n",
      "平均消行: 0.31\n",
      "Epsilon: 0.050\n",
      "学习率: 0.000500\n",
      "缓冲区大小: 10000\n"
     ]
    },
    {
     "name": "stderr",
     "output_type": "stream",
     "text": [
      "Training:  95%|█████████▌| 95302/100000 [4:04:15<11:40,  6.71it/s]"
     ]
    },
    {
     "name": "stdout",
     "output_type": "stream",
     "text": [
      "\n",
      "Episode 95300\n",
      "平均奖励: -10.07\n",
      "平均长度: 29.0\n",
      "平均损失: 1.1923\n",
      "平均消行: 0.29\n",
      "Epsilon: 0.050\n",
      "学习率: 0.000500\n",
      "缓冲区大小: 10000\n"
     ]
    },
    {
     "name": "stderr",
     "output_type": "stream",
     "text": [
      "Training:  95%|█████████▌| 95402/100000 [4:04:30<11:39,  6.57it/s]"
     ]
    },
    {
     "name": "stdout",
     "output_type": "stream",
     "text": [
      "\n",
      "Episode 95400\n",
      "平均奖励: -11.57\n",
      "平均长度: 28.4\n",
      "平均损失: 1.2193\n",
      "平均消行: 0.28\n",
      "Epsilon: 0.050\n",
      "学习率: 0.000500\n",
      "缓冲区大小: 10000\n"
     ]
    },
    {
     "name": "stderr",
     "output_type": "stream",
     "text": [
      "Training:  96%|█████████▌| 95502/100000 [4:04:45<11:13,  6.68it/s]"
     ]
    },
    {
     "name": "stdout",
     "output_type": "stream",
     "text": [
      "\n",
      "Episode 95500\n",
      "平均奖励: 71.62\n",
      "平均长度: 30.6\n",
      "平均损失: 1.1191\n",
      "平均消行: 0.49\n",
      "Epsilon: 0.050\n",
      "学习率: 0.000500\n",
      "缓冲区大小: 10000\n"
     ]
    },
    {
     "name": "stderr",
     "output_type": "stream",
     "text": [
      "Training:  96%|█████████▌| 95602/100000 [4:05:00<10:36,  6.91it/s]"
     ]
    },
    {
     "name": "stdout",
     "output_type": "stream",
     "text": [
      "\n",
      "Episode 95600\n",
      "平均奖励: 21.54\n",
      "平均长度: 29.7\n",
      "平均损失: 1.2149\n",
      "平均消行: 0.35\n",
      "Epsilon: 0.050\n",
      "学习率: 0.000500\n",
      "缓冲区大小: 10000\n"
     ]
    },
    {
     "name": "stderr",
     "output_type": "stream",
     "text": [
      "Training:  96%|█████████▌| 95702/100000 [4:05:14<10:54,  6.57it/s]"
     ]
    },
    {
     "name": "stdout",
     "output_type": "stream",
     "text": [
      "\n",
      "Episode 95700\n",
      "平均奖励: -5.19\n",
      "平均长度: 28.4\n",
      "平均损失: 1.2502\n",
      "平均消行: 0.31\n",
      "Epsilon: 0.050\n",
      "学习率: 0.000500\n",
      "缓冲区大小: 10000\n"
     ]
    },
    {
     "name": "stderr",
     "output_type": "stream",
     "text": [
      "Training:  96%|█████████▌| 95802/100000 [4:05:29<10:21,  6.76it/s]"
     ]
    },
    {
     "name": "stdout",
     "output_type": "stream",
     "text": [
      "\n",
      "Episode 95800\n",
      "平均奖励: 1.70\n",
      "平均长度: 29.1\n",
      "平均损失: 1.1042\n",
      "平均消行: 0.31\n",
      "Epsilon: 0.050\n",
      "学习率: 0.000500\n",
      "缓冲区大小: 10000\n"
     ]
    },
    {
     "name": "stderr",
     "output_type": "stream",
     "text": [
      "Training:  96%|█████████▌| 95902/100000 [4:05:44<10:09,  6.72it/s]"
     ]
    },
    {
     "name": "stdout",
     "output_type": "stream",
     "text": [
      "\n",
      "Episode 95900\n",
      "平均奖励: 40.77\n",
      "平均长度: 30.1\n",
      "平均损失: 1.1604\n",
      "平均消行: 0.38\n",
      "Epsilon: 0.050\n",
      "学习率: 0.000500\n",
      "缓冲区大小: 10000\n"
     ]
    },
    {
     "name": "stderr",
     "output_type": "stream",
     "text": [
      "Training:  96%|█████████▌| 96002/100000 [4:06:00<19:23,  3.44it/s]"
     ]
    },
    {
     "name": "stdout",
     "output_type": "stream",
     "text": [
      "\n",
      "Episode 96000\n",
      "平均奖励: -13.57\n",
      "平均长度: 28.6\n",
      "平均损失: 1.1922\n",
      "平均消行: 0.27\n",
      "Epsilon: 0.050\n",
      "学习率: 0.000500\n",
      "缓冲区大小: 10000\n"
     ]
    },
    {
     "name": "stderr",
     "output_type": "stream",
     "text": [
      "Training:  96%|█████████▌| 96102/100000 [4:06:14<09:40,  6.71it/s]"
     ]
    },
    {
     "name": "stdout",
     "output_type": "stream",
     "text": [
      "\n",
      "Episode 96100\n",
      "平均奖励: 6.98\n",
      "平均长度: 28.9\n",
      "平均损失: 1.1319\n",
      "平均消行: 0.32\n",
      "Epsilon: 0.050\n",
      "学习率: 0.000500\n",
      "缓冲区大小: 10000\n"
     ]
    },
    {
     "name": "stderr",
     "output_type": "stream",
     "text": [
      "Training:  96%|█████████▌| 96202/100000 [4:06:30<09:32,  6.63it/s]"
     ]
    },
    {
     "name": "stdout",
     "output_type": "stream",
     "text": [
      "\n",
      "Episode 96200\n",
      "平均奖励: 33.20\n",
      "平均长度: 29.9\n",
      "平均损失: 1.1553\n",
      "平均消行: 0.36\n",
      "Epsilon: 0.050\n",
      "学习率: 0.000500\n",
      "缓冲区大小: 10000\n"
     ]
    },
    {
     "name": "stderr",
     "output_type": "stream",
     "text": [
      "Training:  96%|█████████▋| 96302/100000 [4:06:44<09:06,  6.76it/s]"
     ]
    },
    {
     "name": "stdout",
     "output_type": "stream",
     "text": [
      "\n",
      "Episode 96300\n",
      "平均奖励: -20.05\n",
      "平均长度: 29.7\n",
      "平均损失: 1.1549\n",
      "平均消行: 0.24\n",
      "Epsilon: 0.050\n",
      "学习率: 0.000500\n",
      "缓冲区大小: 10000\n"
     ]
    },
    {
     "name": "stderr",
     "output_type": "stream",
     "text": [
      "Training:  96%|█████████▋| 96402/100000 [4:06:59<09:04,  6.61it/s]"
     ]
    },
    {
     "name": "stdout",
     "output_type": "stream",
     "text": [
      "\n",
      "Episode 96400\n",
      "平均奖励: 28.86\n",
      "平均长度: 29.7\n",
      "平均损失: 1.0648\n",
      "平均消行: 0.36\n",
      "Epsilon: 0.050\n",
      "学习率: 0.000500\n",
      "缓冲区大小: 10000\n"
     ]
    },
    {
     "name": "stderr",
     "output_type": "stream",
     "text": [
      "Training:  97%|█████████▋| 96502/100000 [4:07:14<08:37,  6.75it/s]"
     ]
    },
    {
     "name": "stdout",
     "output_type": "stream",
     "text": [
      "\n",
      "Episode 96500\n",
      "平均奖励: 55.98\n",
      "平均长度: 30.3\n",
      "平均损失: 1.1262\n",
      "平均消行: 0.43\n",
      "Epsilon: 0.050\n",
      "学习率: 0.000500\n",
      "缓冲区大小: 10000\n"
     ]
    },
    {
     "name": "stderr",
     "output_type": "stream",
     "text": [
      "Training:  97%|█████████▋| 96602/100000 [4:07:29<08:23,  6.75it/s]"
     ]
    },
    {
     "name": "stdout",
     "output_type": "stream",
     "text": [
      "\n",
      "Episode 96600\n",
      "平均奖励: 24.14\n",
      "平均长度: 29.6\n",
      "平均损失: 1.1833\n",
      "平均消行: 0.34\n",
      "Epsilon: 0.050\n",
      "学习率: 0.000500\n",
      "缓冲区大小: 10000\n"
     ]
    },
    {
     "name": "stderr",
     "output_type": "stream",
     "text": [
      "Training:  97%|█████████▋| 96702/100000 [4:07:44<08:24,  6.54it/s]"
     ]
    },
    {
     "name": "stdout",
     "output_type": "stream",
     "text": [
      "\n",
      "Episode 96700\n",
      "平均奖励: 0.22\n",
      "平均长度: 28.9\n",
      "平均损失: 1.2112\n",
      "平均消行: 0.31\n",
      "Epsilon: 0.050\n",
      "学习率: 0.000500\n",
      "缓冲区大小: 10000\n"
     ]
    },
    {
     "name": "stderr",
     "output_type": "stream",
     "text": [
      "Training:  97%|█████████▋| 96802/100000 [4:07:59<07:57,  6.69it/s]"
     ]
    },
    {
     "name": "stdout",
     "output_type": "stream",
     "text": [
      "\n",
      "Episode 96800\n",
      "平均奖励: -10.20\n",
      "平均长度: 28.8\n",
      "平均损失: 1.0737\n",
      "平均消行: 0.30\n",
      "Epsilon: 0.050\n",
      "学习率: 0.000500\n",
      "缓冲区大小: 10000\n"
     ]
    },
    {
     "name": "stderr",
     "output_type": "stream",
     "text": [
      "Training:  97%|█████████▋| 96902/100000 [4:08:14<07:53,  6.54it/s]"
     ]
    },
    {
     "name": "stdout",
     "output_type": "stream",
     "text": [
      "\n",
      "Episode 96900\n",
      "平均奖励: 18.42\n",
      "平均长度: 30.3\n",
      "平均损失: 1.1416\n",
      "平均消行: 0.33\n",
      "Epsilon: 0.050\n",
      "学习率: 0.000500\n",
      "缓冲区大小: 10000\n"
     ]
    },
    {
     "name": "stderr",
     "output_type": "stream",
     "text": [
      "Training:  97%|█████████▋| 97002/100000 [4:08:29<07:26,  6.71it/s]"
     ]
    },
    {
     "name": "stdout",
     "output_type": "stream",
     "text": [
      "\n",
      "Episode 97000\n",
      "平均奖励: 23.81\n",
      "平均长度: 30.2\n",
      "平均损失: 1.1207\n",
      "平均消行: 0.35\n",
      "Epsilon: 0.050\n",
      "学习率: 0.000500\n",
      "缓冲区大小: 10000\n"
     ]
    },
    {
     "name": "stderr",
     "output_type": "stream",
     "text": [
      "Training:  97%|█████████▋| 97102/100000 [4:08:44<07:07,  6.78it/s]"
     ]
    },
    {
     "name": "stdout",
     "output_type": "stream",
     "text": [
      "\n",
      "Episode 97100\n",
      "平均奖励: 73.82\n",
      "平均长度: 30.8\n",
      "平均损失: 1.1359\n",
      "平均消行: 0.48\n",
      "Epsilon: 0.050\n",
      "学习率: 0.000500\n",
      "缓冲区大小: 10000\n"
     ]
    },
    {
     "name": "stderr",
     "output_type": "stream",
     "text": [
      "Training:  97%|█████████▋| 97202/100000 [4:08:59<07:04,  6.59it/s]"
     ]
    },
    {
     "name": "stdout",
     "output_type": "stream",
     "text": [
      "\n",
      "Episode 97200\n",
      "平均奖励: -19.72\n",
      "平均长度: 28.3\n",
      "平均损失: 1.1668\n",
      "平均消行: 0.28\n",
      "Epsilon: 0.050\n",
      "学习率: 0.000500\n",
      "缓冲区大小: 10000\n"
     ]
    },
    {
     "name": "stderr",
     "output_type": "stream",
     "text": [
      "Training:  97%|█████████▋| 97302/100000 [4:09:14<06:45,  6.66it/s]"
     ]
    },
    {
     "name": "stdout",
     "output_type": "stream",
     "text": [
      "\n",
      "Episode 97300\n",
      "平均奖励: -0.67\n",
      "平均长度: 30.0\n",
      "平均损失: 1.0807\n",
      "平均消行: 0.26\n",
      "Epsilon: 0.050\n",
      "学习率: 0.000500\n",
      "缓冲区大小: 10000\n"
     ]
    },
    {
     "name": "stderr",
     "output_type": "stream",
     "text": [
      "Training:  97%|█████████▋| 97402/100000 [4:09:29<06:29,  6.67it/s]"
     ]
    },
    {
     "name": "stdout",
     "output_type": "stream",
     "text": [
      "\n",
      "Episode 97400\n",
      "平均奖励: 19.01\n",
      "平均长度: 29.8\n",
      "平均损失: 1.0640\n",
      "平均消行: 0.35\n",
      "Epsilon: 0.050\n",
      "学习率: 0.000500\n",
      "缓冲区大小: 10000\n"
     ]
    },
    {
     "name": "stderr",
     "output_type": "stream",
     "text": [
      "Training:  98%|█████████▊| 97502/100000 [4:09:44<06:18,  6.59it/s]"
     ]
    },
    {
     "name": "stdout",
     "output_type": "stream",
     "text": [
      "\n",
      "Episode 97500\n",
      "平均奖励: -23.59\n",
      "平均长度: 29.2\n",
      "平均损失: 0.9221\n",
      "平均消行: 0.22\n",
      "Epsilon: 0.050\n",
      "学习率: 0.000500\n",
      "缓冲区大小: 10000\n"
     ]
    },
    {
     "name": "stderr",
     "output_type": "stream",
     "text": [
      "Training:  98%|█████████▊| 97602/100000 [4:09:59<05:57,  6.71it/s]"
     ]
    },
    {
     "name": "stdout",
     "output_type": "stream",
     "text": [
      "\n",
      "Episode 97600\n",
      "平均奖励: 10.92\n",
      "平均长度: 29.2\n",
      "平均损失: 1.0445\n",
      "平均消行: 0.32\n",
      "Epsilon: 0.050\n",
      "学习率: 0.000500\n",
      "缓冲区大小: 10000\n"
     ]
    },
    {
     "name": "stderr",
     "output_type": "stream",
     "text": [
      "Training:  98%|█████████▊| 97702/100000 [4:10:14<05:34,  6.87it/s]"
     ]
    },
    {
     "name": "stdout",
     "output_type": "stream",
     "text": [
      "\n",
      "Episode 97700\n",
      "平均奖励: -13.41\n",
      "平均长度: 29.5\n",
      "平均损失: 1.0409\n",
      "平均消行: 0.26\n",
      "Epsilon: 0.050\n",
      "学习率: 0.000500\n",
      "缓冲区大小: 10000\n"
     ]
    },
    {
     "name": "stderr",
     "output_type": "stream",
     "text": [
      "Training:  98%|█████████▊| 97802/100000 [4:10:29<05:24,  6.78it/s]"
     ]
    },
    {
     "name": "stdout",
     "output_type": "stream",
     "text": [
      "\n",
      "Episode 97800\n",
      "平均奖励: -29.26\n",
      "平均长度: 28.8\n",
      "平均损失: 1.0291\n",
      "平均消行: 0.24\n",
      "Epsilon: 0.050\n",
      "学习率: 0.000500\n",
      "缓冲区大小: 10000\n"
     ]
    },
    {
     "name": "stderr",
     "output_type": "stream",
     "text": [
      "Training:  98%|█████████▊| 97902/100000 [4:10:44<05:15,  6.66it/s]"
     ]
    },
    {
     "name": "stdout",
     "output_type": "stream",
     "text": [
      "\n",
      "Episode 97900\n",
      "平均奖励: -50.66\n",
      "平均长度: 27.0\n",
      "平均损失: 1.1234\n",
      "平均消行: 0.25\n",
      "Epsilon: 0.050\n",
      "学习率: 0.000500\n",
      "缓冲区大小: 10000\n"
     ]
    },
    {
     "name": "stderr",
     "output_type": "stream",
     "text": [
      "Training:  98%|█████████▊| 98002/100000 [4:11:00<10:23,  3.20it/s]"
     ]
    },
    {
     "name": "stdout",
     "output_type": "stream",
     "text": [
      "\n",
      "Episode 98000\n",
      "平均奖励: -12.01\n",
      "平均长度: 29.4\n",
      "平均损失: 1.0152\n",
      "平均消行: 0.23\n",
      "Epsilon: 0.050\n",
      "学习率: 0.000500\n",
      "缓冲区大小: 10000\n"
     ]
    },
    {
     "name": "stderr",
     "output_type": "stream",
     "text": [
      "Training:  98%|█████████▊| 98102/100000 [4:11:15<04:40,  6.77it/s]"
     ]
    },
    {
     "name": "stdout",
     "output_type": "stream",
     "text": [
      "\n",
      "Episode 98100\n",
      "平均奖励: -35.51\n",
      "平均长度: 28.6\n",
      "平均损失: 1.1344\n",
      "平均消行: 0.25\n",
      "Epsilon: 0.050\n",
      "学习率: 0.000500\n",
      "缓冲区大小: 10000\n"
     ]
    },
    {
     "name": "stderr",
     "output_type": "stream",
     "text": [
      "Training:  98%|█████████▊| 98202/100000 [4:11:30<04:22,  6.86it/s]"
     ]
    },
    {
     "name": "stdout",
     "output_type": "stream",
     "text": [
      "\n",
      "Episode 98200\n",
      "平均奖励: -61.68\n",
      "平均长度: 27.5\n",
      "平均损失: 1.1368\n",
      "平均消行: 0.19\n",
      "Epsilon: 0.050\n",
      "学习率: 0.000500\n",
      "缓冲区大小: 10000\n"
     ]
    },
    {
     "name": "stderr",
     "output_type": "stream",
     "text": [
      "Training:  98%|█████████▊| 98302/100000 [4:11:45<04:15,  6.65it/s]"
     ]
    },
    {
     "name": "stdout",
     "output_type": "stream",
     "text": [
      "\n",
      "Episode 98300\n",
      "平均奖励: 12.74\n",
      "平均长度: 28.6\n",
      "平均损失: 1.0709\n",
      "平均消行: 0.35\n",
      "Epsilon: 0.050\n",
      "学习率: 0.000500\n",
      "缓冲区大小: 10000\n"
     ]
    },
    {
     "name": "stderr",
     "output_type": "stream",
     "text": [
      "Training:  98%|█████████▊| 98402/100000 [4:12:00<04:01,  6.61it/s]"
     ]
    },
    {
     "name": "stdout",
     "output_type": "stream",
     "text": [
      "\n",
      "Episode 98400\n",
      "平均奖励: -24.67\n",
      "平均长度: 29.9\n",
      "平均损失: 1.0992\n",
      "平均消行: 0.21\n",
      "Epsilon: 0.050\n",
      "学习率: 0.000500\n",
      "缓冲区大小: 10000\n"
     ]
    },
    {
     "name": "stderr",
     "output_type": "stream",
     "text": [
      "Training:  99%|█████████▊| 98502/100000 [4:12:15<03:43,  6.70it/s]"
     ]
    },
    {
     "name": "stdout",
     "output_type": "stream",
     "text": [
      "\n",
      "Episode 98500\n",
      "平均奖励: -68.14\n",
      "平均长度: 28.4\n",
      "平均损失: 1.1885\n",
      "平均消行: 0.17\n",
      "Epsilon: 0.050\n",
      "学习率: 0.000500\n",
      "缓冲区大小: 10000\n"
     ]
    },
    {
     "name": "stderr",
     "output_type": "stream",
     "text": [
      "Training:  99%|█████████▊| 98602/100000 [4:12:30<03:31,  6.60it/s]"
     ]
    },
    {
     "name": "stdout",
     "output_type": "stream",
     "text": [
      "\n",
      "Episode 98600\n",
      "平均奖励: 1.34\n",
      "平均长度: 29.4\n",
      "平均损失: 1.1134\n",
      "平均消行: 0.31\n",
      "Epsilon: 0.050\n",
      "学习率: 0.000500\n",
      "缓冲区大小: 10000\n"
     ]
    },
    {
     "name": "stderr",
     "output_type": "stream",
     "text": [
      "Training:  99%|█████████▊| 98702/100000 [4:12:44<03:11,  6.76it/s]"
     ]
    },
    {
     "name": "stdout",
     "output_type": "stream",
     "text": [
      "\n",
      "Episode 98700\n",
      "平均奖励: -67.12\n",
      "平均长度: 27.6\n",
      "平均损失: 1.0409\n",
      "平均消行: 0.14\n",
      "Epsilon: 0.050\n",
      "学习率: 0.000500\n",
      "缓冲区大小: 10000\n"
     ]
    },
    {
     "name": "stderr",
     "output_type": "stream",
     "text": [
      "Training:  99%|█████████▉| 98802/100000 [4:12:59<03:01,  6.61it/s]"
     ]
    },
    {
     "name": "stdout",
     "output_type": "stream",
     "text": [
      "\n",
      "Episode 98800\n",
      "平均奖励: 11.49\n",
      "平均长度: 29.6\n",
      "平均损失: 1.1838\n",
      "平均消行: 0.32\n",
      "Epsilon: 0.050\n",
      "学习率: 0.000500\n",
      "缓冲区大小: 10000\n"
     ]
    },
    {
     "name": "stderr",
     "output_type": "stream",
     "text": [
      "Training:  99%|█████████▉| 98902/100000 [4:13:14<02:41,  6.81it/s]"
     ]
    },
    {
     "name": "stdout",
     "output_type": "stream",
     "text": [
      "\n",
      "Episode 98900\n",
      "平均奖励: -24.29\n",
      "平均长度: 28.7\n",
      "平均损失: 1.1294\n",
      "平均消行: 0.25\n",
      "Epsilon: 0.050\n",
      "学习率: 0.000500\n",
      "缓冲区大小: 10000\n"
     ]
    },
    {
     "name": "stderr",
     "output_type": "stream",
     "text": [
      "Training:  99%|█████████▉| 99002/100000 [4:13:29<02:31,  6.58it/s]"
     ]
    },
    {
     "name": "stdout",
     "output_type": "stream",
     "text": [
      "\n",
      "Episode 99000\n",
      "平均奖励: 11.31\n",
      "平均长度: 30.0\n",
      "平均损失: 1.1111\n",
      "平均消行: 0.32\n",
      "Epsilon: 0.050\n",
      "学习率: 0.000500\n",
      "缓冲区大小: 10000\n"
     ]
    },
    {
     "name": "stderr",
     "output_type": "stream",
     "text": [
      "Training:  99%|█████████▉| 99102/100000 [4:13:44<02:14,  6.69it/s]"
     ]
    },
    {
     "name": "stdout",
     "output_type": "stream",
     "text": [
      "\n",
      "Episode 99100\n",
      "平均奖励: -0.72\n",
      "平均长度: 29.1\n",
      "平均损失: 1.1388\n",
      "平均消行: 0.32\n",
      "Epsilon: 0.050\n",
      "学习率: 0.000500\n",
      "缓冲区大小: 10000\n"
     ]
    },
    {
     "name": "stderr",
     "output_type": "stream",
     "text": [
      "Training:  99%|█████████▉| 99202/100000 [4:13:59<02:00,  6.63it/s]"
     ]
    },
    {
     "name": "stdout",
     "output_type": "stream",
     "text": [
      "\n",
      "Episode 99200\n",
      "平均奖励: 27.42\n",
      "平均长度: 29.8\n",
      "平均损失: 1.1552\n",
      "平均消行: 0.38\n",
      "Epsilon: 0.050\n",
      "学习率: 0.000500\n",
      "缓冲区大小: 10000\n"
     ]
    },
    {
     "name": "stderr",
     "output_type": "stream",
     "text": [
      "Training:  99%|█████████▉| 99302/100000 [4:14:14<01:44,  6.65it/s]"
     ]
    },
    {
     "name": "stdout",
     "output_type": "stream",
     "text": [
      "\n",
      "Episode 99300\n",
      "平均奖励: -12.01\n",
      "平均长度: 28.9\n",
      "平均损失: 1.2779\n",
      "平均消行: 0.28\n",
      "Epsilon: 0.050\n",
      "学习率: 0.000500\n",
      "缓冲区大小: 10000\n"
     ]
    },
    {
     "name": "stderr",
     "output_type": "stream",
     "text": [
      "Training:  99%|█████████▉| 99402/100000 [4:14:29<01:29,  6.65it/s]"
     ]
    },
    {
     "name": "stdout",
     "output_type": "stream",
     "text": [
      "\n",
      "Episode 99400\n",
      "平均奖励: -3.54\n",
      "平均长度: 28.5\n",
      "平均损失: 1.1976\n",
      "平均消行: 0.34\n",
      "Epsilon: 0.050\n",
      "学习率: 0.000500\n",
      "缓冲区大小: 10000\n"
     ]
    },
    {
     "name": "stderr",
     "output_type": "stream",
     "text": [
      "Training: 100%|█████████▉| 99502/100000 [4:14:44<01:17,  6.39it/s]"
     ]
    },
    {
     "name": "stdout",
     "output_type": "stream",
     "text": [
      "\n",
      "Episode 99500\n",
      "平均奖励: -12.38\n",
      "平均长度: 29.1\n",
      "平均损失: 1.1135\n",
      "平均消行: 0.27\n",
      "Epsilon: 0.050\n",
      "学习率: 0.000500\n",
      "缓冲区大小: 10000\n"
     ]
    },
    {
     "name": "stderr",
     "output_type": "stream",
     "text": [
      "Training: 100%|█████████▉| 99602/100000 [4:14:59<01:00,  6.56it/s]"
     ]
    },
    {
     "name": "stdout",
     "output_type": "stream",
     "text": [
      "\n",
      "Episode 99600\n",
      "平均奖励: 26.25\n",
      "平均长度: 29.4\n",
      "平均损失: 1.1659\n",
      "平均消行: 0.38\n",
      "Epsilon: 0.050\n",
      "学习率: 0.000500\n",
      "缓冲区大小: 10000\n"
     ]
    },
    {
     "name": "stderr",
     "output_type": "stream",
     "text": [
      "Training: 100%|█████████▉| 99702/100000 [4:15:14<00:45,  6.49it/s]"
     ]
    },
    {
     "name": "stdout",
     "output_type": "stream",
     "text": [
      "\n",
      "Episode 99700\n",
      "平均奖励: 18.89\n",
      "平均长度: 29.6\n",
      "平均损失: 1.1222\n",
      "平均消行: 0.32\n",
      "Epsilon: 0.050\n",
      "学习率: 0.000500\n",
      "缓冲区大小: 10000\n"
     ]
    },
    {
     "name": "stderr",
     "output_type": "stream",
     "text": [
      "Training: 100%|█████████▉| 99802/100000 [4:15:29<00:29,  6.76it/s]"
     ]
    },
    {
     "name": "stdout",
     "output_type": "stream",
     "text": [
      "\n",
      "Episode 99800\n",
      "平均奖励: 30.63\n",
      "平均长度: 30.1\n",
      "平均损失: 1.2419\n",
      "平均消行: 0.37\n",
      "Epsilon: 0.050\n",
      "学习率: 0.000500\n",
      "缓冲区大小: 10000\n"
     ]
    },
    {
     "name": "stderr",
     "output_type": "stream",
     "text": [
      "Training: 100%|█████████▉| 99902/100000 [4:15:44<00:14,  6.66it/s]"
     ]
    },
    {
     "name": "stdout",
     "output_type": "stream",
     "text": [
      "\n",
      "Episode 99900\n",
      "平均奖励: 36.04\n",
      "平均长度: 29.8\n",
      "平均损失: 1.2176\n",
      "平均消行: 0.39\n",
      "Epsilon: 0.050\n",
      "学习率: 0.000500\n",
      "缓冲区大小: 10000\n"
     ]
    },
    {
     "name": "stderr",
     "output_type": "stream",
     "text": [
      "Training: 100%|██████████| 100000/100000 [4:15:59<00:00,  6.51it/s]\n"
     ]
    },
    {
     "name": "stdout",
     "output_type": "stream",
     "text": [
      "训练完成！\n"
     ]
    }
   ],
   "source": [
    "\n",
    "class DQNTrainer:\n",
    "    def __init__(self, model, target_model, env, config):\n",
    "        self.model = model.to(device)\n",
    "        self.target_model = target_model.to(device)\n",
    "        self.env = env\n",
    "        self.config = config\n",
    "        \n",
    "        # 优化器\n",
    "        self.optimizer = optim.Adam(self.model.parameters(), \n",
    "                                  lr=config['learning_rate'],\n",
    "                                  weight_decay=config['weight_decay'])\n",
    "        \n",
    "        # 学习率调度器\n",
    "        self.scheduler = optim.lr_scheduler.StepLR(\n",
    "            self.optimizer, \n",
    "            step_size=config['lr_step_size'], \n",
    "            gamma=config['lr_gamma']\n",
    "        )\n",
    "        \n",
    "        # 经验回放\n",
    "        if config['use_prioritized_replay']:\n",
    "            self.replay_buffer = PrioritizedReplayBuffer(config['buffer_size'])\n",
    "        else:\n",
    "            self.replay_buffer = ReplayBuffer(config['buffer_size'])\n",
    "        \n",
    "        # 训练统计\n",
    "        self.episode_rewards = []\n",
    "        self.episode_lengths = []\n",
    "        self.losses = []\n",
    "        self.episode_lines_cleared = []\n",
    "        \n",
    "        # 多线程数据生成\n",
    "        self.data_queue = queue.Queue(maxsize=config['queue_size'])\n",
    "        self.stop_data_generation = threading.Event()\n",
    "    \n",
    "    def epsilon_by_episode(self, episode):\n",
    "        \"\"\"epsilon衰减策略\"\"\"\n",
    "        epsilon_start = self.config['epsilon_start']\n",
    "        epsilon_end = self.config['epsilon_end']\n",
    "        epsilon_decay = self.config['epsilon_decay']\n",
    "        \n",
    "        return epsilon_end + (epsilon_start - epsilon_end) * np.exp(-episode / epsilon_decay)\n",
    "    \n",
    "    def select_action(self, state, epsilon):\n",
    "        \"\"\"选择动作\"\"\"\n",
    "        if random.random() > epsilon:\n",
    "            with torch.no_grad():\n",
    "                board, current, next_piece = state\n",
    "                board = board.to(device)\n",
    "                current = current.unsqueeze(0).to(device)\n",
    "                next_piece = next_piece.unsqueeze(0).to(device)\n",
    "                \n",
    "                q_values = self.model(board, current, next_piece)\n",
    "                return q_values.max(1)[1].item()\n",
    "        else:\n",
    "            return random.randrange(self.config['num_actions'])\n",
    "    \n",
    "    def data_generation_worker(self, worker_id):\n",
    "        \"\"\"数据生成线程\"\"\"\n",
    "        local_env = TetrisEnvironment()\n",
    "        \n",
    "        while not self.stop_data_generation.is_set():\n",
    "            try:\n",
    "                # 生成一个episode的数据\n",
    "                episode_data = []\n",
    "                state = local_env.reset()\n",
    "                epsilon = self.epsilon_by_episode(len(self.episode_rewards))\n",
    "                \n",
    "                for step in range(self.config['max_episode_length']):\n",
    "                    action = self.select_action(state, epsilon)\n",
    "                    next_state, reward, done = local_env.step(action)\n",
    "                    \n",
    "                    episode_data.append((state, action, reward, next_state, done))\n",
    "                    \n",
    "                    if done:\n",
    "                        break\n",
    "                    state = next_state\n",
    "                # 记录该轮游戏总消行数\n",
    "                lines_cleared_this_episode = local_env.get_info()['lines_cleared']\n",
    "                # 将数据放入队列\n",
    "                if not self.data_queue.full():\n",
    "                    self.data_queue.put((worker_id, episode_data,lines_cleared_this_episode))\n",
    "                    \n",
    "            except Exception as e:\n",
    "                print(f\"Worker {worker_id} error: {e}\")\n",
    "                time.sleep(1)\n",
    "    \n",
    "    def optimize_model(self):\n",
    "        \"\"\"优化模型\"\"\"\n",
    "        if len(self.replay_buffer) < self.config['batch_size']:\n",
    "            return None\n",
    "        \n",
    "        # 采样批次数据\n",
    "        if self.config['use_prioritized_replay']:\n",
    "            experiences, indices, weights = self.replay_buffer.sample(\n",
    "                self.config['batch_size'], \n",
    "                beta=min(1.0, 0.4 + len(self.episode_rewards) * 0.00001)\n",
    "            )\n",
    "        else:\n",
    "            experiences = self.replay_buffer.sample(self.config['batch_size'])\n",
    "            weights = torch.ones(self.config['batch_size']).to(device)\n",
    "        \n",
    "        # 解析批次数据\n",
    "        batch = Experience(*zip(*experiences))\n",
    "        \n",
    "        # 准备状态数据\n",
    "        board_batch = torch.cat([s[0] for s in batch.state]).to(device)\n",
    "        current_batch = torch.stack([s[1] for s in batch.state]).to(device)\n",
    "        next_batch = torch.stack([s[2] for s in batch.state]).to(device)\n",
    "        \n",
    "        action_batch = torch.LongTensor(batch.action).to(device)\n",
    "        reward_batch = torch.FloatTensor(batch.reward).to(device)\n",
    "        \n",
    "        # 非终止状态掩码\n",
    "        non_final_mask = torch.BoolTensor([not done for done in batch.done]).to(device)\n",
    "        \n",
    "        if non_final_mask.sum() > 0:\n",
    "            non_final_next_board = torch.cat([s[0] for s, done in zip(batch.next_state, batch.done) if not done]).to(device)\n",
    "            non_final_next_current = torch.stack([s[1] for s, done in zip(batch.next_state, batch.done) if not done]).to(device)\n",
    "            non_final_next_next = torch.stack([s[2] for s, done in zip(batch.next_state, batch.done) if not done]).to(device)\n",
    "        \n",
    "        # 当前Q值\n",
    "        current_q_values = self.model(board_batch, current_batch, next_batch).gather(1, action_batch.unsqueeze(1))\n",
    "        \n",
    "        # 目标Q值\n",
    "        next_q_values = torch.zeros(self.config['batch_size']).to(device)\n",
    "        if non_final_mask.sum() > 0:\n",
    "            with torch.no_grad():\n",
    "                if self.config['use_double_dqn']:\n",
    "                    # Double DQN\n",
    "                    next_actions = self.model(non_final_next_board, non_final_next_current, non_final_next_next).max(1)[1]\n",
    "                    next_q_values[non_final_mask] = self.target_model(\n",
    "                        non_final_next_board, non_final_next_current, non_final_next_next\n",
    "                    ).gather(1, next_actions.unsqueeze(1)).squeeze()\n",
    "                else:\n",
    "                    # 标准DQN\n",
    "                    next_q_values[non_final_mask] = self.target_model(\n",
    "                        non_final_next_board, non_final_next_current, non_final_next_next\n",
    "                    ).max(1)[0]\n",
    "        \n",
    "        target_q_values = reward_batch + (self.config['gamma'] * next_q_values)\n",
    "        \n",
    "        # 计算损失\n",
    "        td_errors = target_q_values.unsqueeze(1) - current_q_values\n",
    "        \n",
    "        if self.config['use_huber_loss']:\n",
    "            loss = F.smooth_l1_loss(current_q_values, target_q_values.unsqueeze(1), reduction='none')\n",
    "        else:\n",
    "            loss = F.mse_loss(current_q_values, target_q_values.unsqueeze(1), reduction='none')\n",
    "        \n",
    "        # 优先级权重\n",
    "        loss = (loss * weights.unsqueeze(1)).mean()\n",
    "        \n",
    "        # 优化\n",
    "        self.optimizer.zero_grad()\n",
    "        loss.backward()\n",
    "        \n",
    "        # 梯度裁剪\n",
    "        torch.nn.utils.clip_grad_norm_(self.model.parameters(), self.config['grad_clip'])\n",
    "        \n",
    "        self.optimizer.step()\n",
    "        \n",
    "        # 更新优先级\n",
    "        if self.config['use_prioritized_replay']:\n",
    "            priorities = td_errors.abs().detach().cpu().numpy() + 1e-6\n",
    "            self.replay_buffer.update_priorities(indices, priorities)\n",
    "        \n",
    "        return loss.item()\n",
    "    \n",
    "    def train(self):\n",
    "        \"\"\"主训练循环\"\"\"\n",
    "        print(\"开始训练DQN...\")\n",
    "        \n",
    "        # 启动数据生成线程\n",
    "        num_workers = min(4, mp.cpu_count())\n",
    "        workers = []\n",
    "        for i in range(num_workers):\n",
    "            worker = threading.Thread(target=self.data_generation_worker, args=(i,))\n",
    "            worker.daemon = True\n",
    "            worker.start()\n",
    "            workers.append(worker)\n",
    "        \n",
    "        try:\n",
    "            for episode in tqdm(range(self.config['num_episodes']), desc=\"Training\"):\n",
    "                # 从队列获取数据\n",
    "                try:\n",
    "                    worker_id, episode_data,lines_cleared_this_episode = self.data_queue.get(timeout=10)\n",
    "                    \n",
    "                    # 添加到经验回放\n",
    "                    for experience in episode_data:\n",
    "                        self.replay_buffer.push(*experience)\n",
    "                    \n",
    "                    # 记录统计信息\n",
    "                    episode_reward = sum([exp[2] for exp in episode_data])\n",
    "                    self.episode_rewards.append(episode_reward)\n",
    "                    self.episode_lengths.append(len(episode_data))\n",
    "                    self.episode_lines_cleared.append(lines_cleared_this_episode)\n",
    "                except queue.Empty:\n",
    "                    print(\"数据队列为空，跳过此次更新\")\n",
    "                    continue\n",
    "                \n",
    "                # 模型优化\n",
    "                if len(self.replay_buffer) >= self.config['batch_size']:\n",
    "                    for _ in range(self.config['update_frequency']):\n",
    "                        loss = self.optimize_model()\n",
    "                        if loss is not None:\n",
    "                            self.losses.append(loss)\n",
    "                \n",
    "                # 更新目标网络\n",
    "                if episode % self.config['target_update_frequency'] == 0:\n",
    "                    self.target_model.load_state_dict(self.model.state_dict())\n",
    "                \n",
    "                # 学习率调度\n",
    "                if episode % self.config['lr_step_size'] == 0:\n",
    "                    self.scheduler.step()\n",
    "                \n",
    "                # 保存检查点\n",
    "                if episode % self.config['save_frequency'] == 0:\n",
    "                    self.save_checkpoint(episode)\n",
    "                \n",
    "                # 打印进度\n",
    "                if episode % self.config['print_frequency'] == 0:\n",
    "                    self.print_progress(episode)\n",
    "        \n",
    "        finally:\n",
    "            # 停止数据生成线程\n",
    "            self.stop_data_generation.set()\n",
    "            for worker in workers:\n",
    "                worker.join(timeout=5)\n",
    "    \n",
    "    def save_checkpoint(self, episode):\n",
    "        \"\"\"保存检查点\"\"\"\n",
    "        checkpoint = {\n",
    "            'episode': episode,\n",
    "            'model_state_dict': self.model.state_dict(),\n",
    "            'target_model_state_dict': self.target_model.state_dict(),\n",
    "            'optimizer_state_dict': self.optimizer.state_dict(),\n",
    "            'scheduler_state_dict': self.scheduler.state_dict(),\n",
    "            'episode_rewards': self.episode_rewards,\n",
    "            'episode_lengths': self.episode_lengths,\n",
    "            'losses': self.losses,\n",
    "            'config': self.config\n",
    "        }\n",
    "        \n",
    "        torch.save(checkpoint, f'dqn_checkpoint_episode_{episode}.pth')\n",
    "        \n",
    "        # 保存最佳模型\n",
    "        if len(self.episode_rewards) > 100:\n",
    "            recent_avg = np.mean(self.episode_rewards[-100:])\n",
    "            if not hasattr(self, 'best_avg_reward') or recent_avg > self.best_avg_reward:\n",
    "                self.best_avg_reward = recent_avg\n",
    "                torch.save(self.model.state_dict(), 'best_dqn_model.pth')\n",
    "    \n",
    "    def print_progress(self, episode):\n",
    "        \"\"\"打印训练进度\"\"\"\n",
    "        if len(self.episode_rewards) == 0:\n",
    "            return\n",
    "            \n",
    "        recent_rewards = self.episode_rewards[-100:] if len(self.episode_rewards) >= 100 else self.episode_rewards\n",
    "        recent_lengths = self.episode_lengths[-100:] if len(self.episode_lengths) >= 100 else self.episode_lengths\n",
    "        recent_losses = self.losses[-100:] if len(self.losses) >= 100 else self.losses\n",
    "        recent_lines = self.episode_lines_cleared[-100:] if len(self.episode_lines_cleared) >= 100 else self.episode_lines_cleared\n",
    "        \n",
    "        avg_reward = np.mean(recent_rewards)\n",
    "        avg_length = np.mean(recent_lengths)\n",
    "        avg_loss = np.mean(recent_losses) if recent_losses else 0\n",
    "        avg_cleared = np.mean(recent_lines) if recent_lines else 0\n",
    "        epsilon = self.epsilon_by_episode(episode)\n",
    "        lr = self.scheduler.get_last_lr()[0]\n",
    "        \n",
    "        print(f\"\\nEpisode {episode}\")\n",
    "        print(f\"平均奖励: {avg_reward:.2f}\")\n",
    "        print(f\"平均长度: {avg_length:.1f}\")\n",
    "        print(f\"平均损失: {avg_loss:.4f}\")\n",
    "        print(f\"平均消行: {avg_cleared:.2f}\")\n",
    "        print(f\"Epsilon: {epsilon:.3f}\")\n",
    "        print(f\"学习率: {lr:.6f}\")\n",
    "        print(f\"缓冲区大小: {len(self.replay_buffer)}\")\n",
    "\n",
    "# 训练配置\n",
    "config = {\n",
    "    'num_episodes': 100000,\n",
    "    'max_episode_length': 1000,\n",
    "    'batch_size': 64,\n",
    "    'buffer_size': 10000,\n",
    "    'learning_rate': 5e-4,\n",
    "    'weight_decay': 1e-5,\n",
    "    'gamma': 0.85,\n",
    "    'epsilon_start': 0.8,\n",
    "    'epsilon_end': 0.05,\n",
    "    'epsilon_decay': 7000,\n",
    "    'target_update_frequency': 300,\n",
    "    'update_frequency': 4,\n",
    "    'lr_step_size': 1500,\n",
    "    'lr_gamma': 0.9,\n",
    "    'grad_clip': 10.0,\n",
    "    'save_frequency': 2000,\n",
    "    'print_frequency': 100,\n",
    "    'queue_size': 50,\n",
    "    'num_actions': 120,\n",
    "    'use_prioritized_replay': True,\n",
    "    'use_double_dqn': True,\n",
    "    'use_huber_loss': True\n",
    "}\n",
    "\n",
    "# 创建训练器并开始训练\n",
    "if __name__ == \"__main__\":\n",
    "    # 创建环境\n",
    "    env = TetrisEnvironment()\n",
    "    dqn_model = TetrisDQN(num_actions=120, dropout_rate=0.3)\n",
    "    load_pretrained_tetris_to_dqn(dqn_model, 'tetris_model3_1.2M.pth')\n",
    "    # dqn_model.load_state_dict(torch.load('best_dqn_model.pth', map_location=device))#\n",
    "    print(\"DQN模型创建完成!\")\n",
    "    print(f\"模型参数数量: {sum(p.numel() for p in dqn_model.parameters()):,}\")\n",
    "    print(f\"可训练参数数量: {sum(p.numel() for p in dqn_model.parameters() if p.requires_grad):,}\")\n",
    "    target_model = TetrisDQN(num_actions=120, dropout_rate=0.1)\n",
    "    load_pretrained_tetris_to_dqn(target_model, 'tetris_model3_1.2M.pth')\n",
    "    # target_model.load_state_dict(torch.load('best_dqn_model.pth', map_location=device))\n",
    "    # 创建训练器\n",
    "    trainer = DQNTrainer(dqn_model, target_model, env, config)\n",
    "    # 开始训练\n",
    "    trainer.train()\n",
    "    \n",
    "    print(\"训练完成！\")"
   ]
  }
 ],
 "metadata": {
  "kernelspec": {
   "display_name": "base",
   "language": "python",
   "name": "python3"
  },
  "language_info": {
   "codemirror_mode": {
    "name": "ipython",
    "version": 3
   },
   "file_extension": ".py",
   "mimetype": "text/x-python",
   "name": "python",
   "nbconvert_exporter": "python",
   "pygments_lexer": "ipython3",
   "version": "3.11.7"
  }
 },
 "nbformat": 4,
 "nbformat_minor": 5
}
